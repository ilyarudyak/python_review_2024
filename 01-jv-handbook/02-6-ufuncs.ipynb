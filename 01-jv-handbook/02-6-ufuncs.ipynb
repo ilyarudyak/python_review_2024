{
 "cells": [
  {
   "cell_type": "code",
   "execution_count": 1,
   "id": "9627cae0-c9bc-405d-bfb8-73fb1d2db1bb",
   "metadata": {},
   "outputs": [],
   "source": [
    "import numpy as np\n",
    "import pandas as pd"
   ]
  },
  {
   "cell_type": "markdown",
   "id": "0f7ac15a-b3be-4ee1-9d60-8440b24574b3",
   "metadata": {},
   "source": [
    "This is chapter 6 Computation on NumPy Arrays: Universal Functions. It seems this is important not only for NumPy, but for Pandas as well."
   ]
  },
  {
   "cell_type": "markdown",
   "id": "de4396e5-36de-4bb8-a7ca-edf7a7d4d278",
   "metadata": {},
   "source": [
    "## The Slowness of Loops"
   ]
  },
  {
   "cell_type": "code",
   "execution_count": 2,
   "id": "c99e26f2-fdd4-4682-82bf-7d8b46902ce2",
   "metadata": {},
   "outputs": [],
   "source": [
    "rng = np.random.default_rng(seed=1701)"
   ]
  },
  {
   "cell_type": "code",
   "execution_count": 3,
   "id": "e6ca3796-a3af-4c73-a287-3f4aa63f3a01",
   "metadata": {},
   "outputs": [],
   "source": [
    "# for [a, b, c] compute [1/a, 1/b, 1/c]\n",
    "def compute_reciprocals(values): \n",
    "    output = np.empty(len(values)) \n",
    "    for i in range(len(values)):\n",
    "        output[i] = 1.0 / values[i] \n",
    "    return output"
   ]
  },
  {
   "cell_type": "code",
   "execution_count": 4,
   "id": "57255f21-4148-4a46-a6c7-cdbad62b9637",
   "metadata": {},
   "outputs": [],
   "source": [
    "big_array = rng.integers(1, 100, size=10_000_000)"
   ]
  },
  {
   "cell_type": "code",
   "execution_count": 5,
   "id": "83d29f69-3a84-4c49-ab46-c21f7dc0d8c9",
   "metadata": {},
   "outputs": [
    {
     "name": "stdout",
     "output_type": "stream",
     "text": [
      "5.93 s ± 48.5 ms per loop (mean ± std. dev. of 7 runs, 1 loop each)\n"
     ]
    }
   ],
   "source": [
    "%timeit compute_reciprocals(big_array)"
   ]
  },
  {
   "cell_type": "markdown",
   "id": "ec6969aa-c13c-49de-850e-e96e75a08bbb",
   "metadata": {},
   "source": [
    "### Introducing Ufuncs"
   ]
  },
  {
   "cell_type": "markdown",
   "id": "07538901-d8d9-436c-adcd-83b918efdb8d",
   "metadata": {},
   "source": [
    "Let's compare this with NumPy ufuncs."
   ]
  },
  {
   "cell_type": "code",
   "execution_count": 6,
   "id": "d9091d78-0aea-42a2-8762-ff89dbb664da",
   "metadata": {},
   "outputs": [
    {
     "name": "stdout",
     "output_type": "stream",
     "text": [
      "10_000_000\n"
     ]
    }
   ],
   "source": [
    "print(f\"{big_array.size:_}\")"
   ]
  },
  {
   "cell_type": "code",
   "execution_count": 7,
   "id": "8cc3a5ff-5b1b-43c0-8d29-8d58a6474829",
   "metadata": {},
   "outputs": [
    {
     "name": "stdout",
     "output_type": "stream",
     "text": [
      "7.23 ms ± 86 μs per loop (mean ± std. dev. of 7 runs, 100 loops each)\n"
     ]
    }
   ],
   "source": [
    "%timeit (1.0 / big_array)"
   ]
  },
  {
   "cell_type": "markdown",
   "id": "e6112e31-d349-434e-9765-042c6d5637d2",
   "metadata": {},
   "source": [
    "## Exploring NumPy’s Ufuncs"
   ]
  },
  {
   "cell_type": "markdown",
   "id": "8176b9d2-08e1-4a61-a332-b710cb5650f6",
   "metadata": {},
   "source": [
    "- Array Arithmetic. First of all, all usual Python operators are overloaded for use with NumPy arrays.\n",
    "- Absolute values. We also have analogues for some functions in Python, for example, `np.abs` to get an absolute value."
   ]
  },
  {
   "cell_type": "markdown",
   "id": "1bffb1fe-e989-46e7-8783-23a6bd9c9eb4",
   "metadata": {},
   "source": [
    "It's interesting that we may exponentiate an array or use it as an exponent itself."
   ]
  },
  {
   "cell_type": "code",
   "execution_count": 16,
   "id": "19670ef5-bdb2-42be-82f8-e1a4b91f68c5",
   "metadata": {},
   "outputs": [],
   "source": [
    "x = np.array([1, 2, 3])"
   ]
  },
  {
   "cell_type": "code",
   "execution_count": 17,
   "id": "8c30accd-c6e7-4137-9d54-de7e7390ee80",
   "metadata": {},
   "outputs": [
    {
     "data": {
      "text/plain": [
       "array([1, 4, 9])"
      ]
     },
     "execution_count": 17,
     "metadata": {},
     "output_type": "execute_result"
    }
   ],
   "source": [
    "x ** 2"
   ]
  },
  {
   "cell_type": "code",
   "execution_count": 23,
   "id": "e6bbbd63-3f96-48f4-bce0-d27f0e7d8d31",
   "metadata": {},
   "outputs": [
    {
     "data": {
      "text/plain": [
       "array([1, 4, 9])"
      ]
     },
     "execution_count": 23,
     "metadata": {},
     "output_type": "execute_result"
    }
   ],
   "source": [
    "np.power(x, 2)"
   ]
  },
  {
   "cell_type": "code",
   "execution_count": 22,
   "id": "e4a55ba3-a3cb-43b2-809e-0718aa6ce37f",
   "metadata": {},
   "outputs": [
    {
     "data": {
      "text/plain": [
       "array([2, 4, 8])"
      ]
     },
     "execution_count": 22,
     "metadata": {},
     "output_type": "execute_result"
    }
   ],
   "source": [
    "np.power(2, x)"
   ]
  },
  {
   "cell_type": "markdown",
   "id": "39d961c1-a309-48a3-854e-41b7d7571905",
   "metadata": {},
   "source": [
    "Not clear if we can use `^` instead of this as in the book. It does not seem to work."
   ]
  },
  {
   "cell_type": "markdown",
   "id": "2a2d0051-190c-4f7a-99cc-fb4e6b613d7d",
   "metadata": {},
   "source": [
    "Here's some advanced Ufunc features:\n",
    "- First of all, we may specify the result array. This may reduce the number of copies.\n",
    "- There's a famous `reduce()` function:\n",
    "> A reduce repeatedly applies a given operation to the elements of an array until only a single result remains. If we’d like to store all the intermediate results of the computation, we can instead use `accumulate()`."
   ]
  },
  {
   "cell_type": "code",
   "execution_count": 24,
   "id": "3936d482-9057-46ae-84a0-921db6f52192",
   "metadata": {},
   "outputs": [],
   "source": [
    "x = np.arange(1, 6)"
   ]
  },
  {
   "cell_type": "code",
   "execution_count": 25,
   "id": "bfd15b01-35e0-4703-82a6-6bd25c450a93",
   "metadata": {},
   "outputs": [
    {
     "data": {
      "text/plain": [
       "array([1, 2, 3, 4, 5])"
      ]
     },
     "execution_count": 25,
     "metadata": {},
     "output_type": "execute_result"
    }
   ],
   "source": [
    "x"
   ]
  },
  {
   "cell_type": "code",
   "execution_count": 26,
   "id": "c8b1ce00-d546-4faf-b77e-5566439cfba5",
   "metadata": {},
   "outputs": [
    {
     "data": {
      "text/plain": [
       "np.int64(15)"
      ]
     },
     "execution_count": 26,
     "metadata": {},
     "output_type": "execute_result"
    }
   ],
   "source": [
    "np.add.reduce(x)"
   ]
  },
  {
   "cell_type": "code",
   "execution_count": null,
   "id": "20bb39fa-020d-4073-baa9-438c2243ad88",
   "metadata": {},
   "outputs": [],
   "source": []
  },
  {
   "cell_type": "code",
   "execution_count": null,
   "id": "27f3146a-1d49-4709-878d-b9fe5e310dae",
   "metadata": {},
   "outputs": [],
   "source": []
  },
  {
   "cell_type": "code",
   "execution_count": null,
   "id": "1cffe79b-4ac4-4842-ace3-f8aa97cde692",
   "metadata": {},
   "outputs": [],
   "source": []
  }
 ],
 "metadata": {
  "kernelspec": {
   "display_name": "Python 3 (ipykernel)",
   "language": "python",
   "name": "python3"
  },
  "language_info": {
   "codemirror_mode": {
    "name": "ipython",
    "version": 3
   },
   "file_extension": ".py",
   "mimetype": "text/x-python",
   "name": "python",
   "nbconvert_exporter": "python",
   "pygments_lexer": "ipython3",
   "version": "3.12.4"
  }
 },
 "nbformat": 4,
 "nbformat_minor": 5
}
