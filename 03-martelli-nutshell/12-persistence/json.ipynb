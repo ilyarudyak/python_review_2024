{
 "cells": [
  {
   "cell_type": "code",
   "execution_count": 1,
   "id": "56928da3-4419-4bc8-b853-c095e4d1ab45",
   "metadata": {},
   "outputs": [],
   "source": [
    "import json"
   ]
  },
  {
   "cell_type": "markdown",
   "id": "22668eff-ecc6-481b-a372-dbaf2c76434a",
   "metadata": {},
   "source": [
    "The standard library’s `json` module supports serialization for Python’s native data types `(tuple, list, dict, int, str, etc.)`."
   ]
  },
  {
   "cell_type": "code",
   "execution_count": 2,
   "id": "e2cb1d68-ed08-47e6-8b76-5b7da4746ee8",
   "metadata": {},
   "outputs": [],
   "source": [
    "s = 'hello world'"
   ]
  },
  {
   "cell_type": "code",
   "execution_count": 3,
   "id": "ccdae263-eddb-4fad-ac38-701b52bb9cb5",
   "metadata": {},
   "outputs": [
    {
     "data": {
      "text/plain": [
       "'\"hello world\"'"
      ]
     },
     "execution_count": 3,
     "metadata": {},
     "output_type": "execute_result"
    }
   ],
   "source": [
    "json.dumps(s)"
   ]
  },
  {
   "cell_type": "code",
   "execution_count": 4,
   "id": "8a740a07-9fba-4a3b-abe7-f0430b1e14c7",
   "metadata": {},
   "outputs": [],
   "source": [
    "t = ('red', 'blue', 'green')"
   ]
  },
  {
   "cell_type": "code",
   "execution_count": 5,
   "id": "d9d16597-4ace-404d-869c-d5127627e3e4",
   "metadata": {},
   "outputs": [
    {
     "data": {
      "text/plain": [
       "'[\"red\", \"blue\", \"green\"]'"
      ]
     },
     "execution_count": 5,
     "metadata": {},
     "output_type": "execute_result"
    }
   ],
   "source": [
    "json.dumps(t)"
   ]
  },
  {
   "cell_type": "code",
   "execution_count": 6,
   "id": "7e50c22c-d5a4-4216-93f9-78b2d5d95630",
   "metadata": {},
   "outputs": [],
   "source": [
    "l = ['red', 'blue', 'green']"
   ]
  },
  {
   "cell_type": "code",
   "execution_count": 7,
   "id": "08e69ef9-90e7-43c5-90f0-01932519d9f4",
   "metadata": {},
   "outputs": [
    {
     "data": {
      "text/plain": [
       "'[\"red\", \"blue\", \"green\"]'"
      ]
     },
     "execution_count": 7,
     "metadata": {},
     "output_type": "execute_result"
    }
   ],
   "source": [
    "json.dumps(t)"
   ]
  },
  {
   "cell_type": "code",
   "execution_count": 8,
   "id": "6b7724e5-3396-4805-b102-bd219a91dc60",
   "metadata": {},
   "outputs": [],
   "source": [
    "li = [1, 2, 3]"
   ]
  },
  {
   "cell_type": "code",
   "execution_count": 9,
   "id": "56d756ea-f9ae-4e31-830e-eebaa4ddf7df",
   "metadata": {},
   "outputs": [
    {
     "data": {
      "text/plain": [
       "'[1, 2, 3]'"
      ]
     },
     "execution_count": 9,
     "metadata": {},
     "output_type": "execute_result"
    }
   ],
   "source": [
    "json.dumps(li)"
   ]
  },
  {
   "cell_type": "code",
   "execution_count": 11,
   "id": "fc6ad2bb-527b-4041-9232-a9cabfda1750",
   "metadata": {},
   "outputs": [],
   "source": [
    "d = {'a': s, 'b': t, 'c': l, 'd': li}"
   ]
  },
  {
   "cell_type": "code",
   "execution_count": 12,
   "id": "76cfad58-af08-4336-954a-dd251380e358",
   "metadata": {},
   "outputs": [
    {
     "data": {
      "text/plain": [
       "'{\"a\": \"hello world\", \"b\": [\"red\", \"blue\", \"green\"], \"c\": [\"red\", \"blue\", \"green\"], \"d\": [1, 2, 3]}'"
      ]
     },
     "execution_count": 12,
     "metadata": {},
     "output_type": "execute_result"
    }
   ],
   "source": [
    "json.dumps(d)"
   ]
  },
  {
   "cell_type": "code",
   "execution_count": 18,
   "id": "57279f01-6f82-49f0-aa7a-19b25053cf03",
   "metadata": {},
   "outputs": [
    {
     "name": "stdout",
     "output_type": "stream",
     "text": [
      "{\n",
      "  \"a\": \"hello world\",\n",
      "  \"b\": [\n",
      "    \"red\",\n",
      "    \"blue\",\n",
      "    \"green\"\n",
      "  ],\n",
      "  \"c\": [\n",
      "    \"red\",\n",
      "    \"blue\",\n",
      "    \"green\"\n",
      "  ],\n",
      "  \"d\": [\n",
      "    1,\n",
      "    2,\n",
      "    3\n",
      "  ]\n",
      "}\n"
     ]
    }
   ],
   "source": [
    "print(json.dumps(d, indent=2))"
   ]
  },
  {
   "cell_type": "code",
   "execution_count": 15,
   "id": "f9d9df32-e43b-45aa-ace5-e31c092fc02e",
   "metadata": {},
   "outputs": [],
   "source": [
    "with open('d.json', 'w') as file:\n",
    "    json.dump(d, file)"
   ]
  }
 ],
 "metadata": {
  "kernelspec": {
   "display_name": "Python 3 (ipykernel)",
   "language": "python",
   "name": "python3"
  },
  "language_info": {
   "codemirror_mode": {
    "name": "ipython",
    "version": 3
   },
   "file_extension": ".py",
   "mimetype": "text/x-python",
   "name": "python",
   "nbconvert_exporter": "python",
   "pygments_lexer": "ipython3",
   "version": "3.12.4"
  }
 },
 "nbformat": 4,
 "nbformat_minor": 5
}
