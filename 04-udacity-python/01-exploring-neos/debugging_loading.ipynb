{
 "cells": [
  {
   "cell_type": "code",
   "execution_count": 1,
   "metadata": {},
   "outputs": [],
   "source": [
    "import extract\n",
    "\n",
    "# Add import to autoreload module\n",
    "%load_ext autoreload\n",
    "%autoreload 2"
   ]
  },
  {
   "cell_type": "markdown",
   "metadata": {},
   "source": [
    "### Debugging loading NEOs"
   ]
  },
  {
   "cell_type": "code",
   "execution_count": 2,
   "metadata": {},
   "outputs": [],
   "source": [
    "neos = extract.load_neos()"
   ]
  },
  {
   "cell_type": "code",
   "execution_count": 3,
   "metadata": {},
   "outputs": [
    {
     "data": {
      "text/plain": [
       "[NearEarthObject(designation='433', name='Eros', diameter=16.84, hazardous=False),\n",
       " NearEarthObject(designation='719', name='Albert', diameter=nan, hazardous=False),\n",
       " NearEarthObject(designation='887', name='Alinda', diameter=4.2, hazardous=False),\n",
       " NearEarthObject(designation='1036', name='Ganymed', diameter=37.675, hazardous=False),\n",
       " NearEarthObject(designation='1221', name='Amor', diameter=1.0, hazardous=False),\n",
       " NearEarthObject(designation='1566', name='Icarus', diameter=1.0, hazardous=True),\n",
       " NearEarthObject(designation='1580', name='Betulia', diameter=5.8, hazardous=False),\n",
       " NearEarthObject(designation='1620', name='Geographos', diameter=2.56, hazardous=True),\n",
       " NearEarthObject(designation='1627', name='Ivar', diameter=9.12, hazardous=False)]"
      ]
     },
     "execution_count": 3,
     "metadata": {},
     "output_type": "execute_result"
    }
   ],
   "source": [
    "neos"
   ]
  },
  {
   "cell_type": "code",
   "execution_count": 4,
   "metadata": {},
   "outputs": [
    {
     "name": "stdout",
     "output_type": "stream",
     "text": [
      "NEO 433 (Eros) has a diameter of 16.840 km and is not hazardous\n",
      "NEO 719 (Albert) has a diameter of nan km and is not hazardous\n",
      "NEO 887 (Alinda) has a diameter of 4.200 km and is not hazardous\n",
      "NEO 1036 (Ganymed) has a diameter of 37.675 km and is not hazardous\n",
      "NEO 1221 (Amor) has a diameter of 1.000 km and is not hazardous\n",
      "NEO 1566 (Icarus) has a diameter of 1.000 km and is hazardous\n",
      "NEO 1580 (Betulia) has a diameter of 5.800 km and is not hazardous\n",
      "NEO 1620 (Geographos) has a diameter of 2.560 km and is hazardous\n",
      "NEO 1627 (Ivar) has a diameter of 9.120 km and is not hazardous\n"
     ]
    }
   ],
   "source": [
    "for neo in neos:\n",
    "    print(neo)"
   ]
  },
  {
   "cell_type": "markdown",
   "metadata": {},
   "source": [
    "### Debugging loading approaches"
   ]
  },
  {
   "cell_type": "code",
   "execution_count": 10,
   "metadata": {},
   "outputs": [],
   "source": [
    "approaches = extract.load_approaches()"
   ]
  },
  {
   "cell_type": "code",
   "execution_count": 11,
   "metadata": {},
   "outputs": [
    {
     "data": {
      "text/plain": [
       "[CloseApproach(time='1900-01-01 00:11', distance=0.0921795123769547, velocity=16.7523040362574, neo=None),\n",
       " CloseApproach(time='1900-01-01 02:33', distance=0.414975519685102, velocity=17.918395877175, neo=None),\n",
       " CloseApproach(time='1900-01-01 03:13', distance=0.114291499199114, velocity=7.39720266467069, neo=None),\n",
       " CloseApproach(time='1900-01-01 05:01', distance=0.237367466253556, velocity=4.78123058453747, neo=None),\n",
       " CloseApproach(time='1900-01-01 07:16', distance=0.388708125934362, velocity=9.93428771818077, neo=None),\n",
       " CloseApproach(time='1900-01-01 11:31', distance=0.265595097262832, velocity=12.9820111475198, neo=None),\n",
       " CloseApproach(time='1900-01-01 22:29', distance=0.16954831857353, velocity=13.7093290852165, neo=None),\n",
       " CloseApproach(time='1900-01-02 03:06', distance=0.136285982199696, velocity=15.9485144474955, neo=None),\n",
       " CloseApproach(time='1900-01-02 14:37', distance=0.472652696028382, velocity=13.1582195637664, neo=None),\n",
       " CloseApproach(time='1900-01-03 02:43', distance=0.102777933574707, velocity=19.1396542140912, neo=None),\n",
       " CloseApproach(time='1900-01-03 07:59', distance=0.453946370779929, velocity=17.0357953734035, neo=None),\n",
       " CloseApproach(time='1900-01-03 16:22', distance=0.159244417297628, velocity=7.49984896759195, neo=None),\n",
       " CloseApproach(time='1900-01-04 02:14', distance=0.0613271069878113, velocity=17.5919747363924, neo=None),\n",
       " CloseApproach(time='1900-01-04 02:15', distance=0.0896594481006531, velocity=5.25811702889311, neo=None),\n",
       " CloseApproach(time='1900-01-04 07:06', distance=0.241201580560432, velocity=7.09896111644164, neo=None),\n",
       " CloseApproach(time='1900-01-04 11:44', distance=0.467586076991898, velocity=8.61537237580318, neo=None),\n",
       " CloseApproach(time='1900-01-04 13:29', distance=0.227141228746983, velocity=7.32875403551082, neo=None),\n",
       " CloseApproach(time='1900-01-04 20:08', distance=0.305992931392121, velocity=10.4558955007801, neo=None),\n",
       " CloseApproach(time='1900-01-04 22:25', distance=0.00963163050890343, velocity=8.68671235487576, neo=None),\n",
       " CloseApproach(time='1900-01-05 00:35', distance=0.411270570050434, velocity=13.2576763498938, neo=None),\n",
       " CloseApproach(time='1900-01-05 02:21', distance=0.400522748944379, velocity=15.9034361109744, neo=None),\n",
       " CloseApproach(time='1900-01-05 18:50', distance=0.150193497698214, velocity=16.8069089637112, neo=None),\n",
       " CloseApproach(time='1900-01-06 08:36', distance=0.107983115542596, velocity=25.1726635645577, neo=None),\n",
       " CloseApproach(time='1900-01-06 15:27', distance=0.226602305028109, velocity=16.1219089620023, neo=None),\n",
       " CloseApproach(time='1900-01-06 19:10', distance=0.276663799042228, velocity=3.91456924777744, neo=None),\n",
       " CloseApproach(time='1900-01-07 02:25', distance=0.446621621547469, velocity=20.3022856352463, neo=None),\n",
       " CloseApproach(time='1900-01-07 04:24', distance=0.268329223106359, velocity=15.3641657890929, neo=None),\n",
       " CloseApproach(time='1900-01-07 10:40', distance=0.0501693406103425, velocity=11.5943542018662, neo=None),\n",
       " CloseApproach(time='1900-01-07 11:39', distance=0.497463536842012, velocity=29.7407336084942, neo=None),\n",
       " CloseApproach(time='1900-01-07 11:45', distance=0.297982950097148, velocity=23.64961999158, neo=None),\n",
       " CloseApproach(time='1900-01-07 13:02', distance=0.321371514490411, velocity=12.0911268134064, neo=None),\n",
       " CloseApproach(time='1900-01-08 05:55', distance=0.388921736001517, velocity=38.1288469741292, neo=None),\n",
       " CloseApproach(time='1900-01-08 06:58', distance=0.456159997327164, velocity=22.0131437880049, neo=None),\n",
       " CloseApproach(time='1900-01-08 12:45', distance=0.458473927353192, velocity=20.1824511066352, neo=None),\n",
       " CloseApproach(time='1900-01-08 16:19', distance=0.493906216629329, velocity=29.0456356850774, neo=None),\n",
       " CloseApproach(time='1900-01-08 21:51', distance=0.480423384633307, velocity=7.91692454334922, neo=None),\n",
       " CloseApproach(time='1900-01-09 01:19', distance=0.491699533009261, velocity=20.7305178073618, neo=None),\n",
       " CloseApproach(time='1900-01-10 04:49', distance=0.388959895911183, velocity=13.8552692132238, neo=None),\n",
       " CloseApproach(time='1900-01-10 05:16', distance=0.240734913980186, velocity=10.0022307329026, neo=None),\n",
       " CloseApproach(time='1900-01-10 17:04', distance=0.238767168673485, velocity=24.3299714208763, neo=None),\n",
       " CloseApproach(time='1900-01-10 20:51', distance=0.406041957788773, velocity=17.5210201332243, neo=None),\n",
       " CloseApproach(time='1900-01-11 01:03', distance=0.0399503744314043, velocity=10.6517620667135, neo=None),\n",
       " CloseApproach(time='1900-01-11 04:47', distance=0.392364181885413, velocity=19.5482899845488, neo=None),\n",
       " CloseApproach(time='1900-01-11 04:49', distance=0.286402333598779, velocity=12.1662130280382, neo=None),\n",
       " CloseApproach(time='1900-01-11 15:08', distance=0.475480533182621, velocity=17.7734806854548, neo=None),\n",
       " CloseApproach(time='1900-01-11 18:12', distance=0.438308708994297, velocity=14.7801186604887, neo=None),\n",
       " CloseApproach(time='1900-01-12 01:54', distance=0.266414914372416, velocity=30.0299315208639, neo=None),\n",
       " CloseApproach(time='1900-01-12 09:36', distance=0.425032928442202, velocity=16.5787532677593, neo=None),\n",
       " CloseApproach(time='1900-01-12 20:37', distance=0.468860311990042, velocity=21.8717207260646, neo=None),\n",
       " CloseApproach(time='1900-01-12 23:20', distance=0.311388742536826, velocity=11.0560909820015, neo=None),\n",
       " CloseApproach(time='1900-01-12 23:41', distance=0.0506692154529826, velocity=7.18556395679003, neo=None),\n",
       " CloseApproach(time='1900-01-13 10:00', distance=0.471900069267089, velocity=10.2671770437104, neo=None),\n",
       " CloseApproach(time='1900-01-13 10:57', distance=0.0963544759714214, velocity=3.83247820742813, neo=None),\n",
       " CloseApproach(time='1900-01-13 15:39', distance=0.345717761574566, velocity=40.8019476708698, neo=None),\n",
       " CloseApproach(time='1900-01-14 00:37', distance=0.314597065949437, velocity=8.71974767032819, neo=None),\n",
       " CloseApproach(time='1900-01-14 02:59', distance=0.388223079807781, velocity=23.9346169955859, neo=None),\n",
       " CloseApproach(time='1900-01-14 17:45', distance=0.203447756957336, velocity=9.41260718857503, neo=None),\n",
       " CloseApproach(time='1900-01-14 18:53', distance=0.271718394237645, velocity=29.6450427680455, neo=None),\n",
       " CloseApproach(time='1900-01-15 23:52', distance=0.313581867491944, velocity=21.1402306518739, neo=None),\n",
       " CloseApproach(time='1900-01-17 03:35', distance=0.285061331775415, velocity=9.49265218266808, neo=None),\n",
       " CloseApproach(time='1900-01-17 15:39', distance=0.292001107490939, velocity=10.1975668657453, neo=None),\n",
       " CloseApproach(time='1900-01-17 20:43', distance=0.489534777306889, velocity=9.57110302803398, neo=None),\n",
       " CloseApproach(time='1900-01-18 16:09', distance=0.471440559381634, velocity=36.7128077149877, neo=None),\n",
       " CloseApproach(time='1900-01-18 17:34', distance=0.362879145135498, velocity=6.59921903868085, neo=None),\n",
       " CloseApproach(time='1900-01-18 19:38', distance=0.429182411852916, velocity=14.0887397157725, neo=None),\n",
       " CloseApproach(time='1900-01-18 20:16', distance=0.163490897045606, velocity=14.9409261570654, neo=None),\n",
       " CloseApproach(time='1900-01-18 21:20', distance=0.477769566878141, velocity=12.5861447038607, neo=None),\n",
       " CloseApproach(time='1900-01-19 10:44', distance=0.18458249826359, velocity=12.5570979266593, neo=None),\n",
       " CloseApproach(time='1900-01-19 12:10', distance=0.125909302838039, velocity=11.2688999968118, neo=None),\n",
       " CloseApproach(time='1900-01-19 14:39', distance=0.253282652743456, velocity=22.3595386671881, neo=None),\n",
       " CloseApproach(time='1900-01-19 17:58', distance=0.277203288146076, velocity=3.08082424324228, neo=None),\n",
       " CloseApproach(time='1900-01-19 23:52', distance=0.0703403240904159, velocity=12.4462507733049, neo=None),\n",
       " CloseApproach(time='1900-01-20 09:10', distance=0.32374365844674, velocity=12.6508667770672, neo=None),\n",
       " CloseApproach(time='1900-01-20 15:58', distance=0.485995705241968, velocity=26.7600323599292, neo=None),\n",
       " CloseApproach(time='1900-01-20 16:23', distance=0.424729996748519, velocity=10.7411408054357, neo=None),\n",
       " CloseApproach(time='1900-01-21 01:20', distance=0.464764710794231, velocity=18.9439800825134, neo=None),\n",
       " CloseApproach(time='1900-01-21 09:10', distance=0.382939827336913, velocity=20.5436193784783, neo=None),\n",
       " CloseApproach(time='1900-01-21 10:57', distance=0.457352575101464, velocity=27.1821626862271, neo=None),\n",
       " CloseApproach(time='1900-01-21 20:08', distance=0.217158557726864, velocity=12.2820744421439, neo=None),\n",
       " CloseApproach(time='1900-01-21 21:39', distance=0.450282497409467, velocity=18.2731853918423, neo=None),\n",
       " CloseApproach(time='1900-01-21 22:12', distance=0.126367705609116, velocity=9.6018410074268, neo=None),\n",
       " CloseApproach(time='1900-01-22 05:36', distance=0.268175700016169, velocity=14.7527772477049, neo=None),\n",
       " CloseApproach(time='1900-01-22 06:33', distance=0.106848478480298, velocity=2.37897016494415, neo=None),\n",
       " CloseApproach(time='1900-01-22 09:24', distance=0.402687147172574, velocity=5.79508040599208, neo=None),\n",
       " CloseApproach(time='1900-01-22 14:01', distance=0.198264565234489, velocity=15.089175367235, neo=None),\n",
       " CloseApproach(time='1900-01-22 17:50', distance=0.384743821364728, velocity=7.57242647758838, neo=None),\n",
       " CloseApproach(time='1900-01-23 06:04', distance=0.26429007822371, velocity=14.2132604169053, neo=None),\n",
       " CloseApproach(time='1900-01-23 06:12', distance=0.447134932047643, velocity=13.2809115934941, neo=None),\n",
       " CloseApproach(time='1900-01-23 09:27', distance=0.226655707451639, velocity=12.8085203793973, neo=None),\n",
       " CloseApproach(time='1900-01-23 12:01', distance=0.414781359138289, velocity=21.1796396387869, neo=None),\n",
       " CloseApproach(time='1900-01-23 13:01', distance=0.4069274275736, velocity=9.61198163278794, neo=None),\n",
       " CloseApproach(time='1900-01-23 14:10', distance=0.347176497528288, velocity=2.89256946436197, neo=None),\n",
       " CloseApproach(time='1900-01-23 14:42', distance=0.460927459298998, velocity=6.68208543109199, neo=None),\n",
       " CloseApproach(time='1900-01-24 07:58', distance=0.331748764539181, velocity=10.8246796586408, neo=None),\n",
       " CloseApproach(time='1900-01-24 21:15', distance=0.379909602713298, velocity=43.4564069442203, neo=None),\n",
       " CloseApproach(time='1900-01-25 00:44', distance=0.277129493975689, velocity=8.51757570786104, neo=None),\n",
       " CloseApproach(time='1900-01-25 02:52', distance=0.204013514355447, velocity=20.6665601144423, neo=None),\n",
       " CloseApproach(time='1900-01-25 06:19', distance=0.396293025735583, velocity=7.79486141785945, neo=None),\n",
       " CloseApproach(time='1900-01-25 07:21', distance=0.397742914103989, velocity=24.463408977345, neo=None),\n",
       " CloseApproach(time='1900-01-25 12:36', distance=0.172090220925403, velocity=16.5753864950173, neo=None),\n",
       " CloseApproach(time='1900-01-25 15:24', distance=0.22786357608664, velocity=17.6638865993225, neo=None)]"
      ]
     },
     "execution_count": 11,
     "metadata": {},
     "output_type": "execute_result"
    }
   ],
   "source": [
    "approaches"
   ]
  },
  {
   "cell_type": "code",
   "execution_count": 12,
   "metadata": {},
   "outputs": [
    {
     "name": "stdout",
     "output_type": "stream",
     "text": [
      "A CloseApproach of unknown NEO on 1900-01-01 00:11 at a distance of 0.09 au and a velocity of 16.75 km/s\n",
      "A CloseApproach of unknown NEO on 1900-01-01 02:33 at a distance of 0.41 au and a velocity of 17.92 km/s\n",
      "A CloseApproach of unknown NEO on 1900-01-01 03:13 at a distance of 0.11 au and a velocity of 7.40 km/s\n",
      "A CloseApproach of unknown NEO on 1900-01-01 05:01 at a distance of 0.24 au and a velocity of 4.78 km/s\n",
      "A CloseApproach of unknown NEO on 1900-01-01 07:16 at a distance of 0.39 au and a velocity of 9.93 km/s\n",
      "A CloseApproach of unknown NEO on 1900-01-01 11:31 at a distance of 0.27 au and a velocity of 12.98 km/s\n",
      "A CloseApproach of unknown NEO on 1900-01-01 22:29 at a distance of 0.17 au and a velocity of 13.71 km/s\n",
      "A CloseApproach of unknown NEO on 1900-01-02 03:06 at a distance of 0.14 au and a velocity of 15.95 km/s\n",
      "A CloseApproach of unknown NEO on 1900-01-02 14:37 at a distance of 0.47 au and a velocity of 13.16 km/s\n",
      "A CloseApproach of unknown NEO on 1900-01-03 02:43 at a distance of 0.10 au and a velocity of 19.14 km/s\n",
      "A CloseApproach of unknown NEO on 1900-01-03 07:59 at a distance of 0.45 au and a velocity of 17.04 km/s\n",
      "A CloseApproach of unknown NEO on 1900-01-03 16:22 at a distance of 0.16 au and a velocity of 7.50 km/s\n",
      "A CloseApproach of unknown NEO on 1900-01-04 02:14 at a distance of 0.06 au and a velocity of 17.59 km/s\n",
      "A CloseApproach of unknown NEO on 1900-01-04 02:15 at a distance of 0.09 au and a velocity of 5.26 km/s\n",
      "A CloseApproach of unknown NEO on 1900-01-04 07:06 at a distance of 0.24 au and a velocity of 7.10 km/s\n",
      "A CloseApproach of unknown NEO on 1900-01-04 11:44 at a distance of 0.47 au and a velocity of 8.62 km/s\n",
      "A CloseApproach of unknown NEO on 1900-01-04 13:29 at a distance of 0.23 au and a velocity of 7.33 km/s\n",
      "A CloseApproach of unknown NEO on 1900-01-04 20:08 at a distance of 0.31 au and a velocity of 10.46 km/s\n",
      "A CloseApproach of unknown NEO on 1900-01-04 22:25 at a distance of 0.01 au and a velocity of 8.69 km/s\n",
      "A CloseApproach of unknown NEO on 1900-01-05 00:35 at a distance of 0.41 au and a velocity of 13.26 km/s\n",
      "A CloseApproach of unknown NEO on 1900-01-05 02:21 at a distance of 0.40 au and a velocity of 15.90 km/s\n",
      "A CloseApproach of unknown NEO on 1900-01-05 18:50 at a distance of 0.15 au and a velocity of 16.81 km/s\n",
      "A CloseApproach of unknown NEO on 1900-01-06 08:36 at a distance of 0.11 au and a velocity of 25.17 km/s\n",
      "A CloseApproach of unknown NEO on 1900-01-06 15:27 at a distance of 0.23 au and a velocity of 16.12 km/s\n",
      "A CloseApproach of unknown NEO on 1900-01-06 19:10 at a distance of 0.28 au and a velocity of 3.91 km/s\n",
      "A CloseApproach of unknown NEO on 1900-01-07 02:25 at a distance of 0.45 au and a velocity of 20.30 km/s\n",
      "A CloseApproach of unknown NEO on 1900-01-07 04:24 at a distance of 0.27 au and a velocity of 15.36 km/s\n",
      "A CloseApproach of unknown NEO on 1900-01-07 10:40 at a distance of 0.05 au and a velocity of 11.59 km/s\n",
      "A CloseApproach of unknown NEO on 1900-01-07 11:39 at a distance of 0.50 au and a velocity of 29.74 km/s\n",
      "A CloseApproach of unknown NEO on 1900-01-07 11:45 at a distance of 0.30 au and a velocity of 23.65 km/s\n",
      "A CloseApproach of unknown NEO on 1900-01-07 13:02 at a distance of 0.32 au and a velocity of 12.09 km/s\n",
      "A CloseApproach of unknown NEO on 1900-01-08 05:55 at a distance of 0.39 au and a velocity of 38.13 km/s\n",
      "A CloseApproach of unknown NEO on 1900-01-08 06:58 at a distance of 0.46 au and a velocity of 22.01 km/s\n",
      "A CloseApproach of unknown NEO on 1900-01-08 12:45 at a distance of 0.46 au and a velocity of 20.18 km/s\n",
      "A CloseApproach of unknown NEO on 1900-01-08 16:19 at a distance of 0.49 au and a velocity of 29.05 km/s\n",
      "A CloseApproach of unknown NEO on 1900-01-08 21:51 at a distance of 0.48 au and a velocity of 7.92 km/s\n",
      "A CloseApproach of unknown NEO on 1900-01-09 01:19 at a distance of 0.49 au and a velocity of 20.73 km/s\n",
      "A CloseApproach of unknown NEO on 1900-01-10 04:49 at a distance of 0.39 au and a velocity of 13.86 km/s\n",
      "A CloseApproach of unknown NEO on 1900-01-10 05:16 at a distance of 0.24 au and a velocity of 10.00 km/s\n",
      "A CloseApproach of unknown NEO on 1900-01-10 17:04 at a distance of 0.24 au and a velocity of 24.33 km/s\n",
      "A CloseApproach of unknown NEO on 1900-01-10 20:51 at a distance of 0.41 au and a velocity of 17.52 km/s\n",
      "A CloseApproach of unknown NEO on 1900-01-11 01:03 at a distance of 0.04 au and a velocity of 10.65 km/s\n",
      "A CloseApproach of unknown NEO on 1900-01-11 04:47 at a distance of 0.39 au and a velocity of 19.55 km/s\n",
      "A CloseApproach of unknown NEO on 1900-01-11 04:49 at a distance of 0.29 au and a velocity of 12.17 km/s\n",
      "A CloseApproach of unknown NEO on 1900-01-11 15:08 at a distance of 0.48 au and a velocity of 17.77 km/s\n",
      "A CloseApproach of unknown NEO on 1900-01-11 18:12 at a distance of 0.44 au and a velocity of 14.78 km/s\n",
      "A CloseApproach of unknown NEO on 1900-01-12 01:54 at a distance of 0.27 au and a velocity of 30.03 km/s\n",
      "A CloseApproach of unknown NEO on 1900-01-12 09:36 at a distance of 0.43 au and a velocity of 16.58 km/s\n",
      "A CloseApproach of unknown NEO on 1900-01-12 20:37 at a distance of 0.47 au and a velocity of 21.87 km/s\n",
      "A CloseApproach of unknown NEO on 1900-01-12 23:20 at a distance of 0.31 au and a velocity of 11.06 km/s\n",
      "A CloseApproach of unknown NEO on 1900-01-12 23:41 at a distance of 0.05 au and a velocity of 7.19 km/s\n",
      "A CloseApproach of unknown NEO on 1900-01-13 10:00 at a distance of 0.47 au and a velocity of 10.27 km/s\n",
      "A CloseApproach of unknown NEO on 1900-01-13 10:57 at a distance of 0.10 au and a velocity of 3.83 km/s\n",
      "A CloseApproach of unknown NEO on 1900-01-13 15:39 at a distance of 0.35 au and a velocity of 40.80 km/s\n",
      "A CloseApproach of unknown NEO on 1900-01-14 00:37 at a distance of 0.31 au and a velocity of 8.72 km/s\n",
      "A CloseApproach of unknown NEO on 1900-01-14 02:59 at a distance of 0.39 au and a velocity of 23.93 km/s\n",
      "A CloseApproach of unknown NEO on 1900-01-14 17:45 at a distance of 0.20 au and a velocity of 9.41 km/s\n",
      "A CloseApproach of unknown NEO on 1900-01-14 18:53 at a distance of 0.27 au and a velocity of 29.65 km/s\n",
      "A CloseApproach of unknown NEO on 1900-01-15 23:52 at a distance of 0.31 au and a velocity of 21.14 km/s\n",
      "A CloseApproach of unknown NEO on 1900-01-17 03:35 at a distance of 0.29 au and a velocity of 9.49 km/s\n",
      "A CloseApproach of unknown NEO on 1900-01-17 15:39 at a distance of 0.29 au and a velocity of 10.20 km/s\n",
      "A CloseApproach of unknown NEO on 1900-01-17 20:43 at a distance of 0.49 au and a velocity of 9.57 km/s\n",
      "A CloseApproach of unknown NEO on 1900-01-18 16:09 at a distance of 0.47 au and a velocity of 36.71 km/s\n",
      "A CloseApproach of unknown NEO on 1900-01-18 17:34 at a distance of 0.36 au and a velocity of 6.60 km/s\n",
      "A CloseApproach of unknown NEO on 1900-01-18 19:38 at a distance of 0.43 au and a velocity of 14.09 km/s\n",
      "A CloseApproach of unknown NEO on 1900-01-18 20:16 at a distance of 0.16 au and a velocity of 14.94 km/s\n",
      "A CloseApproach of unknown NEO on 1900-01-18 21:20 at a distance of 0.48 au and a velocity of 12.59 km/s\n",
      "A CloseApproach of unknown NEO on 1900-01-19 10:44 at a distance of 0.18 au and a velocity of 12.56 km/s\n",
      "A CloseApproach of unknown NEO on 1900-01-19 12:10 at a distance of 0.13 au and a velocity of 11.27 km/s\n",
      "A CloseApproach of unknown NEO on 1900-01-19 14:39 at a distance of 0.25 au and a velocity of 22.36 km/s\n",
      "A CloseApproach of unknown NEO on 1900-01-19 17:58 at a distance of 0.28 au and a velocity of 3.08 km/s\n",
      "A CloseApproach of unknown NEO on 1900-01-19 23:52 at a distance of 0.07 au and a velocity of 12.45 km/s\n",
      "A CloseApproach of unknown NEO on 1900-01-20 09:10 at a distance of 0.32 au and a velocity of 12.65 km/s\n",
      "A CloseApproach of unknown NEO on 1900-01-20 15:58 at a distance of 0.49 au and a velocity of 26.76 km/s\n",
      "A CloseApproach of unknown NEO on 1900-01-20 16:23 at a distance of 0.42 au and a velocity of 10.74 km/s\n",
      "A CloseApproach of unknown NEO on 1900-01-21 01:20 at a distance of 0.46 au and a velocity of 18.94 km/s\n",
      "A CloseApproach of unknown NEO on 1900-01-21 09:10 at a distance of 0.38 au and a velocity of 20.54 km/s\n",
      "A CloseApproach of unknown NEO on 1900-01-21 10:57 at a distance of 0.46 au and a velocity of 27.18 km/s\n",
      "A CloseApproach of unknown NEO on 1900-01-21 20:08 at a distance of 0.22 au and a velocity of 12.28 km/s\n",
      "A CloseApproach of unknown NEO on 1900-01-21 21:39 at a distance of 0.45 au and a velocity of 18.27 km/s\n",
      "A CloseApproach of unknown NEO on 1900-01-21 22:12 at a distance of 0.13 au and a velocity of 9.60 km/s\n",
      "A CloseApproach of unknown NEO on 1900-01-22 05:36 at a distance of 0.27 au and a velocity of 14.75 km/s\n",
      "A CloseApproach of unknown NEO on 1900-01-22 06:33 at a distance of 0.11 au and a velocity of 2.38 km/s\n",
      "A CloseApproach of unknown NEO on 1900-01-22 09:24 at a distance of 0.40 au and a velocity of 5.80 km/s\n",
      "A CloseApproach of unknown NEO on 1900-01-22 14:01 at a distance of 0.20 au and a velocity of 15.09 km/s\n",
      "A CloseApproach of unknown NEO on 1900-01-22 17:50 at a distance of 0.38 au and a velocity of 7.57 km/s\n",
      "A CloseApproach of unknown NEO on 1900-01-23 06:04 at a distance of 0.26 au and a velocity of 14.21 km/s\n",
      "A CloseApproach of unknown NEO on 1900-01-23 06:12 at a distance of 0.45 au and a velocity of 13.28 km/s\n",
      "A CloseApproach of unknown NEO on 1900-01-23 09:27 at a distance of 0.23 au and a velocity of 12.81 km/s\n",
      "A CloseApproach of unknown NEO on 1900-01-23 12:01 at a distance of 0.41 au and a velocity of 21.18 km/s\n",
      "A CloseApproach of unknown NEO on 1900-01-23 13:01 at a distance of 0.41 au and a velocity of 9.61 km/s\n",
      "A CloseApproach of unknown NEO on 1900-01-23 14:10 at a distance of 0.35 au and a velocity of 2.89 km/s\n",
      "A CloseApproach of unknown NEO on 1900-01-23 14:42 at a distance of 0.46 au and a velocity of 6.68 km/s\n",
      "A CloseApproach of unknown NEO on 1900-01-24 07:58 at a distance of 0.33 au and a velocity of 10.82 km/s\n",
      "A CloseApproach of unknown NEO on 1900-01-24 21:15 at a distance of 0.38 au and a velocity of 43.46 km/s\n",
      "A CloseApproach of unknown NEO on 1900-01-25 00:44 at a distance of 0.28 au and a velocity of 8.52 km/s\n",
      "A CloseApproach of unknown NEO on 1900-01-25 02:52 at a distance of 0.20 au and a velocity of 20.67 km/s\n",
      "A CloseApproach of unknown NEO on 1900-01-25 06:19 at a distance of 0.40 au and a velocity of 7.79 km/s\n",
      "A CloseApproach of unknown NEO on 1900-01-25 07:21 at a distance of 0.40 au and a velocity of 24.46 km/s\n",
      "A CloseApproach of unknown NEO on 1900-01-25 12:36 at a distance of 0.17 au and a velocity of 16.58 km/s\n",
      "A CloseApproach of unknown NEO on 1900-01-25 15:24 at a distance of 0.23 au and a velocity of 17.66 km/s\n"
     ]
    }
   ],
   "source": [
    "for approach in approaches:\n",
    "    print(approach)"
   ]
  },
  {
   "cell_type": "code",
   "execution_count": null,
   "metadata": {},
   "outputs": [],
   "source": []
  }
 ],
 "metadata": {
  "kernelspec": {
   "display_name": "venv",
   "language": "python",
   "name": "python3"
  },
  "language_info": {
   "codemirror_mode": {
    "name": "ipython",
    "version": 3
   },
   "file_extension": ".py",
   "mimetype": "text/x-python",
   "name": "python",
   "nbconvert_exporter": "python",
   "pygments_lexer": "ipython3",
   "version": "3.12.4"
  }
 },
 "nbformat": 4,
 "nbformat_minor": 2
}
