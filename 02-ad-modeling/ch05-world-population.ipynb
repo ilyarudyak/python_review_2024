{
 "cells": [
  {
   "cell_type": "code",
   "execution_count": 3,
   "id": "49c2d5f6-589c-4c43-a876-2dcf43dee667",
   "metadata": {},
   "outputs": [],
   "source": [
    "import numpy as np\n",
    "import pint\n",
    "import pandas as pd\n",
    "import matplotlib.pyplot as plt"
   ]
  },
  {
   "cell_type": "markdown",
   "id": "634f3d81-1bc1-4bc0-9e9c-8019d6814b1f",
   "metadata": {
    "jp-MarkdownHeadingCollapsed": true
   },
   "source": [
    "## What's new?"
   ]
  },
  {
   "cell_type": "markdown",
   "id": "684e1867-aa61-4886-990c-5f87c2f3d9bb",
   "metadata": {},
   "source": [
    "Let's describe here some new ideas:\n",
    "- It turns out we have a special function to read from an `html` source files.\n",
    "- We may easily simplify names of the columns;\n",
    "- Pandas has it's own approach to plotting functions, which is slightly different from what we have in `plt`;"
   ]
  },
  {
   "cell_type": "markdown",
   "id": "9b011375-e481-4bda-9234-82cd580a3093",
   "metadata": {},
   "source": [
    "## Getting the data"
   ]
  },
  {
   "cell_type": "code",
   "execution_count": 4,
   "id": "ae7d0bd1-ed4f-43fd-bff1-952aa3dbbefa",
   "metadata": {},
   "outputs": [],
   "source": [
    "filename = 'world_population_estimates.html'"
   ]
  },
  {
   "cell_type": "code",
   "execution_count": 5,
   "id": "b01d7d7e-54b9-451c-b306-ad2e4aa6f733",
   "metadata": {},
   "outputs": [],
   "source": [
    "dfs = pd.read_html(filename, \n",
    "                  header=0,\n",
    "                  index_col=0,\n",
    "                  decimal='M')"
   ]
  },
  {
   "cell_type": "code",
   "execution_count": 6,
   "id": "55a45024-4b76-4f64-9693-d1d4152a9025",
   "metadata": {},
   "outputs": [],
   "source": [
    "df50 = dfs[2]"
   ]
  },
  {
   "cell_type": "code",
   "execution_count": 7,
   "id": "ce092147-8064-4f96-8588-ec4a450d7855",
   "metadata": {},
   "outputs": [
    {
     "data": {
      "text/html": [
       "<div>\n",
       "<style scoped>\n",
       "    .dataframe tbody tr th:only-of-type {\n",
       "        vertical-align: middle;\n",
       "    }\n",
       "\n",
       "    .dataframe tbody tr th {\n",
       "        vertical-align: top;\n",
       "    }\n",
       "\n",
       "    .dataframe thead th {\n",
       "        text-align: right;\n",
       "    }\n",
       "</style>\n",
       "<table border=\"1\" class=\"dataframe\">\n",
       "  <thead>\n",
       "    <tr style=\"text-align: right;\">\n",
       "      <th></th>\n",
       "      <th>United States Census Bureau (2017)[28]</th>\n",
       "      <th>Population Reference Bureau (1973–2016)[15]</th>\n",
       "      <th>United Nations Department of Economic and Social Affairs (2015)[16]</th>\n",
       "      <th>Maddison (2008)[17]</th>\n",
       "      <th>HYDE (2007)[24]</th>\n",
       "      <th>Tanton (1994)[18]</th>\n",
       "      <th>Biraben (1980)[19]</th>\n",
       "      <th>McEvedy &amp; Jones (1978)[20]</th>\n",
       "      <th>Thomlinson (1975)[21]</th>\n",
       "      <th>Durand (1974)[22]</th>\n",
       "      <th>Clark (1967)[23]</th>\n",
       "    </tr>\n",
       "    <tr>\n",
       "      <th>Year</th>\n",
       "      <th></th>\n",
       "      <th></th>\n",
       "      <th></th>\n",
       "      <th></th>\n",
       "      <th></th>\n",
       "      <th></th>\n",
       "      <th></th>\n",
       "      <th></th>\n",
       "      <th></th>\n",
       "      <th></th>\n",
       "      <th></th>\n",
       "    </tr>\n",
       "  </thead>\n",
       "  <tbody>\n",
       "    <tr>\n",
       "      <th>1950</th>\n",
       "      <td>2557628654</td>\n",
       "      <td>2.516000e+09</td>\n",
       "      <td>2.525149e+09</td>\n",
       "      <td>2.544000e+09</td>\n",
       "      <td>2.527960e+09</td>\n",
       "      <td>2.400000e+09</td>\n",
       "      <td>2.527000e+09</td>\n",
       "      <td>2.500000e+09</td>\n",
       "      <td>2.400000e+09</td>\n",
       "      <td>NaN</td>\n",
       "      <td>2.486000e+09</td>\n",
       "    </tr>\n",
       "    <tr>\n",
       "      <th>1951</th>\n",
       "      <td>2594939877</td>\n",
       "      <td>NaN</td>\n",
       "      <td>2.572851e+09</td>\n",
       "      <td>2.571663e+09</td>\n",
       "      <td>NaN</td>\n",
       "      <td>NaN</td>\n",
       "      <td>NaN</td>\n",
       "      <td>NaN</td>\n",
       "      <td>NaN</td>\n",
       "      <td>NaN</td>\n",
       "      <td>NaN</td>\n",
       "    </tr>\n",
       "    <tr>\n",
       "      <th>1952</th>\n",
       "      <td>2636772306</td>\n",
       "      <td>NaN</td>\n",
       "      <td>2.619292e+09</td>\n",
       "      <td>2.617949e+09</td>\n",
       "      <td>NaN</td>\n",
       "      <td>NaN</td>\n",
       "      <td>NaN</td>\n",
       "      <td>NaN</td>\n",
       "      <td>NaN</td>\n",
       "      <td>NaN</td>\n",
       "      <td>NaN</td>\n",
       "    </tr>\n",
       "    <tr>\n",
       "      <th>1953</th>\n",
       "      <td>2682053389</td>\n",
       "      <td>NaN</td>\n",
       "      <td>2.665865e+09</td>\n",
       "      <td>2.665959e+09</td>\n",
       "      <td>NaN</td>\n",
       "      <td>NaN</td>\n",
       "      <td>NaN</td>\n",
       "      <td>NaN</td>\n",
       "      <td>NaN</td>\n",
       "      <td>NaN</td>\n",
       "      <td>NaN</td>\n",
       "    </tr>\n",
       "    <tr>\n",
       "      <th>1954</th>\n",
       "      <td>2730228104</td>\n",
       "      <td>NaN</td>\n",
       "      <td>2.713172e+09</td>\n",
       "      <td>2.716927e+09</td>\n",
       "      <td>NaN</td>\n",
       "      <td>NaN</td>\n",
       "      <td>NaN</td>\n",
       "      <td>NaN</td>\n",
       "      <td>NaN</td>\n",
       "      <td>NaN</td>\n",
       "      <td>NaN</td>\n",
       "    </tr>\n",
       "  </tbody>\n",
       "</table>\n",
       "</div>"
      ],
      "text/plain": [
       "      United States Census Bureau (2017)[28]  \\\n",
       "Year                                           \n",
       "1950                              2557628654   \n",
       "1951                              2594939877   \n",
       "1952                              2636772306   \n",
       "1953                              2682053389   \n",
       "1954                              2730228104   \n",
       "\n",
       "      Population Reference Bureau (1973–2016)[15]  \\\n",
       "Year                                                \n",
       "1950                                 2.516000e+09   \n",
       "1951                                          NaN   \n",
       "1952                                          NaN   \n",
       "1953                                          NaN   \n",
       "1954                                          NaN   \n",
       "\n",
       "      United Nations Department of Economic and Social Affairs (2015)[16]  \\\n",
       "Year                                                                        \n",
       "1950                                       2.525149e+09                     \n",
       "1951                                       2.572851e+09                     \n",
       "1952                                       2.619292e+09                     \n",
       "1953                                       2.665865e+09                     \n",
       "1954                                       2.713172e+09                     \n",
       "\n",
       "      Maddison (2008)[17]  HYDE (2007)[24]  Tanton (1994)[18]  \\\n",
       "Year                                                            \n",
       "1950         2.544000e+09     2.527960e+09       2.400000e+09   \n",
       "1951         2.571663e+09              NaN                NaN   \n",
       "1952         2.617949e+09              NaN                NaN   \n",
       "1953         2.665959e+09              NaN                NaN   \n",
       "1954         2.716927e+09              NaN                NaN   \n",
       "\n",
       "      Biraben (1980)[19]  McEvedy & Jones (1978)[20]  Thomlinson (1975)[21]  \\\n",
       "Year                                                                          \n",
       "1950        2.527000e+09                2.500000e+09           2.400000e+09   \n",
       "1951                 NaN                         NaN                    NaN   \n",
       "1952                 NaN                         NaN                    NaN   \n",
       "1953                 NaN                         NaN                    NaN   \n",
       "1954                 NaN                         NaN                    NaN   \n",
       "\n",
       "     Durand (1974)[22]  Clark (1967)[23]  \n",
       "Year                                      \n",
       "1950               NaN      2.486000e+09  \n",
       "1951               NaN               NaN  \n",
       "1952               NaN               NaN  \n",
       "1953               NaN               NaN  \n",
       "1954               NaN               NaN  "
      ]
     },
     "execution_count": 7,
     "metadata": {},
     "output_type": "execute_result"
    }
   ],
   "source": [
    "df50.head()"
   ]
  },
  {
   "cell_type": "code",
   "execution_count": 8,
   "id": "f642429d-1d06-4d93-ae9a-120e4ea40881",
   "metadata": {},
   "outputs": [
    {
     "data": {
      "text/plain": [
       "Index(['United States Census Bureau (2017)[28]',\n",
       "       'Population Reference Bureau (1973–2016)[15]',\n",
       "       'United Nations Department of Economic and Social Affairs (2015)[16]',\n",
       "       'Maddison (2008)[17]', 'HYDE (2007)[24]', 'Tanton (1994)[18]',\n",
       "       'Biraben (1980)[19]', 'McEvedy & Jones (1978)[20]',\n",
       "       'Thomlinson (1975)[21]', 'Durand (1974)[22]', 'Clark (1967)[23]'],\n",
       "      dtype='object')"
      ]
     },
     "execution_count": 8,
     "metadata": {},
     "output_type": "execute_result"
    }
   ],
   "source": [
    "df50.columns"
   ]
  },
  {
   "cell_type": "code",
   "execution_count": 9,
   "id": "095ca25e-4bc4-4a90-9a70-87be7587cec8",
   "metadata": {},
   "outputs": [
    {
     "data": {
      "text/plain": [
       "11"
      ]
     },
     "execution_count": 9,
     "metadata": {},
     "output_type": "execute_result"
    }
   ],
   "source": [
    "df50.columns.size"
   ]
  },
  {
   "cell_type": "markdown",
   "id": "a0afbc6f-ddae-4d0e-a2aa-72e3b5e2c2c8",
   "metadata": {},
   "source": [
    "First of all, let's replace the name of the columns with the shorter names."
   ]
  },
  {
   "cell_type": "code",
   "execution_count": 10,
   "id": "63467952-65bd-4cc8-aab4-4f76b4268c3b",
   "metadata": {},
   "outputs": [],
   "source": [
    "df50.columns = ['census', 'prb', 'un', 'maddison', \n",
    "              'hyde', 'tanton', 'biraben', 'mj', \n",
    "              'thomlinson', 'durand', 'clark']"
   ]
  },
  {
   "cell_type": "code",
   "execution_count": 11,
   "id": "3efee30f-ef64-434a-b2f4-a428cc94b111",
   "metadata": {},
   "outputs": [
    {
     "data": {
      "text/plain": [
       "Index(['census', 'prb', 'un', 'maddison', 'hyde', 'tanton', 'biraben', 'mj',\n",
       "       'thomlinson', 'durand', 'clark'],\n",
       "      dtype='object')"
      ]
     },
     "execution_count": 11,
     "metadata": {},
     "output_type": "execute_result"
    }
   ],
   "source": [
    "df50.columns"
   ]
  },
  {
   "cell_type": "code",
   "execution_count": 12,
   "id": "60a942c8-de7f-4d60-9ccf-5e0a44da79d4",
   "metadata": {},
   "outputs": [],
   "source": [
    "census = df50['census'] / 1e9"
   ]
  },
  {
   "cell_type": "code",
   "execution_count": 13,
   "id": "0fe4dd73-831d-4399-a41b-a832dc5feeb9",
   "metadata": {},
   "outputs": [
    {
     "data": {
      "text/plain": [
       "<bound method NDFrame.tail of Year\n",
       "1950    2.557629\n",
       "1951    2.594940\n",
       "1952    2.636772\n",
       "1953    2.682053\n",
       "1954    2.730228\n",
       "          ...   \n",
       "2012    7.013871\n",
       "2013    7.092128\n",
       "2014    7.169968\n",
       "2015    7.247893\n",
       "2016    7.325997\n",
       "Name: census, Length: 67, dtype: float64>"
      ]
     },
     "execution_count": 13,
     "metadata": {},
     "output_type": "execute_result"
    }
   ],
   "source": [
    "census.tail"
   ]
  },
  {
   "cell_type": "code",
   "execution_count": 14,
   "id": "86fd6723-bb9d-4c0e-8dd3-4eb3f9ced92c",
   "metadata": {},
   "outputs": [],
   "source": [
    "un = df50['un'] / 1e9"
   ]
  },
  {
   "cell_type": "code",
   "execution_count": 15,
   "id": "33f79b13-e251-4542-89d1-5cba85d7da84",
   "metadata": {},
   "outputs": [
    {
     "data": {
      "text/plain": [
       "<bound method NDFrame.tail of Year\n",
       "1950    2.525149\n",
       "1951    2.572851\n",
       "1952    2.619292\n",
       "1953    2.665865\n",
       "1954    2.713172\n",
       "          ...   \n",
       "2012    7.080072\n",
       "2013    7.162119\n",
       "2014    7.243784\n",
       "2015    7.349472\n",
       "2016         NaN\n",
       "Name: un, Length: 67, dtype: float64>"
      ]
     },
     "execution_count": 15,
     "metadata": {},
     "output_type": "execute_result"
    }
   ],
   "source": [
    "un.tail"
   ]
  },
  {
   "cell_type": "code",
   "execution_count": 16,
   "id": "0d6d0dd9-fe2f-413d-b332-32d86fda1183",
   "metadata": {},
   "outputs": [
    {
     "data": {
      "image/png": "[encoded data removed]",
      "text/plain": [
       "<Figure size 640x480 with 1 Axes>"
      ]
     },
     "metadata": {},
     "output_type": "display_data"
    }
   ],
   "source": [
    "plt.plot(census,linestyle=':', color='blue', label='US Census');\n",
    "plt.plot(un,linestyle='--', color='orange', label='UN DESA');\n",
    "plt.legend();\n",
    "plt.xlabel('Year')\n",
    "plt.ylabel('World population (billions)');\n",
    "plt.title('World population estimates');"
   ]
  },
  {
   "cell_type": "code",
   "execution_count": 17,
   "id": "2a4830ac-1f8d-40f6-95a9-f22a4fdc9288",
   "metadata": {},
   "outputs": [],
   "source": [
    "def plot_estimates():\n",
    "    plt.plot(census,linestyle=':', color='blue', label='US Census');\n",
    "    plt.plot(un,linestyle='--', color='orange', label='UN DESA');\n",
    "    plt.legend();\n",
    "    plt.xlabel('Year')\n",
    "    plt.ylabel('World population (billions)');\n",
    "    plt.title('World population estimates');"
   ]
  },
  {
   "cell_type": "code",
   "execution_count": 18,
   "id": "cca304fc-749c-4b86-9a59-091f0d6b6cb2",
   "metadata": {},
   "outputs": [
    {
     "data": {
      "image/png": "[encoded data removed]",
      "text/plain": [
       "<Figure size 640x480 with 1 Axes>"
      ]
     },
     "metadata": {},
     "output_type": "display_data"
    }
   ],
   "source": [
    "ax = census.plot(linestyle=':', label='US Census')\n",
    "un.plot(linestyle='--', label='UN DESA');\n",
    "ax.set_xlabel('Year')\n",
    "ax.set_ylabel('World population (billions)')\n",
    "ax.set_title('World population estimates')\n",
    "ax.legend();"
   ]
  },
  {
   "cell_type": "markdown",
   "id": "eb81556f-ec38-4222-88ea-bd2e19f77f0a",
   "metadata": {
    "jp-MarkdownHeadingCollapsed": true
   },
   "source": [
    "## Absolute and Relative Errors"
   ]
  },
  {
   "cell_type": "code",
   "execution_count": 19,
   "id": "eadbd075-c03d-4391-9638-50aa73e90dda",
   "metadata": {},
   "outputs": [],
   "source": [
    "abs_error = np.abs(un - census)"
   ]
  },
  {
   "cell_type": "code",
   "execution_count": 20,
   "id": "507713bc-21f7-4eb9-bd7b-15f8d26237e5",
   "metadata": {},
   "outputs": [
    {
     "data": {
      "text/plain": [
       "Year\n",
       "2012    0.066201\n",
       "2013    0.069991\n",
       "2014    0.073816\n",
       "2015    0.101579\n",
       "2016         NaN\n",
       "dtype: float64"
      ]
     },
     "execution_count": 20,
     "metadata": {},
     "output_type": "execute_result"
    }
   ],
   "source": [
    "abs_error.tail()"
   ]
  },
  {
   "cell_type": "code",
   "execution_count": 21,
   "id": "89df89d4-f2fc-41ab-8dc7-2658d617e66d",
   "metadata": {},
   "outputs": [
    {
     "data": {
      "text/plain": [
       "(0.029034508242424265, 0.10157921199999986)"
      ]
     },
     "execution_count": 21,
     "metadata": {},
     "output_type": "execute_result"
    }
   ],
   "source": [
    "float(np.mean(abs_error)), float(np.max(abs_error))"
   ]
  },
  {
   "cell_type": "code",
   "execution_count": 22,
   "id": "fc9ae66e-333b-4f02-805c-96ae12d4af70",
   "metadata": {},
   "outputs": [],
   "source": [
    "rel_error = 100 * abs_error / census"
   ]
  },
  {
   "cell_type": "code",
   "execution_count": 23,
   "id": "5b3d7972-22b8-4d18-bb34-265cf4edeba2",
   "metadata": {},
   "outputs": [
    {
     "data": {
      "text/plain": [
       "Year\n",
       "2012    0.943860\n",
       "2013    0.986888\n",
       "2014    1.029514\n",
       "2015    1.401500\n",
       "2016         NaN\n",
       "dtype: float64"
      ]
     },
     "execution_count": 23,
     "metadata": {},
     "output_type": "execute_result"
    }
   ],
   "source": [
    "rel_error.tail()"
   ]
  },
  {
   "cell_type": "code",
   "execution_count": 24,
   "id": "e7750d95-e288-4d44-afd3-736c6d133ed7",
   "metadata": {},
   "outputs": [
    {
     "data": {
      "text/plain": [
       "0.5946585816022846"
      ]
     },
     "execution_count": 24,
     "metadata": {},
     "output_type": "execute_result"
    }
   ],
   "source": [
    "# that's 0.6%\n",
    "float(np.mean(rel_error))"
   ]
  },
  {
   "cell_type": "markdown",
   "id": "c9677bb6-3bc2-4417-80db-4f0b261ccac7",
   "metadata": {
    "jp-MarkdownHeadingCollapsed": true
   },
   "source": [
    "## Modeling Population Growth"
   ]
  },
  {
   "cell_type": "code",
   "execution_count": 25,
   "id": "c2a02065-3553-4f93-a8c4-d0786629e006",
   "metadata": {},
   "outputs": [
    {
     "data": {
      "text/html": [
       "<div>\n",
       "<style scoped>\n",
       "    .dataframe tbody tr th:only-of-type {\n",
       "        vertical-align: middle;\n",
       "    }\n",
       "\n",
       "    .dataframe tbody tr th {\n",
       "        vertical-align: top;\n",
       "    }\n",
       "\n",
       "    .dataframe thead th {\n",
       "        text-align: right;\n",
       "    }\n",
       "</style>\n",
       "<table border=\"1\" class=\"dataframe\">\n",
       "  <thead>\n",
       "    <tr style=\"text-align: right;\">\n",
       "      <th></th>\n",
       "      <th>census</th>\n",
       "      <th>prb</th>\n",
       "      <th>un</th>\n",
       "      <th>maddison</th>\n",
       "      <th>hyde</th>\n",
       "      <th>tanton</th>\n",
       "      <th>biraben</th>\n",
       "      <th>mj</th>\n",
       "      <th>thomlinson</th>\n",
       "      <th>durand</th>\n",
       "      <th>clark</th>\n",
       "    </tr>\n",
       "    <tr>\n",
       "      <th>Year</th>\n",
       "      <th></th>\n",
       "      <th></th>\n",
       "      <th></th>\n",
       "      <th></th>\n",
       "      <th></th>\n",
       "      <th></th>\n",
       "      <th></th>\n",
       "      <th></th>\n",
       "      <th></th>\n",
       "      <th></th>\n",
       "      <th></th>\n",
       "    </tr>\n",
       "  </thead>\n",
       "  <tbody>\n",
       "    <tr>\n",
       "      <th>1950</th>\n",
       "      <td>2557628654</td>\n",
       "      <td>2.516000e+09</td>\n",
       "      <td>2.525149e+09</td>\n",
       "      <td>2.544000e+09</td>\n",
       "      <td>2.527960e+09</td>\n",
       "      <td>2.400000e+09</td>\n",
       "      <td>2.527000e+09</td>\n",
       "      <td>2.500000e+09</td>\n",
       "      <td>2.400000e+09</td>\n",
       "      <td>NaN</td>\n",
       "      <td>2.486000e+09</td>\n",
       "    </tr>\n",
       "    <tr>\n",
       "      <th>1951</th>\n",
       "      <td>2594939877</td>\n",
       "      <td>NaN</td>\n",
       "      <td>2.572851e+09</td>\n",
       "      <td>2.571663e+09</td>\n",
       "      <td>NaN</td>\n",
       "      <td>NaN</td>\n",
       "      <td>NaN</td>\n",
       "      <td>NaN</td>\n",
       "      <td>NaN</td>\n",
       "      <td>NaN</td>\n",
       "      <td>NaN</td>\n",
       "    </tr>\n",
       "    <tr>\n",
       "      <th>1952</th>\n",
       "      <td>2636772306</td>\n",
       "      <td>NaN</td>\n",
       "      <td>2.619292e+09</td>\n",
       "      <td>2.617949e+09</td>\n",
       "      <td>NaN</td>\n",
       "      <td>NaN</td>\n",
       "      <td>NaN</td>\n",
       "      <td>NaN</td>\n",
       "      <td>NaN</td>\n",
       "      <td>NaN</td>\n",
       "      <td>NaN</td>\n",
       "    </tr>\n",
       "    <tr>\n",
       "      <th>1953</th>\n",
       "      <td>2682053389</td>\n",
       "      <td>NaN</td>\n",
       "      <td>2.665865e+09</td>\n",
       "      <td>2.665959e+09</td>\n",
       "      <td>NaN</td>\n",
       "      <td>NaN</td>\n",
       "      <td>NaN</td>\n",
       "      <td>NaN</td>\n",
       "      <td>NaN</td>\n",
       "      <td>NaN</td>\n",
       "      <td>NaN</td>\n",
       "    </tr>\n",
       "    <tr>\n",
       "      <th>1954</th>\n",
       "      <td>2730228104</td>\n",
       "      <td>NaN</td>\n",
       "      <td>2.713172e+09</td>\n",
       "      <td>2.716927e+09</td>\n",
       "      <td>NaN</td>\n",
       "      <td>NaN</td>\n",
       "      <td>NaN</td>\n",
       "      <td>NaN</td>\n",
       "      <td>NaN</td>\n",
       "      <td>NaN</td>\n",
       "      <td>NaN</td>\n",
       "    </tr>\n",
       "  </tbody>\n",
       "</table>\n",
       "</div>"
      ],
      "text/plain": [
       "          census           prb            un      maddison          hyde  \\\n",
       "Year                                                                       \n",
       "1950  2557628654  2.516000e+09  2.525149e+09  2.544000e+09  2.527960e+09   \n",
       "1951  2594939877           NaN  2.572851e+09  2.571663e+09           NaN   \n",
       "1952  2636772306           NaN  2.619292e+09  2.617949e+09           NaN   \n",
       "1953  2682053389           NaN  2.665865e+09  2.665959e+09           NaN   \n",
       "1954  2730228104           NaN  2.713172e+09  2.716927e+09           NaN   \n",
       "\n",
       "            tanton       biraben            mj    thomlinson durand  \\\n",
       "Year                                                                  \n",
       "1950  2.400000e+09  2.527000e+09  2.500000e+09  2.400000e+09    NaN   \n",
       "1951           NaN           NaN           NaN           NaN    NaN   \n",
       "1952           NaN           NaN           NaN           NaN    NaN   \n",
       "1953           NaN           NaN           NaN           NaN    NaN   \n",
       "1954           NaN           NaN           NaN           NaN    NaN   \n",
       "\n",
       "             clark  \n",
       "Year                \n",
       "1950  2.486000e+09  \n",
       "1951           NaN  \n",
       "1952           NaN  \n",
       "1953           NaN  \n",
       "1954           NaN  "
      ]
     },
     "execution_count": 25,
     "metadata": {},
     "output_type": "execute_result"
    }
   ],
   "source": [
    "df50.head()"
   ]
  },
  {
   "cell_type": "code",
   "execution_count": 26,
   "id": "5baba2d3-47ac-45dd-86a3-b2411faf46ad",
   "metadata": {},
   "outputs": [
    {
     "data": {
      "text/plain": [
       "Index([1950, 1951, 1952, 1953, 1954, 1955, 1956, 1957, 1958, 1959, 1960, 1961,\n",
       "       1962, 1963, 1964, 1965, 1966, 1967, 1968, 1969, 1970, 1971, 1972, 1973,\n",
       "       1974, 1975, 1976, 1977, 1978, 1979, 1980, 1981, 1982, 1983, 1984, 1985,\n",
       "       1986, 1987, 1988, 1989, 1990, 1991, 1992, 1993, 1994, 1995, 1996, 1997,\n",
       "       1998, 1999, 2000, 2001, 2002, 2003, 2004, 2005, 2006, 2007, 2008, 2009,\n",
       "       2010, 2011, 2012, 2013, 2014, 2015, 2016],\n",
       "      dtype='int64', name='Year')"
      ]
     },
     "execution_count": 26,
     "metadata": {},
     "output_type": "execute_result"
    }
   ],
   "source": [
    "df50.index"
   ]
  },
  {
   "cell_type": "code",
   "execution_count": 27,
   "id": "04e7be8c-f73b-47eb-b801-540552b9b534",
   "metadata": {},
   "outputs": [
    {
     "data": {
      "text/plain": [
       "Index([1950, 1951, 1952, 1953, 1954, 1955, 1956, 1957, 1958, 1959, 1960, 1961,\n",
       "       1962, 1963, 1964, 1965, 1966, 1967, 1968, 1969, 1970, 1971, 1972, 1973,\n",
       "       1974, 1975, 1976, 1977, 1978, 1979, 1980, 1981, 1982, 1983, 1984, 1985,\n",
       "       1986, 1987, 1988, 1989, 1990, 1991, 1992, 1993, 1994, 1995, 1996, 1997,\n",
       "       1998, 1999, 2000, 2001, 2002, 2003, 2004, 2005, 2006, 2007, 2008, 2009,\n",
       "       2010, 2011, 2012, 2013, 2014, 2015, 2016],\n",
       "      dtype='int64', name='Year')"
      ]
     },
     "execution_count": 27,
     "metadata": {},
     "output_type": "execute_result"
    }
   ],
   "source": [
    "census.index "
   ]
  },
  {
   "cell_type": "code",
   "execution_count": 28,
   "id": "f78dad21-fad3-495c-821a-f2a640a8e344",
   "metadata": {},
   "outputs": [
    {
     "data": {
      "text/plain": [
       "(np.int64(1950), np.int64(2016))"
      ]
     },
     "execution_count": 28,
     "metadata": {},
     "output_type": "execute_result"
    }
   ],
   "source": [
    "census.index[0], census.index[-1]"
   ]
  },
  {
   "cell_type": "code",
   "execution_count": 29,
   "id": "1359d2c2-4e7a-4751-aead-4ca0be15f904",
   "metadata": {},
   "outputs": [],
   "source": [
    "t_0, t_end = census.index[0], census.index[-1]"
   ]
  },
  {
   "cell_type": "code",
   "execution_count": 30,
   "id": "b21a359b-57fc-49de-a245-ffc5b8cc0227",
   "metadata": {},
   "outputs": [
    {
     "data": {
      "text/plain": [
       "(np.int64(1950), np.int64(2016))"
      ]
     },
     "execution_count": 30,
     "metadata": {},
     "output_type": "execute_result"
    }
   ],
   "source": [
    "t_0, t_end"
   ]
  },
  {
   "cell_type": "code",
   "execution_count": 31,
   "id": "58631d20-b452-4b59-a25e-1c583d82fff1",
   "metadata": {},
   "outputs": [],
   "source": [
    "elapsed_time = t_end - t_0"
   ]
  },
  {
   "cell_type": "code",
   "execution_count": 32,
   "id": "b2cf0c8b-bca4-4f7d-87c6-906b28904b91",
   "metadata": {},
   "outputs": [],
   "source": [
    "p_0, p_end  = census[t_0], census[t_end]"
   ]
  },
  {
   "cell_type": "code",
   "execution_count": 33,
   "id": "b1d6f897-c56b-468c-abe3-6020695c0daf",
   "metadata": {},
   "outputs": [],
   "source": [
    "total_growth = p_end - p_0"
   ]
  },
  {
   "cell_type": "code",
   "execution_count": 34,
   "id": "7fe3ec17-0697-45c4-a622-949a9fd6d553",
   "metadata": {},
   "outputs": [
    {
     "data": {
      "text/plain": [
       "np.float64(4.768368055)"
      ]
     },
     "execution_count": 34,
     "metadata": {},
     "output_type": "execute_result"
    }
   ],
   "source": [
    "total_growth"
   ]
  },
  {
   "cell_type": "markdown",
   "id": "b153fb03-1d22-49cc-b6b7-cbab732ae0fb",
   "metadata": {},
   "source": [
    "In other words, population growth is 4.76B people."
   ]
  },
  {
   "cell_type": "code",
   "execution_count": 35,
   "id": "cb82cc2e-0675-4d83-922b-09d02a053105",
   "metadata": {},
   "outputs": [],
   "source": [
    "annual_growth = total_growth / elapsed_time"
   ]
  },
  {
   "cell_type": "code",
   "execution_count": 36,
   "id": "773ab30e-9d45-4a2e-92de-b3d164168d65",
   "metadata": {},
   "outputs": [
    {
     "data": {
      "text/plain": [
       "np.float64(0.07224800083333333)"
      ]
     },
     "execution_count": 36,
     "metadata": {},
     "output_type": "execute_result"
    }
   ],
   "source": [
    "annual_growth"
   ]
  },
  {
   "cell_type": "markdown",
   "id": "ad0cfcb9-f28d-4408-b356-42e86a1d10c6",
   "metadata": {},
   "source": [
    "> From 1950 to 2016, world population grew by about 0.07 billion people per year, on average. The next step is to use this estimate to simulate population growth."
   ]
  },
  {
   "cell_type": "markdown",
   "id": "494f2a79-9d07-4cbf-aaeb-9eb58a06e256",
   "metadata": {},
   "source": [
    "## Simulating Population Growth"
   ]
  },
  {
   "cell_type": "markdown",
   "id": "272ef8d3-42cc-4bd0-a9d3-7cf0706b85f8",
   "metadata": {},
   "source": [
    "Looks like we are starting with the linear model. And we are doing it manually."
   ]
  },
  {
   "cell_type": "code",
   "execution_count": 37,
   "id": "c8decf76-887c-40af-8b0f-90581e9057c5",
   "metadata": {},
   "outputs": [],
   "source": [
    "results = pd.Series()\n",
    "results[t_0] = p_0\n",
    "for t in range(t_0, t_end):\n",
    "    results[t+1] = results[t] + annual_growth"
   ]
  },
  {
   "cell_type": "code",
   "execution_count": 38,
   "id": "dd345994-13f0-4163-beda-69a54f364a61",
   "metadata": {},
   "outputs": [
    {
     "data": {
      "text/plain": [
       "1950    2.557629\n",
       "1951    2.629877\n",
       "1952    2.702125\n",
       "1953    2.774373\n",
       "1954    2.846621\n",
       "          ...   \n",
       "2012    7.037005\n",
       "2013    7.109253\n",
       "2014    7.181501\n",
       "2015    7.253749\n",
       "2016    7.325997\n",
       "Length: 67, dtype: float64"
      ]
     },
     "execution_count": 38,
     "metadata": {},
     "output_type": "execute_result"
    }
   ],
   "source": [
    "results"
   ]
  },
  {
   "cell_type": "code",
   "execution_count": 39,
   "id": "f82c1e74-24f1-4f5b-a66f-acad7cb1b393",
   "metadata": {},
   "outputs": [
    {
     "data": {
      "image/png": "[encoded data removed]",
      "text/plain": [
       "<Figure size 640x480 with 1 Axes>"
      ]
     },
     "metadata": {},
     "output_type": "display_data"
    }
   ],
   "source": [
    "plt.plot(results, color='gray', label='model')\n",
    "plot_estimates()"
   ]
  },
  {
   "cell_type": "markdown",
   "id": "7450e4b8-03f1-4672-ab38-5a790c83747e",
   "metadata": {},
   "source": [
    "## Exercises"
   ]
  },
  {
   "cell_type": "code",
   "execution_count": 40,
   "id": "d772e0f9-d495-482c-9294-1547726a9207",
   "metadata": {},
   "outputs": [
    {
     "data": {
      "text/plain": [
       "Year\n",
       "1950    2.557629\n",
       "1951    2.594940\n",
       "1952    2.636772\n",
       "1953    2.682053\n",
       "1954    2.730228\n",
       "Name: census, dtype: float64"
      ]
     },
     "execution_count": 40,
     "metadata": {},
     "output_type": "execute_result"
    }
   ],
   "source": [
    "census.head()"
   ]
  },
  {
   "cell_type": "code",
   "execution_count": 43,
   "id": "e54857f4-7507-4e6c-8204-a7e462345117",
   "metadata": {},
   "outputs": [],
   "source": [
    "# Recompute annual growth\n",
    "t_0 = census.index[0]\n",
    "t_1 = 1970\n",
    "t_end = census.index[-1]\n",
    "elapsed_time = t_end - t_0\n",
    "elapsed_time = t_end - t_1\n",
    "\n",
    "p_0 = census[t_0]\n",
    "p_1 = census[t_1]\n",
    "p_end = census[t_end]\n",
    "\n",
    "total_growth = p_end - p_1\n",
    "annual_growth = total_growth / elapsed_time"
   ]
  },
  {
   "cell_type": "code",
   "execution_count": 44,
   "id": "d6a15be8-97b3-435c-b143-f1ade2f4d2fd",
   "metadata": {},
   "outputs": [
    {
     "data": {
      "text/plain": [
       "np.float64(0.07854997754347826)"
      ]
     },
     "execution_count": 44,
     "metadata": {},
     "output_type": "execute_result"
    }
   ],
   "source": [
    "annual_growth"
   ]
  },
  {
   "cell_type": "markdown",
   "id": "49c48645-6efb-4337-a7fd-60a6a880e82a",
   "metadata": {},
   "source": [
    "Looks like this is slightly higher than before."
   ]
  },
  {
   "cell_type": "code",
   "execution_count": 45,
   "id": "db455583-954c-47f7-a3c1-9896bdd007d5",
   "metadata": {},
   "outputs": [],
   "source": [
    "results = pd.Series()\n",
    "results[t_0] = p_0\n",
    "\n",
    "for t in range(t_0, t_end):\n",
    "    results[t+1] = results[t] + annual_growth"
   ]
  },
  {
   "cell_type": "code",
   "execution_count": 46,
   "id": "12deafed-78be-4cf9-b7b6-6d5b7a334340",
   "metadata": {},
   "outputs": [
    {
     "data": {
      "image/png": "[encoded data removed]",
      "text/plain": [
       "<Figure size 640x480 with 1 Axes>"
      ]
     },
     "metadata": {},
     "output_type": "display_data"
    }
   ],
   "source": [
    "plt.plot(results, color='gray', label='model')\n",
    "plot_estimates()"
   ]
  },
  {
   "cell_type": "markdown",
   "id": "c7f7ebf1-d6ca-461e-a0e1-8dba78062dcd",
   "metadata": {},
   "source": [
    "So it's way above the data. probably we should use the previous approach."
   ]
  }
 ],
 "metadata": {
  "kernelspec": {
   "display_name": "Python 3 (ipykernel)",
   "language": "python",
   "name": "python3"
  },
  "language_info": {
   "codemirror_mode": {
    "name": "ipython",
    "version": 3
   },
   "file_extension": ".py",
   "mimetype": "text/x-python",
   "name": "python",
   "nbconvert_exporter": "python",
   "pygments_lexer": "ipython3",
   "version": "3.12.4"
  }
 },
 "nbformat": 4,
 "nbformat_minor": 5
}
