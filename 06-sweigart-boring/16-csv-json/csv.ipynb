{
 "cells": [
  {
   "cell_type": "code",
   "execution_count": 4,
   "metadata": {},
   "outputs": [],
   "source": [
    "import csv"
   ]
  },
  {
   "cell_type": "markdown",
   "metadata": {},
   "source": [
    "## `csv` Module"
   ]
  },
  {
   "cell_type": "markdown",
   "metadata": {},
   "source": [
    "### `reader` Object"
   ]
  },
  {
   "cell_type": "code",
   "execution_count": 8,
   "metadata": {},
   "outputs": [
    {
     "name": "stdout",
     "output_type": "stream",
     "text": [
      "['4/5/2015 13:34', 'Apples', '73']\n",
      "['4/5/2015 3:41', 'Cherries', '85']\n",
      "['4/6/2015 12:46', 'Pears', '14']\n",
      "['4/8/2015 8:59', 'Oranges', '52']\n",
      "['4/10/2015 2:07', 'Apples', '152']\n",
      "['4/10/2015 18:10', 'Bananas', '23']\n",
      "['4/10/2015 2:40', 'Strawberries', '98']\n"
     ]
    }
   ],
   "source": [
    "filename = 'example.csv'\n",
    "with open(filename) as f:\n",
    "    reader = csv.reader(f)\n",
    "    for row in reader:\n",
    "        print(row)"
   ]
  },
  {
   "cell_type": "markdown",
   "metadata": {},
   "source": [
    "### `writer` Object"
   ]
  },
  {
   "cell_type": "code",
   "execution_count": 9,
   "metadata": {},
   "outputs": [],
   "source": [
    "filename = 'books.csv'\n",
    "data = [\n",
    "    [\"Title\", \"Author\", \"Price\", \"Availability\"],\n",
    "    [\"Automate the Boring Stuff with Python, 2nd Edition\", \"Al Sweigart\", \"$29.95\", \"In stock\"],\n",
    "    [\"Python Crash Course, 2nd Edition\", \"Eric Matthes\", \"$39.95\", \"In stock\"],\n",
    "    [\"Learning Python, 5th Edition\", \"Mark Lutz\", \"$54.99\", \"Out of stock\"]\n",
    "]\n",
    "\n",
    "with open(filename, 'w', newline='') as f:\n",
    "    writer = csv.writer(f)\n",
    "    writer.writerows(data)"
   ]
  },
  {
   "cell_type": "code",
   "execution_count": null,
   "metadata": {},
   "outputs": [],
   "source": []
  },
  {
   "cell_type": "code",
   "execution_count": null,
   "metadata": {},
   "outputs": [],
   "source": []
  }
 ],
 "metadata": {
  "kernelspec": {
   "display_name": "venv",
   "language": "python",
   "name": "python3"
  },
  "language_info": {
   "codemirror_mode": {
    "name": "ipython",
    "version": 3
   },
   "file_extension": ".py",
   "mimetype": "text/x-python",
   "name": "python",
   "nbconvert_exporter": "python",
   "pygments_lexer": "ipython3",
   "version": "3.12.4"
  }
 },
 "nbformat": 4,
 "nbformat_minor": 2
}
