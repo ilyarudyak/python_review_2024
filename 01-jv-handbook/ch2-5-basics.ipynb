{
 "cells": [
  {
   "cell_type": "code",
   "execution_count": 1,
   "id": "7d32f6e7-25b4-4e10-ba6c-bca303a84fea",
   "metadata": {},
   "outputs": [],
   "source": [
    "import numpy as np\n",
    "import pandas as pd\n",
    "import matplotlib.pyplot as plt"
   ]
  },
  {
   "cell_type": "markdown",
   "id": "0d66c09d-5028-4565-90f5-43ff581f6bb0",
   "metadata": {},
   "source": [
    "This is a coding along *5. The Basics of NumPy Arrays*."
   ]
  },
  {
   "cell_type": "markdown",
   "id": "ab3308ce-2c04-412f-ab7f-a14f5bc03be0",
   "metadata": {},
   "source": [
    "## Getting data"
   ]
  },
  {
   "cell_type": "code",
   "execution_count": 2,
   "id": "d6017a1b-986f-4693-808f-2d0c5d8f81d0",
   "metadata": {},
   "outputs": [],
   "source": [
    "rng = np.random.default_rng(seed=1701) # seed for reproducibility\n",
    "x1 = rng.integers(10, size=6) # one-dimensional array\n",
    "x2 = rng.integers(10, size=(3, 4)) # two-dimensional array\n",
    "x3 = rng.integers(10, size=(3, 4, 5)) # three-dimensional array"
   ]
  },
  {
   "cell_type": "markdown",
   "id": "3c7eb786-b2f7-453f-b524-c74084c71dad",
   "metadata": {},
   "source": [
    "## NumPy Array Attributes"
   ]
  },
  {
   "cell_type": "code",
   "execution_count": 3,
   "id": "2941f564-64b4-4c4b-80a2-8a4f4730812e",
   "metadata": {},
   "outputs": [
    {
     "data": {
      "text/plain": [
       "(3, (3, 4, 5), 60, dtype('int64'))"
      ]
     },
     "execution_count": 3,
     "metadata": {},
     "output_type": "execute_result"
    }
   ],
   "source": [
    "x3.ndim, x3.shape, x3.size, x3.dtype"
   ]
  },
  {
   "cell_type": "markdown",
   "id": "3907c7d8-e1fd-4833-ad57-6ed54006d80b",
   "metadata": {},
   "source": [
    "## Array Slicing: Accessing Subarrays"
   ]
  },
  {
   "cell_type": "markdown",
   "id": "e253713c-f33e-4bbd-9c2d-afb1346a56c4",
   "metadata": {},
   "source": [
    "### One-Dimensional Subarrays"
   ]
  },
  {
   "cell_type": "markdown",
   "id": "031a36f2-6397-4560-8f96-f318fa0902f6",
   "metadata": {},
   "source": [
    "Let's have a look at some non-trivial slicing."
   ]
  },
  {
   "cell_type": "code",
   "execution_count": 4,
   "id": "2fe6c934-932f-4e49-a163-a830feba6628",
   "metadata": {},
   "outputs": [
    {
     "data": {
      "text/plain": [
       "array([9, 4, 0, 3, 8, 6])"
      ]
     },
     "execution_count": 4,
     "metadata": {},
     "output_type": "execute_result"
    }
   ],
   "source": [
    "x1"
   ]
  },
  {
   "cell_type": "code",
   "execution_count": 8,
   "id": "a36d1f1e-3f88-4ad7-8699-f0859f6f14ed",
   "metadata": {},
   "outputs": [
    {
     "data": {
      "text/plain": [
       "array([4, 0, 3, 8])"
      ]
     },
     "execution_count": 8,
     "metadata": {},
     "output_type": "execute_result"
    }
   ],
   "source": [
    "x1[1:5]"
   ]
  },
  {
   "cell_type": "code",
   "execution_count": null,
   "id": "70da9ca1-1e3d-4e1d-88af-a554e36855bf",
   "metadata": {},
   "outputs": [],
   "source": []
  },
  {
   "cell_type": "code",
   "execution_count": 6,
   "id": "62c71189-4dce-4db2-aa7f-3201e7534293",
   "metadata": {},
   "outputs": [
    {
     "data": {
      "text/plain": [
       "array([4, 3, 6])"
      ]
     },
     "execution_count": 6,
     "metadata": {},
     "output_type": "execute_result"
    }
   ],
   "source": [
    "# every second element starting at index 1\n",
    "x1[1::2]"
   ]
  },
  {
   "cell_type": "code",
   "execution_count": 7,
   "id": "bdb0ab52-01f5-4df8-86dc-dfb3a60d3965",
   "metadata": {},
   "outputs": [
    {
     "data": {
      "text/plain": [
       "array([6, 8, 3, 0, 4, 9])"
      ]
     },
     "execution_count": 7,
     "metadata": {},
     "output_type": "execute_result"
    }
   ],
   "source": [
    "# reversing the array (as we know)\n",
    "x1[::-1]"
   ]
  },
  {
   "cell_type": "code",
   "execution_count": 8,
   "id": "80785570-5726-4a7b-a89d-cc0dbc5ca18b",
   "metadata": {},
   "outputs": [
    {
     "data": {
      "text/plain": [
       "array([6, 3, 4])"
      ]
     },
     "execution_count": 8,
     "metadata": {},
     "output_type": "execute_result"
    }
   ],
   "source": [
    "# every second element in reversed order (NEW)\n",
    "x1[::-2]"
   ]
  },
  {
   "cell_type": "markdown",
   "id": "f3d23d20-7b33-4bc5-bf42-d18615e6e4fb",
   "metadata": {},
   "source": [
    "### Multidimensional Subarrays"
   ]
  },
  {
   "cell_type": "code",
   "execution_count": 9,
   "id": "c96ab65b-97a1-49b0-ae73-879fdcb3230c",
   "metadata": {},
   "outputs": [
    {
     "data": {
      "text/plain": [
       "array([[3, 1, 3, 7],\n",
       "       [4, 0, 2, 3],\n",
       "       [0, 0, 6, 9]])"
      ]
     },
     "execution_count": 9,
     "metadata": {},
     "output_type": "execute_result"
    }
   ],
   "source": [
    "x2"
   ]
  },
  {
   "cell_type": "code",
   "execution_count": 10,
   "id": "391b9817-6a09-4757-814d-e87f79dc65d5",
   "metadata": {},
   "outputs": [
    {
     "data": {
      "text/plain": [
       "array([[3, 1, 3, 7],\n",
       "       [4, 0, 2, 3]])"
      ]
     },
     "execution_count": 10,
     "metadata": {},
     "output_type": "execute_result"
    }
   ],
   "source": [
    "x2[:2, :]"
   ]
  },
  {
   "cell_type": "code",
   "execution_count": 11,
   "id": "c4be74c4-960c-48fe-bbbe-c911465c265a",
   "metadata": {},
   "outputs": [
    {
     "data": {
      "text/plain": [
       "array([[0, 0, 6, 9]])"
      ]
     },
     "execution_count": 11,
     "metadata": {},
     "output_type": "execute_result"
    }
   ],
   "source": [
    "x2[2:, :]"
   ]
  },
  {
   "cell_type": "code",
   "execution_count": 12,
   "id": "31a7c122-43c0-41ee-9b8b-de31a9cc0ae7",
   "metadata": {},
   "outputs": [
    {
     "data": {
      "text/plain": [
       "array([[3, 1, 3],\n",
       "       [4, 0, 2]])"
      ]
     },
     "execution_count": 12,
     "metadata": {},
     "output_type": "execute_result"
    }
   ],
   "source": [
    "x2[:2, :3]"
   ]
  },
  {
   "cell_type": "code",
   "execution_count": 13,
   "id": "1c55cbdb-28f1-4981-985e-c010cdc13e80",
   "metadata": {},
   "outputs": [
    {
     "data": {
      "text/plain": [
       "array([[7],\n",
       "       [3]])"
      ]
     },
     "execution_count": 13,
     "metadata": {},
     "output_type": "execute_result"
    }
   ],
   "source": [
    "x2[:2, 3:]"
   ]
  },
  {
   "cell_type": "code",
   "execution_count": 14,
   "id": "658306e1-1194-4903-bbbd-fa1d7137e9ec",
   "metadata": {},
   "outputs": [
    {
     "data": {
      "text/plain": [
       "array([[0, 0, 6]])"
      ]
     },
     "execution_count": 14,
     "metadata": {},
     "output_type": "execute_result"
    }
   ],
   "source": [
    "x2[2:, :3]"
   ]
  },
  {
   "cell_type": "code",
   "execution_count": 15,
   "id": "d57220ed-6319-4956-ad20-e07bde2f8f65",
   "metadata": {},
   "outputs": [
    {
     "data": {
      "text/plain": [
       "array([[9]])"
      ]
     },
     "execution_count": 15,
     "metadata": {},
     "output_type": "execute_result"
    }
   ],
   "source": [
    "x2[2:, 3:]"
   ]
  },
  {
   "cell_type": "markdown",
   "id": "6ad758cc-175b-4571-8b68-87e18f67eb3d",
   "metadata": {},
   "source": [
    "Let's also have a look at negative indicies."
   ]
  },
  {
   "cell_type": "code",
   "execution_count": 16,
   "id": "3b68f749-b1b3-4732-9c0a-049eea4525ea",
   "metadata": {},
   "outputs": [
    {
     "data": {
      "text/plain": [
       "array([[3, 1, 3, 7],\n",
       "       [4, 0, 2, 3],\n",
       "       [0, 0, 6, 9]])"
      ]
     },
     "execution_count": 16,
     "metadata": {},
     "output_type": "execute_result"
    }
   ],
   "source": [
    "x2"
   ]
  },
  {
   "cell_type": "code",
   "execution_count": 17,
   "id": "5f1e2ddf-fa53-483e-b4b1-5b3429115d5d",
   "metadata": {},
   "outputs": [
    {
     "data": {
      "text/plain": [
       "array([[3, 1, 3],\n",
       "       [4, 0, 2],\n",
       "       [0, 0, 6]])"
      ]
     },
     "execution_count": 17,
     "metadata": {},
     "output_type": "execute_result"
    }
   ],
   "source": [
    "x2[:, :-1]"
   ]
  },
  {
   "cell_type": "code",
   "execution_count": 18,
   "id": "4688e161-1b31-45cd-9b2c-88b747708c1e",
   "metadata": {},
   "outputs": [
    {
     "data": {
      "text/plain": [
       "array([[7],\n",
       "       [3],\n",
       "       [9]])"
      ]
     },
     "execution_count": 18,
     "metadata": {},
     "output_type": "execute_result"
    }
   ],
   "source": [
    "x2[:, -1:]"
   ]
  },
  {
   "cell_type": "code",
   "execution_count": 19,
   "id": "dbe84883-ac0e-4486-a06f-3eaed6daef0a",
   "metadata": {},
   "outputs": [
    {
     "data": {
      "text/plain": [
       "array([[3, 1],\n",
       "       [4, 0],\n",
       "       [0, 0]])"
      ]
     },
     "execution_count": 19,
     "metadata": {},
     "output_type": "execute_result"
    }
   ],
   "source": [
    "x2[:, :-2]"
   ]
  },
  {
   "cell_type": "code",
   "execution_count": 20,
   "id": "fc9e2da7-05d3-4076-9ddc-d1689f562d87",
   "metadata": {},
   "outputs": [
    {
     "data": {
      "text/plain": [
       "array([[3, 7],\n",
       "       [2, 3],\n",
       "       [6, 9]])"
      ]
     },
     "execution_count": 20,
     "metadata": {},
     "output_type": "execute_result"
    }
   ],
   "source": [
    "x2[:, -2:]"
   ]
  },
  {
   "cell_type": "code",
   "execution_count": 21,
   "id": "b78d84d6-b95c-4e7b-8db8-720921a22b1a",
   "metadata": {},
   "outputs": [
    {
     "data": {
      "text/plain": [
       "array([[3, 1, 3, 7],\n",
       "       [4, 0, 2, 3],\n",
       "       [0, 0, 6, 9]])"
      ]
     },
     "execution_count": 21,
     "metadata": {},
     "output_type": "execute_result"
    }
   ],
   "source": [
    "x2"
   ]
  },
  {
   "cell_type": "code",
   "execution_count": 22,
   "id": "65969003-b082-4637-a615-d0fab158e4a9",
   "metadata": {},
   "outputs": [
    {
     "data": {
      "text/plain": [
       "array([[7, 3, 1, 3],\n",
       "       [3, 2, 0, 4],\n",
       "       [9, 6, 0, 0]])"
      ]
     },
     "execution_count": 22,
     "metadata": {},
     "output_type": "execute_result"
    }
   ],
   "source": [
    "# reversed order for rows\n",
    "x2[:, ::-1]"
   ]
  },
  {
   "cell_type": "code",
   "execution_count": 23,
   "id": "44e58837-9741-4ed5-94ef-da89fa05d26f",
   "metadata": {},
   "outputs": [
    {
     "data": {
      "text/plain": [
       "array([[0, 0, 6, 9],\n",
       "       [4, 0, 2, 3],\n",
       "       [3, 1, 3, 7]])"
      ]
     },
     "execution_count": 23,
     "metadata": {},
     "output_type": "execute_result"
    }
   ],
   "source": [
    "# reversed order for columns\n",
    "x2[::-1, :]"
   ]
  },
  {
   "cell_type": "markdown",
   "id": "07531eae-5113-4dff-80a5-94e8c0a77841",
   "metadata": {},
   "source": [
    "We may do reversed order both for rows and columns, but we're not doing this."
   ]
  },
  {
   "cell_type": "markdown",
   "id": "a32fac8c-da8d-41d6-9227-f34cc9540253",
   "metadata": {},
   "source": [
    "### Subarrays as No-Copy Views"
   ]
  },
  {
   "cell_type": "markdown",
   "id": "382a2e08-0056-4416-976e-1f5732103331",
   "metadata": {},
   "source": [
    "> Unlike Python list slices, NumPy array slices are returned as *views* rather than *copies* of the array data.\n",
    "> Some users may find this surprising, but it can be advantageous: for example, when working with large datasets, we can access and process pieces of these datasets without the need to copy the underlying data buffer."
   ]
  },
  {
   "cell_type": "code",
   "execution_count": 24,
   "id": "fa1f4adc-a19b-4e50-a2a2-e0618860198f",
   "metadata": {},
   "outputs": [
    {
     "data": {
      "text/plain": [
       "array([[3, 1, 3, 7],\n",
       "       [4, 0, 2, 3],\n",
       "       [0, 0, 6, 9]])"
      ]
     },
     "execution_count": 24,
     "metadata": {},
     "output_type": "execute_result"
    }
   ],
   "source": [
    "x2"
   ]
  },
  {
   "cell_type": "code",
   "execution_count": 25,
   "id": "0864075c-1669-4e8d-be63-4f943f27503a",
   "metadata": {},
   "outputs": [],
   "source": [
    "x2_sub = x2[:2, :2]"
   ]
  },
  {
   "cell_type": "code",
   "execution_count": 26,
   "id": "827fb91e-9523-4423-aabd-e506671ef388",
   "metadata": {},
   "outputs": [
    {
     "data": {
      "text/plain": [
       "array([[3, 1],\n",
       "       [4, 0]])"
      ]
     },
     "execution_count": 26,
     "metadata": {},
     "output_type": "execute_result"
    }
   ],
   "source": [
    "x2_sub"
   ]
  },
  {
   "cell_type": "code",
   "execution_count": 27,
   "id": "fad91e5f-123b-4972-8b1e-acc4343d55c5",
   "metadata": {},
   "outputs": [],
   "source": [
    "x2_sub[0, 0] = 99"
   ]
  },
  {
   "cell_type": "code",
   "execution_count": 28,
   "id": "4377db07-fbd7-4d4f-a073-fce0786f74e1",
   "metadata": {},
   "outputs": [
    {
     "data": {
      "text/plain": [
       "array([[99,  1],\n",
       "       [ 4,  0]])"
      ]
     },
     "execution_count": 28,
     "metadata": {},
     "output_type": "execute_result"
    }
   ],
   "source": [
    "x2_sub"
   ]
  },
  {
   "cell_type": "code",
   "execution_count": 29,
   "id": "c9ea6396-d560-45de-8e76-f2ec0b97e3ae",
   "metadata": {},
   "outputs": [
    {
     "data": {
      "text/plain": [
       "array([[99,  1,  3,  7],\n",
       "       [ 4,  0,  2,  3],\n",
       "       [ 0,  0,  6,  9]])"
      ]
     },
     "execution_count": 29,
     "metadata": {},
     "output_type": "execute_result"
    }
   ],
   "source": [
    "x2"
   ]
  },
  {
   "cell_type": "markdown",
   "id": "98f83f7f-37eb-4675-a7eb-ad76a567c266",
   "metadata": {},
   "source": [
    "So as we may see `x2` is also changed."
   ]
  },
  {
   "cell_type": "markdown",
   "id": "c955dd98-99db-47ea-9e9d-1e9ba68b5999",
   "metadata": {},
   "source": [
    "### Creating Copies of Arrays"
   ]
  },
  {
   "cell_type": "code",
   "execution_count": 30,
   "id": "92dd1b7c-8baf-49f2-a77b-4639b2409d42",
   "metadata": {},
   "outputs": [],
   "source": [
    "x2_sub_copy = x2[:2, :2].copy()"
   ]
  },
  {
   "cell_type": "code",
   "execution_count": 31,
   "id": "e2d8f0d6-c61a-4014-9299-a4920a886358",
   "metadata": {},
   "outputs": [
    {
     "data": {
      "text/plain": [
       "array([[99,  1],\n",
       "       [ 4,  0]])"
      ]
     },
     "execution_count": 31,
     "metadata": {},
     "output_type": "execute_result"
    }
   ],
   "source": [
    "x2_sub_copy"
   ]
  },
  {
   "cell_type": "code",
   "execution_count": 32,
   "id": "45f614ee-07d2-4c4a-b3db-ccdc7453192c",
   "metadata": {},
   "outputs": [
    {
     "data": {
      "text/plain": [
       "array([[99,  1,  3,  7],\n",
       "       [ 4,  0,  2,  3],\n",
       "       [ 0,  0,  6,  9]])"
      ]
     },
     "execution_count": 32,
     "metadata": {},
     "output_type": "execute_result"
    }
   ],
   "source": [
    "x2"
   ]
  },
  {
   "cell_type": "code",
   "execution_count": 33,
   "id": "b8188e63-9749-4a38-92fd-90ab4405f497",
   "metadata": {},
   "outputs": [],
   "source": [
    "x2_sub_copy[0, 0] = 42"
   ]
  },
  {
   "cell_type": "code",
   "execution_count": 34,
   "id": "2c122f77-7da5-410f-b33c-a8678bfa18e2",
   "metadata": {},
   "outputs": [
    {
     "data": {
      "text/plain": [
       "array([[42,  1],\n",
       "       [ 4,  0]])"
      ]
     },
     "execution_count": 34,
     "metadata": {},
     "output_type": "execute_result"
    }
   ],
   "source": [
    "x2_sub_copy"
   ]
  },
  {
   "cell_type": "code",
   "execution_count": 35,
   "id": "450bcca4-5e3a-4a92-bcf0-e6a7ce355f59",
   "metadata": {},
   "outputs": [
    {
     "data": {
      "text/plain": [
       "array([[99,  1,  3,  7],\n",
       "       [ 4,  0,  2,  3],\n",
       "       [ 0,  0,  6,  9]])"
      ]
     },
     "execution_count": 35,
     "metadata": {},
     "output_type": "execute_result"
    }
   ],
   "source": [
    "x2"
   ]
  },
  {
   "cell_type": "markdown",
   "id": "b6df3ebc-b7e5-438e-885e-da75da5d22dc",
   "metadata": {},
   "source": [
    "No changes in the original array."
   ]
  }
 ],
 "metadata": {
  "kernelspec": {
   "display_name": "Python 3 (ipykernel)",
   "language": "python",
   "name": "python3"
  },
  "language_info": {
   "codemirror_mode": {
    "name": "ipython",
    "version": 3
   },
   "file_extension": ".py",
   "mimetype": "text/x-python",
   "name": "python",
   "nbconvert_exporter": "python",
   "pygments_lexer": "ipython3",
   "version": "3.12.4"
  }
 },
 "nbformat": 4,
 "nbformat_minor": 5
}
