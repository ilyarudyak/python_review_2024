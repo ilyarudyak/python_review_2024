{
 "cells": [
  {
   "cell_type": "markdown",
   "id": "d863a5ff-346b-45d2-a710-8fc2f2d68534",
   "metadata": {},
   "source": [
    "## The try Statement"
   ]
  },
  {
   "cell_type": "markdown",
   "id": "e93617b5-78b0-4be6-816c-5c4ef1937e1f",
   "metadata": {
    "jp-MarkdownHeadingCollapsed": true
   },
   "source": [
    "### `try/except`"
   ]
  },
  {
   "cell_type": "code",
   "execution_count": 1,
   "id": "51484516-ae2c-44fe-9605-cee21a63caf1",
   "metadata": {},
   "outputs": [
    {
     "name": "stdout",
     "output_type": "stream",
     "text": [
      "caught divide-by-0 attempt\n"
     ]
    }
   ],
   "source": [
    "try: \n",
    "    1/0\n",
    "    print('not executed') \n",
    "except ZeroDivisionError:\n",
    "    print('caught divide-by-0 attempt')"
   ]
  },
  {
   "cell_type": "markdown",
   "id": "3f560ed7-05a3-4ad0-99d3-e588b21e2940",
   "metadata": {},
   "source": [
    "Let's consider more interesting example."
   ]
  },
  {
   "cell_type": "code",
   "execution_count": 2,
   "id": "9006cb99-4dbc-4445-b330-a459775bfff2",
   "metadata": {},
   "outputs": [
    {
     "name": "stdout",
     "output_type": "stream",
     "text": [
      "Error: The file 'example.txt' was not found.\n"
     ]
    }
   ],
   "source": [
    "try:\n",
    "    with open('example.txt', 'r') as f:\n",
    "        # Attempt to read the file\n",
    "        content = f.read()\n",
    "        print(content)\n",
    "        \n",
    "        # Simulate a potential division by zero error\n",
    "        result = 10 / 0\n",
    "\n",
    "except FileNotFoundError:\n",
    "    print(\"Error: The file 'example.txt' was not found.\")\n",
    "except PermissionError:\n",
    "    print(\"Error: You do not have permission to read 'example.txt'.\")\n",
    "except ZeroDivisionError:\n",
    "    print(\"Error: A division by zero occurred.\")"
   ]
  },
  {
   "cell_type": "markdown",
   "id": "bec868cb-5fcd-4207-b3c1-068863385a54",
   "metadata": {},
   "source": [
    "Let's now add this file."
   ]
  },
  {
   "cell_type": "code",
   "execution_count": 6,
   "id": "94b32524-dea1-4e0b-bbab-e0f483a2733d",
   "metadata": {},
   "outputs": [
    {
     "name": "stdout",
     "output_type": "stream",
     "text": [
      "Error: You do not have permission to read 'example.txt'.\n"
     ]
    }
   ],
   "source": [
    "try:\n",
    "    with open('example.txt', 'a') as f:\n",
    "        # Attempt to read the file\n",
    "        content = f.read()\n",
    "        print(content)\n",
    "        \n",
    "        # Simulate a potential division by zero error\n",
    "        result = 10 / 0\n",
    "\n",
    "except FileNotFoundError:\n",
    "    print(\"Error: The file 'example.txt' was not found.\")\n",
    "except PermissionError:\n",
    "    print(\"Error: You do not have permission to read 'example.txt'.\")\n",
    "except ZeroDivisionError:\n",
    "    print(\"Error: A division by zero occurred.\")"
   ]
  },
  {
   "cell_type": "markdown",
   "id": "dab9176e-d70c-4304-908f-e4dd5b220139",
   "metadata": {},
   "source": [
    "Let's now try to change permissions."
   ]
  },
  {
   "cell_type": "code",
   "execution_count": 8,
   "id": "0ca345ab-2849-4f9a-a8b8-fe6d3255982d",
   "metadata": {},
   "outputs": [
    {
     "name": "stdout",
     "output_type": "stream",
     "text": [
      "Error: You do not have permission to write into 'example.txt'.\n"
     ]
    }
   ],
   "source": [
    "try:\n",
    "    with open('example.txt', 'a') as f:\n",
    "        # Attempt to read the file\n",
    "        file.write('\\nThis is a new line of text.')\n",
    "        # content = f.read()\n",
    "        # print(content)\n",
    "        \n",
    "        # Simulate a potential division by zero error\n",
    "        result = 10 / 0\n",
    "\n",
    "except FileNotFoundError:\n",
    "    print(\"Error: The file 'example.txt' was not found.\")\n",
    "except PermissionError:\n",
    "    print(\"Error: You do not have permission to write into 'example.txt'.\")\n",
    "except ZeroDivisionError:\n",
    "    print(\"Error: A division by zero occurred.\")"
   ]
  },
  {
   "cell_type": "markdown",
   "id": "4e88063f-14fd-4f53-a1dd-be543def7e07",
   "metadata": {},
   "source": [
    "It seems we can have `try` without `except`. In this case it must be with `finally`. It's not that easy to find a user case for that. But it actually exists."
   ]
  },
  {
   "cell_type": "markdown",
   "id": "909fb0cb-f327-4b6c-b48f-fd25e0e5b497",
   "metadata": {},
   "source": [
    "> **Explanation**\n",
    "> - Lock Acquisition: The lock is acquired before entering the critical section.\n",
    "> - `try` Block: Contains code that needs synchronization. If an exception occurs here, the finally block will still execute.\n",
    "> - `finally` Block: Ensures that the lock is released, preventing deadlocks even if an exception occurs in the try block.\n",
    ">\n",
    "> **Why Use try/finally Here?**\n",
    "> - Guarantee Cleanup: Ensures that the lock is released no matter what, which is crucial for preventing deadlocks in multithreaded applications.\n",
    "> - Separation of Concerns: The `try/finally` construct focuses on cleanup, while exception handling can be managed elsewhere if needed.\n",
    ">\n",
    "> In summary, while `try/finally` might not be as commonly used as `try/except`, it plays an important role in scenarios where resource cleanup is critical, such as with locks, network connections, or other resources that require explicit release or closure."
   ]
  },
  {
   "cell_type": "code",
   "execution_count": 9,
   "id": "00f229e2-20bb-405d-9cdd-c2d0a0d35417",
   "metadata": {},
   "outputs": [
    {
     "name": "stdout",
     "output_type": "stream",
     "text": [
      "Critical section is being executed.\n",
      "Lock has been released.\n"
     ]
    }
   ],
   "source": [
    "import threading\n",
    "\n",
    "lock = threading.Lock()\n",
    "\n",
    "def critical_section():\n",
    "    lock.acquire()\n",
    "    try:\n",
    "        # Perform operations that require synchronization\n",
    "        print(\"Critical section is being executed.\")\n",
    "    finally:\n",
    "        # Ensure the lock is released\n",
    "        lock.release()\n",
    "        print(\"Lock has been released.\")\n",
    "\n",
    "# Simulating the function call\n",
    "critical_section()"
   ]
  },
  {
   "cell_type": "markdown",
   "id": "b1fde9b5-16c4-40d7-b02a-e682f00d6531",
   "metadata": {},
   "source": [
    "In Python we'd rather use `with` for this purpose."
   ]
  },
  {
   "cell_type": "code",
   "execution_count": 10,
   "id": "4b099b16-ff79-4f3a-a1ca-cb9d2362c6f5",
   "metadata": {},
   "outputs": [
    {
     "name": "stdout",
     "output_type": "stream",
     "text": [
      "Critical section is being executed.\n"
     ]
    }
   ],
   "source": [
    "import threading\n",
    "\n",
    "lock = threading.Lock()\n",
    "\n",
    "def critical_section():\n",
    "    with lock:\n",
    "        # Perform operations that require synchronization\n",
    "        print(\"Critical section is being executed.\")\n",
    "\n",
    "# Simulating the function call\n",
    "critical_section()"
   ]
  },
  {
   "cell_type": "code",
   "execution_count": 11,
   "id": "a97a5a4a-9d68-499b-b828-f92a9a7c72fe",
   "metadata": {},
   "outputs": [
    {
     "data": {
      "text/plain": [
       "False"
      ]
     },
     "execution_count": 11,
     "metadata": {},
     "output_type": "execute_result"
    }
   ],
   "source": [
    "lock is None"
   ]
  },
  {
   "cell_type": "code",
   "execution_count": 12,
   "id": "25134247-d9d4-4a00-bb09-ea2a5054308c",
   "metadata": {},
   "outputs": [
    {
     "name": "stdout",
     "output_type": "stream",
     "text": [
      "The lock is not held.\n"
     ]
    }
   ],
   "source": [
    "if lock.locked():\n",
    "    print(\"The lock is currently held.\")\n",
    "else:\n",
    "    print(\"The lock is not held.\")"
   ]
  },
  {
   "cell_type": "markdown",
   "id": "61e723b8-4dbe-46ec-9f84-ca0f96dcd6d0",
   "metadata": {},
   "source": [
    "#### `else`"
   ]
  },
  {
   "cell_type": "markdown",
   "id": "7636651b-a5b1-42cf-986e-8ffcbdde3588",
   "metadata": {},
   "source": [
    "> The optional else clause of try/except executes only when the try clause termi‐ nates normally."
   ]
  },
  {
   "cell_type": "code",
   "execution_count": 13,
   "id": "03822adc-7af9-4141-acb4-3b4a3b26495d",
   "metadata": {},
   "outputs": [],
   "source": [
    "value = None"
   ]
  },
  {
   "cell_type": "code",
   "execution_count": 14,
   "id": "4a4a67bb-8174-4e05-a1e4-4157d8d6b843",
   "metadata": {},
   "outputs": [
    {
     "name": "stdout",
     "output_type": "stream",
     "text": [
      "None is  neither a number nor a string\n"
     ]
    }
   ],
   "source": [
    "print(repr(value), 'is ', end=' ') \n",
    "try:\n",
    "    value + 0 \n",
    "except TypeError:\n",
    "    # not a number, maybe a string...?\n",
    "    try:\n",
    "        value + ''\n",
    "    except TypeError:\n",
    "        print('neither a number nor a string')\n",
    "    else:\n",
    "        print('some kind of string')\n",
    "else:\n",
    "    print('some kind of number')"
   ]
  },
  {
   "cell_type": "code",
   "execution_count": 15,
   "id": "89a58df0-a86f-408c-9dcf-7af3e82cd583",
   "metadata": {},
   "outputs": [],
   "source": [
    "value = 'hello'"
   ]
  },
  {
   "cell_type": "code",
   "execution_count": 16,
   "id": "32283e36-752c-45c5-8477-ed52cbcb5a70",
   "metadata": {},
   "outputs": [
    {
     "name": "stdout",
     "output_type": "stream",
     "text": [
      "'hello' is  some kind of string\n"
     ]
    }
   ],
   "source": [
    "print(repr(value), 'is ', end=' ') \n",
    "try:\n",
    "    value + 0 \n",
    "except TypeError:\n",
    "    # not a number, maybe a string...?\n",
    "    try:\n",
    "        value + ''\n",
    "    except TypeError:\n",
    "        print('neither a number nor a string')\n",
    "    else:\n",
    "        print('some kind of string')\n",
    "else:\n",
    "    print('some kind of number')"
   ]
  },
  {
   "cell_type": "markdown",
   "id": "3894e0d6-111d-40c8-a773-8413544cf3ed",
   "metadata": {},
   "source": [
    "#### Exception propagation"
   ]
  },
  {
   "cell_type": "markdown",
   "id": "11b1f7db-3296-4fa1-8910-7733d2813abe",
   "metadata": {},
   "source": [
    "It turns out it has many nuances as well.  What we know that it halts execution as soon as an exception happened. It searches for the *first* `except` clause it matches and executes its handler. It checks no further clauses. That's why we need to order exception clauses from more specific to less specific."
   ]
  },
  {
   "cell_type": "markdown",
   "id": "84c1fdcb-7bf5-4b54-9757-ef2910767157",
   "metadata": {},
   "source": [
    "Here's an example that is new for me."
   ]
  },
  {
   "cell_type": "code",
   "execution_count": 19,
   "id": "b1ff036e-9293-447e-a310-b4889aa2a74a",
   "metadata": {},
   "outputs": [
    {
     "name": "stdout",
     "output_type": "stream",
     "text": [
      "caught an exception\n"
     ]
    }
   ],
   "source": [
    "try: \n",
    "    try:\n",
    "        1/0\n",
    "\n",
    "    except:\n",
    "        print('caught an exception')\n",
    "except ZeroDivisionError:\n",
    "    print('caught divide-by-0 attempt')"
   ]
  },
  {
   "cell_type": "markdown",
   "id": "83cea0b9-da08-4932-9539-67ebf9ba9bc4",
   "metadata": {},
   "source": [
    "> In this case, it does not matter that the handler established by the clause `except ZeroDivisionError:` in the outer `try` clause is more specific than the catch-all except: in the inner try clause. The outer try does not enter into the picture: the exception doesn’t propagate out of the inner `try`."
   ]
  },
  {
   "cell_type": "markdown",
   "id": "5a3f3c0e-ae1b-4bc5-b64f-26d70b02b1bf",
   "metadata": {},
   "source": [
    "## The `raise` statement"
   ]
  },
  {
   "cell_type": "markdown",
   "id": "c624f9be-908b-42fd-b466-54d0568937ec",
   "metadata": {},
   "source": [
    "`raise [expression [from exception]]`"
   ]
  },
  {
   "cell_type": "markdown",
   "id": "eddd05f3-0dd2-4408-abed-b3e693c63700",
   "metadata": {},
   "source": [
    "It turns out that even with `raise` there are many cases that I'm not aware of:\n",
    "- First of all we may raise without `expression`. It's possible only by an exception handler.\n",
    "- It's also possible to wrap one exception into another using `from exception`."
   ]
  },
  {
   "cell_type": "markdown",
   "id": "22f0f365-911e-4fbf-816e-dc4a38409f71",
   "metadata": {},
   "source": [
    "## The `with` Statement and Context Managers"
   ]
  },
  {
   "cell_type": "code",
   "execution_count": null,
   "id": "4e50e5e7-9c90-4473-ad7f-d8e1fe8767bc",
   "metadata": {},
   "outputs": [],
   "source": []
  },
  {
   "cell_type": "code",
   "execution_count": null,
   "id": "8f49f8f0-85f1-4865-8c7d-b46a9cfce3a4",
   "metadata": {},
   "outputs": [],
   "source": []
  }
 ],
 "metadata": {
  "kernelspec": {
   "display_name": "Python 3 (ipykernel)",
   "language": "python",
   "name": "python3"
  },
  "language_info": {
   "codemirror_mode": {
    "name": "ipython",
    "version": 3
   },
   "file_extension": ".py",
   "mimetype": "text/x-python",
   "name": "python",
   "nbconvert_exporter": "python",
   "pygments_lexer": "ipython3",
   "version": "3.12.4"
  }
 },
 "nbformat": 4,
 "nbformat_minor": 5
}
