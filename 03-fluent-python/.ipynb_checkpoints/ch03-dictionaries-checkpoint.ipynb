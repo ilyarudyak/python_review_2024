{
 "cells": [
  {
   "cell_type": "code",
   "execution_count": 41,
   "id": "00ffdb17-a682-4a3d-b29b-0c2a8a813597",
   "metadata": {},
   "outputs": [],
   "source": [
    "import re\n",
    "import sys"
   ]
  },
  {
   "cell_type": "markdown",
   "id": "ba1b7609-5815-46da-ae58-f01a376a2941",
   "metadata": {
    "jp-MarkdownHeadingCollapsed": true
   },
   "source": [
    "## Modern `dict` Syntax"
   ]
  },
  {
   "cell_type": "markdown",
   "id": "8b8af549-c968-4550-8271-c6d5f9eba755",
   "metadata": {},
   "source": [
    "### `dict` Comprehensions"
   ]
  },
  {
   "cell_type": "markdown",
   "id": "915b4595-219f-494c-85f1-6a60f1fd92b7",
   "metadata": {},
   "source": [
    "> Since Python 2.7, the syntax of `listcomps` ... was adapted to `dict` comprehensions ... A `dictcomp` (`dict` comprehension) builds a `dict` instance by taking `key:value` pairs from any `iterable`."
   ]
  },
  {
   "cell_type": "code",
   "execution_count": 1,
   "id": "e9959035-299a-4521-8777-32e5b71f4a3c",
   "metadata": {},
   "outputs": [],
   "source": [
    "dial_codes = [                                                  # <1>\n",
    "    (880, 'Bangladesh'),\n",
    "    (55,  'Brazil'),\n",
    "    (86,  'China'),\n",
    "    (91,  'India'),\n",
    "    (62,  'Indonesia'),\n",
    "    (81,  'Japan'),\n",
    "    (234, 'Nigeria'),\n",
    "    (92,  'Pakistan'),\n",
    "    (7,   'Russia'),\n",
    "    (1,   'United States'),\n",
    "]"
   ]
  },
  {
   "cell_type": "code",
   "execution_count": 2,
   "id": "aa88349d-c3f7-4b58-befe-06b134fa9905",
   "metadata": {},
   "outputs": [],
   "source": [
    "# Let's create a dict using comprehensions\n",
    "country_dial = {country: code for code, country in dial_codes}"
   ]
  },
  {
   "cell_type": "code",
   "execution_count": 3,
   "id": "dc960445-d585-4e33-b095-c2ddeeb7c6d7",
   "metadata": {},
   "outputs": [
    {
     "data": {
      "text/plain": [
       "{'Bangladesh': 880,\n",
       " 'Brazil': 55,\n",
       " 'China': 86,\n",
       " 'India': 91,\n",
       " 'Indonesia': 62,\n",
       " 'Japan': 81,\n",
       " 'Nigeria': 234,\n",
       " 'Pakistan': 92,\n",
       " 'Russia': 7,\n",
       " 'United States': 1}"
      ]
     },
     "execution_count": 3,
     "metadata": {},
     "output_type": "execute_result"
    }
   ],
   "source": [
    "country_dial"
   ]
  },
  {
   "cell_type": "code",
   "execution_count": 4,
   "id": "53ad09ea-0b40-4101-809e-3c55f2816c98",
   "metadata": {},
   "outputs": [
    {
     "data": {
      "text/plain": [
       "{1: 'UNITED STATES', 7: 'RUSSIA', 55: 'BRAZIL', 62: 'INDONESIA'}"
      ]
     },
     "execution_count": 4,
     "metadata": {},
     "output_type": "execute_result"
    }
   ],
   "source": [
    "# Let's reverse the dictionary, turn countries into upper case, sort by code and limit code < 70\n",
    "{code: country.upper() for country, code in sorted(country_dial.items(), key=lambda x: int(x[1])) if code < 70}"
   ]
  },
  {
   "cell_type": "code",
   "execution_count": 5,
   "id": "8551c61f-5f11-4c10-a7b9-96d0bd1805ed",
   "metadata": {},
   "outputs": [
    {
     "data": {
      "text/plain": [
       "{55: 'BRAZIL', 62: 'INDONESIA', 7: 'RUSSIA', 1: 'UNITED STATES'}"
      ]
     },
     "execution_count": 5,
     "metadata": {},
     "output_type": "execute_result"
    }
   ],
   "source": [
    "# Sort by a country name\n",
    "{code: country.upper() for country, code in sorted(country_dial.items(), key=lambda x: x[0]) if code < 70}"
   ]
  },
  {
   "cell_type": "markdown",
   "id": "0f9d90fa-91d7-48be-bb78-30d76ab89207",
   "metadata": {},
   "source": [
    "### Unpacking Mappings"
   ]
  },
  {
   "cell_type": "markdown",
   "id": "817c58af-dae3-4094-8b9b-ad8b9c0eea45",
   "metadata": {},
   "source": [
    "First of all, Python allows to use keyword arguments. In other words, identify arguments by a *name*, not a position. Here's an example from *Lutz, p. 532*. This is different from *default* arguments.\n",
    "```python\n",
    "def f(a, b, c): \n",
    "    print(a, b, c)\n",
    "\n",
    "# We may call this function like this\n",
    "f(a=1, b=2, c=3)\n",
    "```"
   ]
  },
  {
   "cell_type": "markdown",
   "id": "c6bb489c-f4f0-47ee-b83a-005fa630f0c3",
   "metadata": {},
   "source": [
    "We also have a support for functions that take *any number* of *positional* arguments. Let's first consider a single asterisk `*` in a function definition. Here we use `*` in the function definition, not in the call. \n",
    "> The first use... collects any number of *positional* arguments into a tuple."
   ]
  },
  {
   "cell_type": "code",
   "execution_count": 12,
   "id": "84bbfe6f-15fc-4457-b6de-b900d064fdc1",
   "metadata": {},
   "outputs": [],
   "source": [
    "def f(*args):\n",
    "    return args"
   ]
  },
  {
   "cell_type": "code",
   "execution_count": 13,
   "id": "b95ee774-9f0b-4f22-9369-e3777138f6ed",
   "metadata": {},
   "outputs": [],
   "source": [
    "args = f(1, 2, 3, 4)"
   ]
  },
  {
   "cell_type": "code",
   "execution_count": 14,
   "id": "511fd0e5-4a7b-4dd3-a5af-26179b48aca3",
   "metadata": {},
   "outputs": [
    {
     "data": {
      "text/plain": [
       "tuple"
      ]
     },
     "execution_count": 14,
     "metadata": {},
     "output_type": "execute_result"
    }
   ],
   "source": [
    "type(args)"
   ]
  },
  {
   "cell_type": "code",
   "execution_count": 15,
   "id": "104e6adc-62c1-47fb-9e9b-f7c58556003a",
   "metadata": {},
   "outputs": [
    {
     "data": {
      "text/plain": [
       "(1, 2, 3, 4)"
      ]
     },
     "execution_count": 15,
     "metadata": {},
     "output_type": "execute_result"
    }
   ],
   "source": [
    "args"
   ]
  },
  {
   "cell_type": "markdown",
   "id": "26cd1e90-0e43-44cb-a0cc-d2e1bd0f6e9f",
   "metadata": {},
   "source": [
    "Finally, we also have support for any number of *keyword* arguments. In this case we use a double asterisk `**`.\n",
    "> The `**` feature is similar, but it only works for keyword arguments—it collects them into a new dictionary, which can then be processed with normal dictionary tools. "
   ]
  },
  {
   "cell_type": "code",
   "execution_count": 16,
   "id": "64a57b9d-9b00-4f17-a08b-cab83c2f2428",
   "metadata": {},
   "outputs": [],
   "source": [
    "def g(**kwargs): \n",
    "    return kwargs"
   ]
  },
  {
   "cell_type": "code",
   "execution_count": 17,
   "id": "f02ba330-50ac-4cad-bbc2-512fe4f1194e",
   "metadata": {},
   "outputs": [],
   "source": [
    "kwargs = g(x=1, y=2)"
   ]
  },
  {
   "cell_type": "code",
   "execution_count": 18,
   "id": "b452aa55-7fa0-4aca-bf05-54f28999115a",
   "metadata": {},
   "outputs": [
    {
     "data": {
      "text/plain": [
       "dict"
      ]
     },
     "execution_count": 18,
     "metadata": {},
     "output_type": "execute_result"
    }
   ],
   "source": [
    "type(kwargs)"
   ]
  },
  {
   "cell_type": "code",
   "execution_count": 19,
   "id": "dea1ab61-f8c5-40ad-a150-d14c2841ac5a",
   "metadata": {},
   "outputs": [
    {
     "data": {
      "text/plain": [
       "{'x': 1, 'y': 2}"
      ]
     },
     "execution_count": 19,
     "metadata": {},
     "output_type": "execute_result"
    }
   ],
   "source": [
    "kwargs"
   ]
  },
  {
   "cell_type": "markdown",
   "id": "944b2ebe-e606-4009-b7dd-d131f89fb04a",
   "metadata": {},
   "source": [
    "Now we can use `**` in *a call* (not as an *argument*) to unroll a dictionary into *keywords* arguments. The result of passing `**{'x': 1, 'y': 2}` is exactly the same as before."
   ]
  },
  {
   "cell_type": "code",
   "execution_count": 20,
   "id": "52cf1f2f-ba98-4a31-aeab-7e3c1c8e0452",
   "metadata": {},
   "outputs": [],
   "source": [
    "kwargs = g(**{'x': 1, 'y': 2})"
   ]
  },
  {
   "cell_type": "code",
   "execution_count": 21,
   "id": "5e381aa5-b09a-4cad-a384-4ab2ac75ce79",
   "metadata": {},
   "outputs": [
    {
     "data": {
      "text/plain": [
       "dict"
      ]
     },
     "execution_count": 21,
     "metadata": {},
     "output_type": "execute_result"
    }
   ],
   "source": [
    "type(kwargs)"
   ]
  },
  {
   "cell_type": "code",
   "execution_count": 22,
   "id": "d2de772a-fb3f-49a8-9109-6fe460321193",
   "metadata": {},
   "outputs": [
    {
     "data": {
      "text/plain": [
       "{'x': 1, 'y': 2}"
      ]
     },
     "execution_count": 22,
     "metadata": {},
     "output_type": "execute_result"
    }
   ],
   "source": [
    "kwargs"
   ]
  },
  {
   "cell_type": "markdown",
   "id": "ae86c225-3114-4a2f-9d9b-1637ca7dbb6f",
   "metadata": {},
   "source": [
    "Now we are ready to understand what's specifiied in the book:\n",
    "> First, we can apply `**` to *more than one argument* in a function call. This works when keys are all strings and unique across all arguments (because duplicate keyword arguments are forbidden)."
   ]
  },
  {
   "cell_type": "code",
   "execution_count": 23,
   "id": "a2227adf-b69e-40af-87c3-0d84868957f0",
   "metadata": {},
   "outputs": [],
   "source": [
    "kwargs = g(**{'x': 1}, y=2, **{'z': 3})"
   ]
  },
  {
   "cell_type": "code",
   "execution_count": 24,
   "id": "8cf404a0-8c2f-4941-a21e-ac30382cca4b",
   "metadata": {},
   "outputs": [
    {
     "data": {
      "text/plain": [
       "{'x': 1, 'y': 2, 'z': 3}"
      ]
     },
     "execution_count": 24,
     "metadata": {},
     "output_type": "execute_result"
    }
   ],
   "source": [
    "kwargs"
   ]
  },
  {
   "cell_type": "markdown",
   "id": "3a6dd7df-62df-43ed-a5c9-e391a5cff407",
   "metadata": {},
   "source": [
    "### Merging Mappings with `|`"
   ]
  },
  {
   "cell_type": "markdown",
   "id": "66273138-d4fb-4868-863c-1391eee8696d",
   "metadata": {},
   "source": [
    "We may merge dictionaries with (`|=`) or without mutating (`|`)."
   ]
  },
  {
   "cell_type": "code",
   "execution_count": 25,
   "id": "b09fa9ff-18ee-4bb4-97d6-ab6c53dab609",
   "metadata": {},
   "outputs": [],
   "source": [
    "d1 = {'a': 1, 'b': 3}"
   ]
  },
  {
   "cell_type": "code",
   "execution_count": 26,
   "id": "e143d63b-3f54-4ec7-8906-9afec07292ed",
   "metadata": {},
   "outputs": [],
   "source": [
    "d2 = {'a': 2, 'b': 4, 'c': 6}"
   ]
  },
  {
   "cell_type": "code",
   "execution_count": 27,
   "id": "42826c36-d17c-4434-a77e-6729d2aeb072",
   "metadata": {},
   "outputs": [
    {
     "data": {
      "text/plain": [
       "{'a': 2, 'b': 4, 'c': 6}"
      ]
     },
     "execution_count": 27,
     "metadata": {},
     "output_type": "execute_result"
    }
   ],
   "source": [
    "d1 | d2"
   ]
  },
  {
   "cell_type": "code",
   "execution_count": 29,
   "id": "d3057ee7-0e50-4168-abed-f6b8990f72f3",
   "metadata": {},
   "outputs": [
    {
     "data": {
      "text/plain": [
       "{'a': 1, 'b': 3}"
      ]
     },
     "execution_count": 29,
     "metadata": {},
     "output_type": "execute_result"
    }
   ],
   "source": [
    "# No changes in d1\n",
    "d1"
   ]
  },
  {
   "cell_type": "code",
   "execution_count": 30,
   "id": "5fcb3861-682b-4c2c-b909-21cd70cfffca",
   "metadata": {},
   "outputs": [],
   "source": [
    "d1 |= d2"
   ]
  },
  {
   "cell_type": "code",
   "execution_count": 31,
   "id": "03e692a6-9433-44af-b25c-dc8425a71936",
   "metadata": {},
   "outputs": [
    {
     "data": {
      "text/plain": [
       "{'a': 2, 'b': 4, 'c': 6}"
      ]
     },
     "execution_count": 31,
     "metadata": {},
     "output_type": "execute_result"
    }
   ],
   "source": [
    "d1"
   ]
  },
  {
   "cell_type": "markdown",
   "id": "a727faa2-3c3d-47c6-a17a-7b97241e0758",
   "metadata": {
    "jp-MarkdownHeadingCollapsed": true
   },
   "source": [
    "## Pattern Matching with Mappings"
   ]
  },
  {
   "cell_type": "code",
   "execution_count": null,
   "id": "cba4fd06-872a-4285-93db-9e82b14d5695",
   "metadata": {},
   "outputs": [],
   "source": []
  },
  {
   "cell_type": "code",
   "execution_count": null,
   "id": "7fa485f3-4bb2-496e-b6df-5777776fe66b",
   "metadata": {},
   "outputs": [],
   "source": []
  },
  {
   "cell_type": "code",
   "execution_count": null,
   "id": "71a74f63-7451-4461-81cb-45ed98be190f",
   "metadata": {},
   "outputs": [],
   "source": []
  },
  {
   "cell_type": "code",
   "execution_count": null,
   "id": "dae8706c-49b2-4193-9f1b-e0ab2e5bf0f4",
   "metadata": {},
   "outputs": [],
   "source": []
  },
  {
   "cell_type": "code",
   "execution_count": null,
   "id": "2071051e-78cb-462e-a958-efd82a484c94",
   "metadata": {},
   "outputs": [],
   "source": []
  },
  {
   "cell_type": "markdown",
   "id": "9b4397c0-5c89-44d2-b065-ccd1bbf6e0e4",
   "metadata": {},
   "source": [
    "## Standard API of Mapping Types"
   ]
  },
  {
   "cell_type": "code",
   "execution_count": null,
   "id": "9f8f7abe-77b8-4edf-bd01-2cb9b6656ca0",
   "metadata": {},
   "outputs": [],
   "source": []
  },
  {
   "cell_type": "code",
   "execution_count": null,
   "id": "1e53f7d5-3826-4045-a616-194fba8f9e6a",
   "metadata": {},
   "outputs": [],
   "source": []
  },
  {
   "cell_type": "code",
   "execution_count": null,
   "id": "cdadd3ce-39d9-4bdb-946e-17a1c2cf6ffb",
   "metadata": {},
   "outputs": [],
   "source": []
  },
  {
   "cell_type": "markdown",
   "id": "c76d0e35-4148-49fd-b0e9-fc46525d028a",
   "metadata": {},
   "source": [
    "### Inserting or Updating Mutable Values"
   ]
  },
  {
   "cell_type": "markdown",
   "id": "57ec7166-fc94-4f68-a2b8-391834b34e85",
   "metadata": {},
   "source": [
    "To undestand this code we need some intro to `regex`:\n",
    "> - `re.findall()` Return **all*8 non-overlapping matches of pattern in string, as a list of strings or tuples.\n",
    "> - `re.finditer()` Return an iterator yielding Match objects over all non-overlapping matches for the RE pattern in string.\n",
    "> - `class re.Match` Match object returned by successful matches and searches.\n",
    "> - `Match.group([group1, ...])` Without arguments, group1 defaults to zero (the whole match is returned).\n",
    "> - `Match.start([group])` Return the indices of the start ... of the substring matched by group; group defaults to zero (meaning the whole matched substring). "
   ]
  },
  {
   "cell_type": "code",
   "execution_count": 54,
   "id": "e1e27d8b-1c95-4d82-8a60-32e028acb586",
   "metadata": {},
   "outputs": [],
   "source": [
    "WORD_RE = re.compile(r'\\w+')\n",
    "\n",
    "index = {}\n",
    "with open('zen.txt', encoding='utf-8') as fp:\n",
    "    for line_no, line in enumerate(fp, 1): \n",
    "        for match in WORD_RE.finditer(line):\n",
    "            word = match.group()\n",
    "            column_no = match.start() + 1\n",
    "            location = (line_no, column_no)\n",
    "            # this is ugly; coded like this to make a point \n",
    "            occurrences = index.get(word, []) \n",
    "            occurrences.append(location)\n",
    "            index[word] = occurrences"
   ]
  },
  {
   "cell_type": "markdown",
   "id": "3bfefbca-3333-426a-83b8-bd4cfa8b94b0",
   "metadata": {
    "jp-MarkdownHeadingCollapsed": true
   },
   "source": [
    "#### ====DEBUGGING===="
   ]
  },
  {
   "cell_type": "code",
   "execution_count": 50,
   "id": "b8c45c63-6396-4f95-92fe-492e5b3f17ca",
   "metadata": {},
   "outputs": [
    {
     "name": "stdout",
     "output_type": "stream",
     "text": [
      "line:The Zen of Python, by Tim Peters\n",
      "word:The column_no:1\n",
      "word:Zen column_no:5\n",
      "word:of column_no:9\n",
      "word:Python column_no:12\n",
      "word:by column_no:20\n",
      "word:Tim column_no:23\n",
      "word:Peters column_no:27\n"
     ]
    }
   ],
   "source": [
    "with open('zen.txt', encoding='utf-8') as fp:\n",
    "    for line_no, line in enumerate(fp, 1):\n",
    "        if line_no > 1: break\n",
    "        print(f\"line:{line.strip()}\")\n",
    "        for match in WORD_RE.finditer(line):\n",
    "            word = match.group()\n",
    "            column_no = match.start() + 1\n",
    "            print(f\"word:{word} column_no:{column_no}\")\n",
    "            "
   ]
  },
  {
   "cell_type": "code",
   "execution_count": 53,
   "id": "c97f5910-403a-4cc7-89e7-f82f78a262db",
   "metadata": {},
   "outputs": [
    {
     "name": "stdout",
     "output_type": "stream",
     "text": [
      "index:{'The': [(1, 1)]}\n",
      "index:{'The': [(1, 1)], 'Zen': [(1, 5)]}\n",
      "index:{'The': [(1, 1)], 'Zen': [(1, 5)], 'of': [(1, 9)]}\n",
      "index:{'The': [(1, 1)], 'Zen': [(1, 5)], 'of': [(1, 9)], 'Python': [(1, 12)]}\n",
      "index:{'The': [(1, 1)], 'Zen': [(1, 5)], 'of': [(1, 9)], 'Python': [(1, 12)], 'by': [(1, 20)]}\n",
      "index:{'The': [(1, 1)], 'Zen': [(1, 5)], 'of': [(1, 9)], 'Python': [(1, 12)], 'by': [(1, 20)], 'Tim': [(1, 23)]}\n",
      "index:{'The': [(1, 1)], 'Zen': [(1, 5)], 'of': [(1, 9)], 'Python': [(1, 12)], 'by': [(1, 20)], 'Tim': [(1, 23)], 'Peters': [(1, 27)]}\n"
     ]
    }
   ],
   "source": [
    "index = {}\n",
    "with open('zen.txt', encoding='utf-8') as fp:\n",
    "    for line_no, line in enumerate(fp, 1):\n",
    "        if line_no > 1: break\n",
    "        # print(f\"line:{line.strip()}\")\n",
    "        for match in WORD_RE.finditer(line):\n",
    "            word = match.group()\n",
    "            column_no = match.start() + 1\n",
    "            location = (line_no, column_no)\n",
    "            # print(f\"word:{word} column_no:{column_no}\")\n",
    "            occurrences = index.get(word, [])\n",
    "            occurrences.append(location)\n",
    "            index[word] = occurrences\n",
    "            print(f\"index:{index}\")"
   ]
  },
  {
   "cell_type": "markdown",
   "id": "f63b022a-8511-4124-a8d1-258cc77646a9",
   "metadata": {},
   "source": [
    "#### ====DEBUGGING===="
   ]
  },
  {
   "cell_type": "code",
   "execution_count": 55,
   "id": "12ffc949-b554-49eb-8f83-a9002a691a60",
   "metadata": {},
   "outputs": [],
   "source": [
    "occurrences = list(sorted(index, key=str.upper))[:10]"
   ]
  },
  {
   "cell_type": "code",
   "execution_count": 56,
   "id": "214ec3a5-11ce-4e29-8479-b92cf0e45c1c",
   "metadata": {},
   "outputs": [
    {
     "name": "stdout",
     "output_type": "stream",
     "text": [
      "a [(19, 48), (20, 53)]\n",
      "Although [(11, 1), (16, 1), (18, 1)]\n",
      "ambiguity [(14, 16)]\n",
      "and [(15, 23)]\n",
      "are [(21, 12)]\n",
      "aren [(10, 15)]\n",
      "at [(16, 38)]\n",
      "bad [(19, 50)]\n",
      "be [(15, 14), (16, 27), (20, 50)]\n",
      "beats [(11, 23)]\n"
     ]
    }
   ],
   "source": [
    "for word in occurrences: \n",
    "    print(word, index[word])"
   ]
  },
  {
   "cell_type": "markdown",
   "id": "18a3f3ec-ccf3-47e0-8aa7-a1085af3765f",
   "metadata": {},
   "source": [
    "So `location` is a tuple like `(15, 23)`. `occurrences = index.get(word, [])` looks up a word in `index`. If no word it returns "
   ]
  },
  {
   "cell_type": "code",
   "execution_count": null,
   "id": "29bbaae8-edaf-4c04-a7d6-7310d3c8b9ef",
   "metadata": {},
   "outputs": [],
   "source": []
  },
  {
   "cell_type": "markdown",
   "id": "d9df4f34-edfb-44be-9399-35016b572b8a",
   "metadata": {},
   "source": [
    "## Automatic Handling of Missing Keys"
   ]
  },
  {
   "cell_type": "markdown",
   "id": "9bc2e01c-8010-4f2a-9e83-dcfbed7a45d0",
   "metadata": {},
   "source": [
    "So what happens when we're indexing by a non-existent key? As we may see, we get an exception or a default value based on the method we use.\n",
    "> In line with Python’s *fail-fast philosophy*, dict access with `d[k]` raises an error when k is not an existing key. Pythonistas know that `d.get(k, default)` is an alternative to `d[k]` whenever a default value is more convenient than handling `KeyError`."
   ]
  },
  {
   "cell_type": "code",
   "execution_count": 32,
   "id": "82e900d2-d609-412f-b76e-5e2cf82ee91c",
   "metadata": {},
   "outputs": [],
   "source": [
    "d = {'a': 1, 'b': 2}"
   ]
  },
  {
   "cell_type": "code",
   "execution_count": 33,
   "id": "0b95da73-b1f6-447d-9f16-c97be636a1d0",
   "metadata": {},
   "outputs": [
    {
     "ename": "KeyError",
     "evalue": "'c'",
     "output_type": "error",
     "traceback": [
      "\u001b[0;31m---------------------------------------------------------------------------\u001b[0m",
      "\u001b[0;31mKeyError\u001b[0m                                  Traceback (most recent call last)",
      "Cell \u001b[0;32mIn[33], line 1\u001b[0m\n\u001b[0;32m----> 1\u001b[0m \u001b[43md\u001b[49m\u001b[43m[\u001b[49m\u001b[38;5;124;43m'\u001b[39;49m\u001b[38;5;124;43mc\u001b[39;49m\u001b[38;5;124;43m'\u001b[39;49m\u001b[43m]\u001b[49m\n",
      "\u001b[0;31mKeyError\u001b[0m: 'c'"
     ]
    }
   ],
   "source": [
    "d['c']"
   ]
  },
  {
   "cell_type": "code",
   "execution_count": 35,
   "id": "355354d2-d14c-41a6-825f-6e1ebe192e3e",
   "metadata": {},
   "outputs": [
    {
     "data": {
      "text/plain": [
       "(0, None)"
      ]
     },
     "execution_count": 35,
     "metadata": {},
     "output_type": "execute_result"
    }
   ],
   "source": [
    "d.get('c', 0), d.get('c')"
   ]
  },
  {
   "cell_type": "code",
   "execution_count": 36,
   "id": "51896d9a-7fbe-493d-9226-56f0f8fb9aa1",
   "metadata": {},
   "outputs": [
    {
     "data": {
      "text/plain": [
       "{'a': 1, 'b': 2}"
      ]
     },
     "execution_count": 36,
     "metadata": {},
     "output_type": "execute_result"
    }
   ],
   "source": [
    "d"
   ]
  },
  {
   "cell_type": "markdown",
   "id": "c3bdbb67-9218-40e7-940f-f13e9e20479b",
   "metadata": {},
   "source": [
    "We may see that the dictionary is unchanged after using `d.get('c', 0)`. We may use `d.setdefault('c', 0)` to change this behavior. If we call `d.setdefault('a', 0)` it just *returns* the value for `'a'` and `d` is not changed."
   ]
  },
  {
   "cell_type": "code",
   "execution_count": 37,
   "id": "baf1ead9-8552-4e07-99ed-2b211115ce98",
   "metadata": {},
   "outputs": [
    {
     "data": {
      "text/plain": [
       "1"
      ]
     },
     "execution_count": 37,
     "metadata": {},
     "output_type": "execute_result"
    }
   ],
   "source": [
    "d.setdefault('a', 0)"
   ]
  },
  {
   "cell_type": "code",
   "execution_count": 38,
   "id": "7521b870-38cb-47b4-b036-8c265d0eb2ed",
   "metadata": {},
   "outputs": [
    {
     "data": {
      "text/plain": [
       "{'a': 1, 'b': 2}"
      ]
     },
     "execution_count": 38,
     "metadata": {},
     "output_type": "execute_result"
    }
   ],
   "source": [
    "d"
   ]
  },
  {
   "cell_type": "code",
   "execution_count": 39,
   "id": "bf7d640a-9d34-4bd3-8dae-cfe270a682b2",
   "metadata": {},
   "outputs": [
    {
     "data": {
      "text/plain": [
       "0"
      ]
     },
     "execution_count": 39,
     "metadata": {},
     "output_type": "execute_result"
    }
   ],
   "source": [
    "d.setdefault('c', 0)"
   ]
  },
  {
   "cell_type": "code",
   "execution_count": 40,
   "id": "a98a66de-a336-45e2-bdb7-6bbf05451cae",
   "metadata": {},
   "outputs": [
    {
     "data": {
      "text/plain": [
       "{'a': 1, 'b': 2, 'c': 0}"
      ]
     },
     "execution_count": 40,
     "metadata": {},
     "output_type": "execute_result"
    }
   ],
   "source": [
    "d"
   ]
  },
  {
   "cell_type": "code",
   "execution_count": null,
   "id": "6cb264c4-bd50-4644-8ac5-b3732c3babc0",
   "metadata": {},
   "outputs": [],
   "source": []
  },
  {
   "cell_type": "code",
   "execution_count": null,
   "id": "ad8cb731-0815-445f-9100-4d66efd5e6f4",
   "metadata": {},
   "outputs": [],
   "source": []
  }
 ],
 "metadata": {
  "kernelspec": {
   "display_name": "Python 3 (ipykernel)",
   "language": "python",
   "name": "python3"
  },
  "language_info": {
   "codemirror_mode": {
    "name": "ipython",
    "version": 3
   },
   "file_extension": ".py",
   "mimetype": "text/x-python",
   "name": "python",
   "nbconvert_exporter": "python",
   "pygments_lexer": "ipython3",
   "version": "3.12.4"
  }
 },
 "nbformat": 4,
 "nbformat_minor": 5
}
