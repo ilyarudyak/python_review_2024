{
 "cells": [
  {
   "cell_type": "code",
   "execution_count": 8,
   "id": "6a802853-29fa-4084-aed2-9ac06b982965",
   "metadata": {},
   "outputs": [],
   "source": [
    "import numpy as np\n",
    "import pandas as pd\n",
    "from vega_datasets import data\n",
    "import matplotlib.pyplot as plt"
   ]
  },
  {
   "cell_type": "markdown",
   "id": "2a219e82-505d-4a1e-bf04-b9a93e665b97",
   "metadata": {},
   "source": [
    "## Example: Counting Rainy Days"
   ]
  },
  {
   "cell_type": "code",
   "execution_count": 5,
   "id": "2f8214cc-a260-4304-8105-2762c726fb2f",
   "metadata": {},
   "outputs": [],
   "source": [
    "rainfall_mm = np.array(data.seattle_weather().set_index('date')['precipitation']['2015'])"
   ]
  },
  {
   "cell_type": "code",
   "execution_count": 7,
   "id": "655e7793-2dae-4d8f-8f32-c3642a4874b0",
   "metadata": {},
   "outputs": [
    {
     "data": {
      "text/plain": [
       "(365,)"
      ]
     },
     "execution_count": 7,
     "metadata": {},
     "output_type": "execute_result"
    }
   ],
   "source": [
    "rainfall_mm.shape"
   ]
  },
  {
   "cell_type": "code",
   "execution_count": 18,
   "id": "8ec60430-59ea-497d-b00f-083d626692c6",
   "metadata": {},
   "outputs": [
    {
     "data": {
      "text/plain": [
       "array([ 0. ,  1.5,  0. , 10.2,  8.1,  0. ,  0. ,  0. ,  0.3,  5.8])"
      ]
     },
     "execution_count": 18,
     "metadata": {},
     "output_type": "execute_result"
    }
   ],
   "source": [
    "rainfall_mm[:10]"
   ]
  },
  {
   "cell_type": "code",
   "execution_count": 23,
   "id": "7899afd2-9977-40b5-a5f3-808530109b3b",
   "metadata": {},
   "outputs": [
    {
     "data": {
      "text/plain": [
       "np.float64(55.9)"
      ]
     },
     "execution_count": 23,
     "metadata": {},
     "output_type": "execute_result"
    }
   ],
   "source": [
    "np.max(rainfall_mm)"
   ]
  },
  {
   "cell_type": "code",
   "execution_count": 11,
   "id": "75ce42b3-f7a8-4901-a342-4138bd4e7cb9",
   "metadata": {},
   "outputs": [],
   "source": [
    "plt.style.use('seaborn-v0_8-whitegrid')"
   ]
  },
  {
   "cell_type": "code",
   "execution_count": 19,
   "id": "cebd3837-9f10-43a7-9d1f-f7d21b0f7c5e",
   "metadata": {},
   "outputs": [
    {
     "data": {
      "image/png": "[encoded data removed]",
      "text/plain": [
       "<Figure size 300x200 with 1 Axes>"
      ]
     },
     "metadata": {},
     "output_type": "display_data"
    }
   ],
   "source": [
    "plt.figure(figsize=(3, 2))\n",
    "plt.hist(rainfall_mm, bins=10);"
   ]
  },
  {
   "cell_type": "code",
   "execution_count": 20,
   "id": "86aa92df-d65e-4262-a4a1-015016bf25da",
   "metadata": {},
   "outputs": [],
   "source": [
    "counts, bin_edges = np.histogram(rainfall_mm, bins=10)"
   ]
  },
  {
   "cell_type": "code",
   "execution_count": 21,
   "id": "e220f504-9aaf-4dd0-9efe-a6fa480cb62a",
   "metadata": {},
   "outputs": [
    {
     "data": {
      "text/plain": [
       "array([307,  27,   8,   7,   7,   6,   0,   0,   1,   2])"
      ]
     },
     "execution_count": 21,
     "metadata": {},
     "output_type": "execute_result"
    }
   ],
   "source": [
    "counts"
   ]
  },
  {
   "cell_type": "code",
   "execution_count": 22,
   "id": "43e3c325-0248-4aaf-9602-351f8e99187e",
   "metadata": {},
   "outputs": [
    {
     "data": {
      "text/plain": [
       "array([ 0.  ,  5.59, 11.18, 16.77, 22.36, 27.95, 33.54, 39.13, 44.72,\n",
       "       50.31, 55.9 ])"
      ]
     },
     "execution_count": 22,
     "metadata": {},
     "output_type": "execute_result"
    }
   ],
   "source": [
    "bin_edges"
   ]
  },
  {
   "cell_type": "markdown",
   "id": "e9b09b55-fd94-4363-b8dd-87d1906fb044",
   "metadata": {},
   "source": [
    "In other words, 307 days were without any rain. JV states more question:\n",
    "> But this doesn’t do a good job of conveying some information we’d like to see: for example, how many rainy days were there in the year? What was the average precipitation on those rainy days? How many days were there with more than 10 mm of rainfall?"
   ]
  },
  {
   "cell_type": "markdown",
   "id": "10d878a4-70d2-455a-9a53-590b692df3ff",
   "metadata": {},
   "source": [
    "### How many rainy days were there in the year?"
   ]
  },
  {
   "cell_type": "code",
   "execution_count": 28,
   "id": "1ad206ff-89cc-4e02-8a37-e29824259ea3",
   "metadata": {},
   "outputs": [],
   "source": [
    "ba = rainfall_mm > 0"
   ]
  },
  {
   "cell_type": "code",
   "execution_count": 27,
   "id": "99042f3c-731b-4cdd-9c0f-67bf785049ff",
   "metadata": {},
   "outputs": [
    {
     "data": {
      "text/plain": [
       "array([False,  True, False,  True,  True, False, False, False,  True,\n",
       "        True])"
      ]
     },
     "execution_count": 27,
     "metadata": {},
     "output_type": "execute_result"
    }
   ],
   "source": [
    "ba[:10]"
   ]
  },
  {
   "cell_type": "code",
   "execution_count": 29,
   "id": "2bb4da79-9276-4b24-93a8-69397ed21492",
   "metadata": {},
   "outputs": [
    {
     "data": {
      "text/plain": [
       "144"
      ]
     },
     "execution_count": 29,
     "metadata": {},
     "output_type": "execute_result"
    }
   ],
   "source": [
    "np.count_nonzero(ba)"
   ]
  },
  {
   "cell_type": "code",
   "execution_count": 30,
   "id": "db451cba-8adc-44be-896e-8814a854e372",
   "metadata": {},
   "outputs": [
    {
     "data": {
      "text/plain": [
       "np.int64(144)"
      ]
     },
     "execution_count": 30,
     "metadata": {},
     "output_type": "execute_result"
    }
   ],
   "source": [
    "np.sum(ba)"
   ]
  },
  {
   "cell_type": "markdown",
   "id": "8c4c8042-8ad0-4f21-81ff-14dc0be2e1e4",
   "metadata": {},
   "source": [
    "### Average precipitation on those rainy days"
   ]
  },
  {
   "cell_type": "code",
   "execution_count": 32,
   "id": "cf7be552-b493-4ae0-81d1-136513a4f561",
   "metadata": {},
   "outputs": [
    {
     "data": {
      "text/plain": [
       "np.float64(7.91111111111111)"
      ]
     },
     "execution_count": 32,
     "metadata": {},
     "output_type": "execute_result"
    }
   ],
   "source": [
    "np.mean(rainfall_mm[rainfall_mm > 0])"
   ]
  },
  {
   "cell_type": "markdown",
   "id": "b9bded1b-685d-4af1-9f53-0287f1c10744",
   "metadata": {},
   "source": [
    "### How many days were there with more than 10 mm of rainfall?"
   ]
  },
  {
   "cell_type": "code",
   "execution_count": 36,
   "id": "2a2058cf-d8cb-42da-9e37-8a844e6ad101",
   "metadata": {},
   "outputs": [],
   "source": [
    "ba10 = rainfall_mm > 10"
   ]
  },
  {
   "cell_type": "code",
   "execution_count": 37,
   "id": "86e91b81-6e6a-4553-9cd2-f91808fa0f20",
   "metadata": {},
   "outputs": [
    {
     "data": {
      "text/plain": [
       "34"
      ]
     },
     "execution_count": 37,
     "metadata": {},
     "output_type": "execute_result"
    }
   ],
   "source": [
    "np.count_nonzero(ba10)"
   ]
  },
  {
   "cell_type": "code",
   "execution_count": 39,
   "id": "1579e9f0-93a7-49f0-b0dc-1c008dbead5b",
   "metadata": {},
   "outputs": [
    {
     "data": {
      "text/plain": [
       "34"
      ]
     },
     "execution_count": 39,
     "metadata": {},
     "output_type": "execute_result"
    }
   ],
   "source": [
    "rainfall_mm[rainfall_mm > 10].size"
   ]
  },
  {
   "cell_type": "markdown",
   "id": "fa7e79cd-c5e0-4c8a-947f-cf35e14e9f30",
   "metadata": {},
   "source": [
    "## Boolean Arrays as Masks"
   ]
  },
  {
   "cell_type": "markdown",
   "id": "f43ef6ec-932c-4826-aaa5-98b1746524f0",
   "metadata": {},
   "source": [
    "We may use Boolean array as masks. The new for me is that we may use a variable for a mask."
   ]
  },
  {
   "cell_type": "code",
   "execution_count": 40,
   "id": "1ef4545e-45e3-40b3-8841-2b8b5d5a7389",
   "metadata": {},
   "outputs": [],
   "source": [
    "rainy = (rainfall_mm > 0)"
   ]
  },
  {
   "cell_type": "code",
   "execution_count": 41,
   "id": "9140df6c-9ec7-442e-b518-95e2b273bf5a",
   "metadata": {},
   "outputs": [
    {
     "data": {
      "text/plain": [
       "365"
      ]
     },
     "execution_count": 41,
     "metadata": {},
     "output_type": "execute_result"
    }
   ],
   "source": [
    "rainy.size"
   ]
  },
  {
   "cell_type": "code",
   "execution_count": 43,
   "id": "3917bf37-81c6-4c7a-89a9-74150e5319e0",
   "metadata": {},
   "outputs": [],
   "source": [
    "days = np.arange(365)"
   ]
  },
  {
   "cell_type": "code",
   "execution_count": 44,
   "id": "0d984675-d87b-4d23-9212-0682ae3131d2",
   "metadata": {},
   "outputs": [],
   "source": [
    "summer = (days > 172) & (days < 262)"
   ]
  },
  {
   "cell_type": "code",
   "execution_count": 45,
   "id": "1d7213c8-47b6-45f4-b68b-5b2cb064c96c",
   "metadata": {},
   "outputs": [
    {
     "data": {
      "text/plain": [
       "365"
      ]
     },
     "execution_count": 45,
     "metadata": {},
     "output_type": "execute_result"
    }
   ],
   "source": [
    "summer.size"
   ]
  },
  {
   "cell_type": "markdown",
   "id": "8be1f95a-06c8-4a8f-b30b-e37e9e7976c4",
   "metadata": {},
   "source": [
    "### How many rainy days were in Summer and not in Summer?"
   ]
  },
  {
   "cell_type": "code",
   "execution_count": 47,
   "id": "b0fb0dad-6da8-40f4-9346-3d9e09a3698e",
   "metadata": {},
   "outputs": [
    {
     "data": {
      "text/plain": [
       "16"
      ]
     },
     "execution_count": 47,
     "metadata": {},
     "output_type": "execute_result"
    }
   ],
   "source": [
    "rainfall_mm[summer & rainy].size"
   ]
  },
  {
   "cell_type": "code",
   "execution_count": 48,
   "id": "299a37db-18c6-4847-ba70-902a48790c3b",
   "metadata": {},
   "outputs": [
    {
     "data": {
      "text/plain": [
       "128"
      ]
     },
     "execution_count": 48,
     "metadata": {},
     "output_type": "execute_result"
    }
   ],
   "source": [
    "rainfall_mm[~summer & rainy].size"
   ]
  },
  {
   "cell_type": "markdown",
   "id": "9fea676f-dee4-4043-8037-d6f0d1d73965",
   "metadata": {},
   "source": [
    "Is it correct?"
   ]
  },
  {
   "cell_type": "code",
   "execution_count": 49,
   "id": "e02615f2-b1b5-433a-9c16-e966a7f5bbe3",
   "metadata": {},
   "outputs": [
    {
     "data": {
      "text/plain": [
       "144"
      ]
     },
     "execution_count": 49,
     "metadata": {},
     "output_type": "execute_result"
    }
   ],
   "source": [
    "rainfall_mm[rainy].size"
   ]
  },
  {
   "cell_type": "markdown",
   "id": "d1a2af82-1809-468f-bfa8-552e72807696",
   "metadata": {},
   "source": [
    "This concludes the chapter on Comparisons, Masks, and Boolean Logic."
   ]
  }
 ],
 "metadata": {
  "kernelspec": {
   "display_name": "Python 3 (ipykernel)",
   "language": "python",
   "name": "python3"
  },
  "language_info": {
   "codemirror_mode": {
    "name": "ipython",
    "version": 3
   },
   "file_extension": ".py",
   "mimetype": "text/x-python",
   "name": "python",
   "nbconvert_exporter": "python",
   "pygments_lexer": "ipython3",
   "version": "3.12.4"
  }
 },
 "nbformat": 4,
 "nbformat_minor": 5
}
