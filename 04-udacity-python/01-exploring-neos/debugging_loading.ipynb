{
 "cells": [
  {
   "cell_type": "code",
   "execution_count": 2,
   "metadata": {},
   "outputs": [],
   "source": [
    "import extract\n",
    "\n",
    "# Add import to autoreload module\n",
    "%load_ext autoreload\n",
    "%autoreload 2"
   ]
  },
  {
   "cell_type": "markdown",
   "metadata": {},
   "source": [
    "### Debugging loading NEOs"
   ]
  },
  {
   "cell_type": "code",
   "execution_count": 26,
   "metadata": {},
   "outputs": [],
   "source": [
    "neos = extract.load_neos()"
   ]
  },
  {
   "cell_type": "code",
   "execution_count": 27,
   "metadata": {},
   "outputs": [
    {
     "data": {
      "text/plain": [
       "[NearEarthObject(designation='433', name='Eros', diameter=16.840, hazardous=False),\n",
       " NearEarthObject(designation='719', name='Albert', diameter=nan, hazardous=False),\n",
       " NearEarthObject(designation='887', name='Alinda', diameter=4.200, hazardous=False),\n",
       " NearEarthObject(designation='1036', name='Ganymed', diameter=37.675, hazardous=False),\n",
       " NearEarthObject(designation='1221', name='Amor', diameter=1.000, hazardous=False),\n",
       " NearEarthObject(designation='1566', name='Icarus', diameter=1.000, hazardous=True),\n",
       " NearEarthObject(designation='1580', name='Betulia', diameter=5.800, hazardous=False),\n",
       " NearEarthObject(designation='1620', name='Geographos', diameter=2.560, hazardous=True),\n",
       " NearEarthObject(designation='1627', name='Ivar', diameter=9.120, hazardous=False)]"
      ]
     },
     "execution_count": 27,
     "metadata": {},
     "output_type": "execute_result"
    }
   ],
   "source": [
    "neos"
   ]
  },
  {
   "cell_type": "code",
   "execution_count": 28,
   "metadata": {},
   "outputs": [
    {
     "name": "stdout",
     "output_type": "stream",
     "text": [
      "NEO 433 (Eros) has a diameter of 16.840 km and is not hazardous\n",
      "NEO 719 (Albert) has a diameter of nan km and is not hazardous\n",
      "NEO 887 (Alinda) has a diameter of 4.200 km and is not hazardous\n",
      "NEO 1036 (Ganymed) has a diameter of 37.675 km and is not hazardous\n",
      "NEO 1221 (Amor) has a diameter of 1.000 km and is not hazardous\n",
      "NEO 1566 (Icarus) has a diameter of 1.000 km and is hazardous\n",
      "NEO 1580 (Betulia) has a diameter of 5.800 km and is not hazardous\n",
      "NEO 1620 (Geographos) has a diameter of 2.560 km and is hazardous\n",
      "NEO 1627 (Ivar) has a diameter of 9.120 km and is not hazardous\n"
     ]
    }
   ],
   "source": [
    "for neo in neos:\n",
    "    print(neo)"
   ]
  }
 ],
 "metadata": {
  "kernelspec": {
   "display_name": "venv",
   "language": "python",
   "name": "python3"
  },
  "language_info": {
   "codemirror_mode": {
    "name": "ipython",
    "version": 3
   },
   "file_extension": ".py",
   "mimetype": "text/x-python",
   "name": "python",
   "nbconvert_exporter": "python",
   "pygments_lexer": "ipython3",
   "version": "3.12.4"
  }
 },
 "nbformat": 4,
 "nbformat_minor": 2
}
