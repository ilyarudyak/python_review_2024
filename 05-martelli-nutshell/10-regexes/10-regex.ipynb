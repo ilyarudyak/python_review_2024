{
 "cells": [
  {
   "cell_type": "code",
   "execution_count": 2,
   "id": "37af1520-d02e-4b15-b3c3-b7174aafb9f4",
   "metadata": {},
   "outputs": [],
   "source": [
    "import re"
   ]
  },
  {
   "cell_type": "markdown",
   "id": "546c6a67-6464-4a0c-971f-d95617e374f7",
   "metadata": {},
   "source": [
    "# Nutshell"
   ]
  },
  {
   "cell_type": "markdown",
   "id": "27a583e7-a0cd-4674-954f-d92565cf330e",
   "metadata": {},
   "source": [
    "## Regular Expressions and the re Module"
   ]
  },
  {
   "cell_type": "markdown",
   "id": "947d89c1-c3b9-4401-914b-31b806e8cd5e",
   "metadata": {},
   "source": [
    "### Pattern String Syntax"
   ]
  },
  {
   "cell_type": "markdown",
   "id": "5a15a496-7c28-4f54-8a4c-051fc01c7ce5",
   "metadata": {
    "jp-MarkdownHeadingCollapsed": true
   },
   "source": [
    "#### Raw strings `r''`"
   ]
  },
  {
   "cell_type": "markdown",
   "id": "a24caeb3-27a4-4d2e-b804-7337208cb3f1",
   "metadata": {},
   "source": [
    "Why do we use *raw* strings in `regex`? It's not that easy to explain in full. Let's go step-by-step:\n",
    "- First of all we have so called string escape symbols like `\\n` or `\\t`. There are not many intersections with `regex` patterns, but there are some: 1) `\\b` is a backspace for strings and `\\b` is a pattern for empty string; 2) `\\x` is an escape for hexadecimal numbers and `\\number` is a pattern for a group match. If we use raw strings string escape symbols are not interpreted.\n",
    "- More importantly we may *match* this string escape symbols: `r'\\t'` matches a tab symbol.\n",
    "> Pattern elements (such as `r'\\t'`, equivalent to the string literal `'\\\\t'`) do match the corresponding special characters (in this case, the tab character `\\t`), so you can use a raw string literal even when you need a literal match for such special characters.\n",
    "- Fo these reasons we can not use patterns as is in a string, we have to escape with yet another backslash: `'\\\\s+'`, not `'\\s+'`. But with raw string we do not need to do this: `f'\\s+'`.\n",
    "> In raw string literals, escape sequences are not interpreted as in Table 3-3, but are literally copied into the string, including backslashes and newline characters. Raw string literal syntax is handy for strings that include many backslashes, especially regular expression patterns."
   ]
  },
  {
   "cell_type": "markdown",
   "id": "ea4b3aff-d1b5-4070-9a68-7a57167d2089",
   "metadata": {},
   "source": [
    "#### Greedy vs Non-Greedy "
   ]
  },
  {
   "cell_type": "markdown",
   "id": "b4f99366-d827-4a6c-9547-99c88d87a917",
   "metadata": {},
   "source": [
    "What is the difference between greedy and non-greedy `regex`? \n",
    "> All of these examples are greedy, meaning that they match the substring beginning with the first occurrence of 'pre' all the way to the last occurrence of 'post'. When you care about what part of the string you match, you may often want to specify nongreedy matching, which in our example would match the substring beginning with the first occurrence of 'pre' but only up to the first following occurrence of 'post'."
   ]
  },
  {
   "cell_type": "code",
   "execution_count": 1,
   "id": "7c63b1a7-70d8-4f0c-87a7-24c4ffb0b1f5",
   "metadata": {},
   "outputs": [],
   "source": [
    "s = 'preposterous and post facto'"
   ]
  },
  {
   "cell_type": "code",
   "execution_count": 8,
   "id": "a74335fd-f8d3-463f-9dc7-b4a0b7a2efb5",
   "metadata": {},
   "outputs": [
    {
     "data": {
      "text/plain": [
       "'preposterous and post'"
      ]
     },
     "execution_count": 8,
     "metadata": {},
     "output_type": "execute_result"
    }
   ],
   "source": [
    "# greedy match\n",
    "re.match(r'pre.*post', s).group()"
   ]
  },
  {
   "cell_type": "code",
   "execution_count": 7,
   "id": "a4d6441d-6317-4cb1-8cc5-26d57e550b49",
   "metadata": {},
   "outputs": [
    {
     "data": {
      "text/plain": [
       "'prepost'"
      ]
     },
     "execution_count": 7,
     "metadata": {},
     "output_type": "execute_result"
    }
   ],
   "source": [
    "# non-greedy match\n",
    "re.match(r'pre.?post', s).group()"
   ]
  },
  {
   "cell_type": "markdown",
   "id": "bc9389ba-e933-44bf-8159-e1893c718bf2",
   "metadata": {},
   "source": [
    "#### Word boundaries"
   ]
  },
  {
   "cell_type": "code",
   "execution_count": 88,
   "id": "d65181d0-5689-445b-aefb-6ee3bc9b07eb",
   "metadata": {},
   "outputs": [],
   "source": [
    "s = 'preposterous and post facto'"
   ]
  },
  {
   "cell_type": "code",
   "execution_count": 98,
   "id": "4a5c1434-c844-4481-a8e7-68ab0c2daa63",
   "metadata": {},
   "outputs": [
    {
     "data": {
      "text/plain": [
       "'prepost'"
      ]
     },
     "execution_count": 98,
     "metadata": {},
     "output_type": "execute_result"
    }
   ],
   "source": [
    "re.search(r'\\w*post', s).group()"
   ]
  },
  {
   "cell_type": "code",
   "execution_count": 99,
   "id": "c453f888-a587-4d21-9339-4d1dc60c7e26",
   "metadata": {},
   "outputs": [
    {
     "data": {
      "text/plain": [
       "'post'"
      ]
     },
     "execution_count": 99,
     "metadata": {},
     "output_type": "execute_result"
    }
   ],
   "source": [
    "re.search(r'\\bpost', s).group()"
   ]
  },
  {
   "cell_type": "code",
   "execution_count": 100,
   "id": "c10a5e43-10b1-4a7b-8953-785ba6fcfc5b",
   "metadata": {},
   "outputs": [
    {
     "data": {
      "text/plain": [
       "'post'"
      ]
     },
     "execution_count": 100,
     "metadata": {},
     "output_type": "execute_result"
    }
   ],
   "source": [
    "re.search(r'\\bpost\\b', s).group()"
   ]
  },
  {
   "cell_type": "markdown",
   "id": "c81e1f1f-b15d-4453-93b2-2c4501ef496e",
   "metadata": {},
   "source": [
    "#### Alternative word matching"
   ]
  },
  {
   "cell_type": "code",
   "execution_count": 101,
   "id": "fb799a26-360f-4e0a-bbfe-4500c4c64594",
   "metadata": {},
   "outputs": [],
   "source": [
    "s = \"Finnegan-O'Hara\""
   ]
  },
  {
   "cell_type": "code",
   "execution_count": 105,
   "id": "86013021-6d16-43d8-8485-1c0f0a1551e4",
   "metadata": {},
   "outputs": [
    {
     "data": {
      "text/plain": [
       "'Finnegan'"
      ]
     },
     "execution_count": 105,
     "metadata": {},
     "output_type": "execute_result"
    }
   ],
   "source": [
    "re.search(r'\\b\\w+\\b', s).group()"
   ]
  },
  {
   "cell_type": "code",
   "execution_count": 107,
   "id": "1386acb8-b870-450f-b1c1-bd8366017bc0",
   "metadata": {},
   "outputs": [
    {
     "data": {
      "text/plain": [
       "\"Finnegan-O'Hara\""
      ]
     },
     "execution_count": 107,
     "metadata": {},
     "output_type": "execute_result"
    }
   ],
   "source": [
    "re.search(r'[a-zA-Z\\'\\-]+', s).group()"
   ]
  },
  {
   "cell_type": "markdown",
   "id": "56bb8f1c-e6f2-4f33-8a66-00cc56596487",
   "metadata": {},
   "source": [
    "#### Named Groups"
   ]
  },
  {
   "cell_type": "code",
   "execution_count": null,
   "id": "9c530ab3-46e5-4bad-8026-5ec83804c6fa",
   "metadata": {},
   "outputs": [],
   "source": [
    "# Define a regex pattern with named groups\n",
    "# log_pattern = re.compile(r'''\n",
    "#     \\[(?P<timestamp>\\d{4}-\\d{2}-\\d{2} \\d{2}:\\d{2}:\\d{2})\\]  # Timestamp\n",
    "#     \\s+\n",
    "#     (?P<type>USER|SYSTEM|ERROR)  # Log type\n",
    "#     (?:\\s+\\((?P<error_code>\\d+)\\))?:  # Optional error code\n",
    "#     \\s+\n",
    "#     (?P<message>.+)  # Message content\n",
    "# ''', re.VERBOSE)"
   ]
  },
  {
   "cell_type": "code",
   "execution_count": 85,
   "id": "0a7961f9-58ec-4c00-8a0a-4168d59b1d19",
   "metadata": {},
   "outputs": [],
   "source": [
    "# Define a regex pattern with named groups\n",
    "log_pattern = re.compile(r\"\"\"\n",
    "    \\[(?P<timestamp>\\d{4}-\\d{2}-\\d{2}\\s+\\d{2}:\\d{2}:\\d{2})\\]  # Timestamp\n",
    "    \\s+\n",
    "    (?P<type>USER|SYSTEM|ERROR)                               # Log type\n",
    "    (?:\n",
    "        \\s+\\((?P<error_code>\\d+)\\)                            # Optional error code \n",
    "    )?:                                                \n",
    "\"\"\", re.VERBOSE)"
   ]
  },
  {
   "cell_type": "code",
   "execution_count": 86,
   "id": "df330f9b-e18c-4867-89f1-228dfb11e483",
   "metadata": {},
   "outputs": [],
   "source": [
    "# Example log entries\n",
    "log_entries = [\n",
    "    \"[2024-08-05 10:15:30] USER: john_doe: Logged in successfully\",\n",
    "    \"[2024-08-05 10:16:45] SYSTEM: BACKUP - Daily backup completed\",\n",
    "    \"[2024-08-05 10:17:20] ERROR (404): Page not found\"\n",
    "]"
   ]
  },
  {
   "cell_type": "code",
   "execution_count": 87,
   "id": "fe5e4345-8cf3-4afb-add2-670facdcdf44",
   "metadata": {},
   "outputs": [
    {
     "name": "stdout",
     "output_type": "stream",
     "text": [
      "{'timestamp': '2024-08-05 10:15:30', 'type': 'USER'}\n",
      "{'timestamp': '2024-08-05 10:16:45', 'type': 'SYSTEM'}\n",
      "{'timestamp': '2024-08-05 10:17:20', 'type': 'ERROR', 'error_code': '404'}\n"
     ]
    }
   ],
   "source": [
    "# Parse log entries \n",
    "for entry in log_entries:\n",
    "    parsed_entry = {}\n",
    "    match = log_pattern.match(entry)\n",
    "    if match:\n",
    "        parsed_entry['timestamp'] = match.group('timestamp')\n",
    "        parsed_entry['type'] = match.group('type')\n",
    "        if match.group('error_code'):\n",
    "            parsed_entry['error_code'] = match.group('error_code')\n",
    "        # print(f\"  Message: {match.group('message')}\")\n",
    "        print(parsed_entry)"
   ]
  },
  {
   "cell_type": "markdown",
   "id": "fc0d697c-ddd5-41f0-b8da-df624917b978",
   "metadata": {
    "jp-MarkdownHeadingCollapsed": true
   },
   "source": [
    "## Match Versus Search"
   ]
  },
  {
   "cell_type": "markdown",
   "id": "be99ad89-b321-44dc-8215-dc7fb66903d6",
   "metadata": {},
   "source": [
    "What's the difference between `match` and `search`? It turns out that `match` implicitely starts with the beginning of the string.\n",
    "> So far, we’ve been using regular expressions to match strings. For example, the RE with pattern `r'box'` matches strings such as `'box'` and `'boxes'`, but not `'inbox'`. In other words, an RE match is implicitly anchored at the start of the target string, as if the RE’s pattern started with `\\A`."
   ]
  },
  {
   "cell_type": "code",
   "execution_count": 20,
   "id": "e8416aa8-cfd0-49e9-bdfa-c3044719dccc",
   "metadata": {},
   "outputs": [],
   "source": [
    "s = 'inbox'"
   ]
  },
  {
   "cell_type": "code",
   "execution_count": 13,
   "id": "bb7efe0e-7ebf-4b9c-adf7-1a08719f7eb0",
   "metadata": {},
   "outputs": [
    {
     "data": {
      "text/plain": [
       "True"
      ]
     },
     "execution_count": 13,
     "metadata": {},
     "output_type": "execute_result"
    }
   ],
   "source": [
    "re.match(r'box', s) is None"
   ]
  },
  {
   "cell_type": "code",
   "execution_count": 15,
   "id": "96562f49-79fd-4ca2-9a85-21b9996ee9b5",
   "metadata": {},
   "outputs": [
    {
     "data": {
      "text/plain": [
       "False"
      ]
     },
     "execution_count": 15,
     "metadata": {},
     "output_type": "execute_result"
    }
   ],
   "source": [
    "re.search(r'box', s) is None"
   ]
  },
  {
   "cell_type": "markdown",
   "id": "27180162-17db-44bf-aa5a-c8d3764e29ef",
   "metadata": {},
   "source": [
    "To test if the full string matches we may use `fullmatch()`."
   ]
  },
  {
   "cell_type": "code",
   "execution_count": 17,
   "id": "416a86dd-c74f-4cea-84b3-d8b9dd97e663",
   "metadata": {},
   "outputs": [
    {
     "data": {
      "text/plain": [
       "True"
      ]
     },
     "execution_count": 17,
     "metadata": {},
     "output_type": "execute_result"
    }
   ],
   "source": [
    "re.fullmatch(r'box', s) is None"
   ]
  },
  {
   "cell_type": "code",
   "execution_count": 24,
   "id": "602c163c-2368-43ef-8c0a-f76a03fa4740",
   "metadata": {},
   "outputs": [
    {
     "data": {
      "text/plain": [
       "False"
      ]
     },
     "execution_count": 24,
     "metadata": {},
     "output_type": "execute_result"
    }
   ],
   "source": [
    "re.fullmatch(r'.*box', s) is None"
   ]
  },
  {
   "cell_type": "markdown",
   "id": "abbbb550-d83c-45c7-91ab-6b48ccaee4d0",
   "metadata": {
    "jp-MarkdownHeadingCollapsed": true
   },
   "source": [
    "## Anchoring at String Start and End"
   ]
  },
  {
   "cell_type": "markdown",
   "id": "2981486b-91eb-4517-96a0-a71e83f31518",
   "metadata": {},
   "source": [
    "### Read entire file"
   ]
  },
  {
   "cell_type": "markdown",
   "id": "3d96f014-3df9-4392-a277-4cfca1c867fc",
   "metadata": {},
   "source": [
    "> `$` Matches end of string (if MULTILINE, also matches right before `\\n`)"
   ]
  },
  {
   "cell_type": "code",
   "execution_count": 40,
   "id": "ff528f04-6b1f-4eb6-a527-ca4b5643ef50",
   "metadata": {},
   "outputs": [
    {
     "name": "stdout",
     "output_type": "stream",
     "text": [
      "fstring: 'The Life and Death of King Richard III\\nby William Shakespeare\\n\\nACT I\\n\\nScene 1\\n\\nNow is the winter of our discontent\\nMade glorious summer by this son of York,\\nAnd all the clouds that loured upon our house\\nIn the deep bosom of the ocean buried.\\n\\n'\n",
      "match:1\n"
     ]
    }
   ],
   "source": [
    "digatend = re.compile(r'\\d$', re.MULTILINE)\n",
    "with open('afile.txt', 'r') as f:\n",
    "    fstring = f.read()\n",
    "    print(f'fstring: {repr(fstring)}')\n",
    "    match = digatend.search(fstring)\n",
    "    if match:\n",
    "        print(f'match:{match.group()}')"
   ]
  },
  {
   "cell_type": "markdown",
   "id": "18762e5c-b99e-4ac7-bb27-ad09ae8aa35f",
   "metadata": {},
   "source": [
    "Without this flag we'll match only at the beginning of the line."
   ]
  },
  {
   "cell_type": "code",
   "execution_count": 45,
   "id": "e80c18ed-9b07-4214-b1df-a6ec1907b261",
   "metadata": {},
   "outputs": [
    {
     "name": "stdout",
     "output_type": "stream",
     "text": [
      "fstring: 'The Life and Death of King Richard III\\nby William Shakespeare\\n\\nACT I\\n\\nScene 1\\n\\nNow is the winter of our discontent\\nMade glorious summer by this son of York,\\nAnd all the clouds that loured upon our house\\nIn the deep bosom of the ocean buried.\\n\\n'\n"
     ]
    }
   ],
   "source": [
    "digatend = re.compile(r'\\d$')\n",
    "with open('afile.txt', 'r') as f:\n",
    "    fstring = f.read()\n",
    "    print(f'fstring: {repr(fstring)}')\n",
    "    match = digatend.search(fstring)\n",
    "    if match:\n",
    "        print(f'match:{match.group()}')"
   ]
  },
  {
   "cell_type": "code",
   "execution_count": 44,
   "id": "db34492c-4111-4497-80c3-af3677638d9e",
   "metadata": {},
   "outputs": [
    {
     "name": "stdout",
     "output_type": "stream",
     "text": [
      "fstring: 'The Life and Death of King Richard III\\nby William Shakespeare\\n\\nACT I\\n\\nScene 1\\n\\nNow is the winter of our discontent\\nMade glorious summer by this son of York,\\nAnd all the clouds that loured upon our house\\nIn the deep bosom of the ocean buried.2\\n'\n",
      "match:2\n"
     ]
    }
   ],
   "source": [
    "digatend = re.compile(r'\\d$')\n",
    "with open('afile2.txt', 'r') as f:\n",
    "    fstring = f.read()\n",
    "    print(f'fstring: {repr(fstring)}')\n",
    "    match = digatend.search(fstring)\n",
    "    if match:\n",
    "        print(f'match:{match.group()}')"
   ]
  },
  {
   "cell_type": "markdown",
   "id": "4a3f2bd9-b6a0-4a24-be91-91589628cd77",
   "metadata": {},
   "source": [
    "Finally, let's show that `r'\\d$'` and `r'\\d\\n'` can be the same or different."
   ]
  },
  {
   "cell_type": "code",
   "execution_count": 72,
   "id": "fd73a9e5-6426-415f-ac8e-17a846cf05f1",
   "metadata": {},
   "outputs": [],
   "source": [
    "s = \"\"\"The Life and Death of King Richard III\\nby William Shakespeare\\n\\nACT I\\n\\nScene \\n\\nNow is the winter of our discontent\\nMade glorious summer by this son of York,\\nAnd all the clouds that loured upon our house\\nIn the deep bosom of the ocean buried.2\\n\"\"\""
   ]
  },
  {
   "cell_type": "code",
   "execution_count": 73,
   "id": "4127ecb8-0871-4400-b630-de161c98e279",
   "metadata": {},
   "outputs": [
    {
     "name": "stdout",
     "output_type": "stream",
     "text": [
      "'The Life and Death of King Richard III\\nby William Shakespeare\\n\\nACT I\\n\\nScene \\n\\nNow is the winter of our discontent\\nMade glorious summer by this son of York,\\nAnd all the clouds that loured upon our house\\nIn the deep bosom of the ocean buried.2\\n'\n"
     ]
    }
   ],
   "source": [
    "print(repr(s))"
   ]
  },
  {
   "cell_type": "code",
   "execution_count": 74,
   "id": "739f7921-a23e-481d-be00-9665bb2713f7",
   "metadata": {},
   "outputs": [
    {
     "name": "stdout",
     "output_type": "stream",
     "text": [
      "'The Life and Death of King Richard III\\nby William Shakespeare\\n\\nACT I\\n\\nScene \\n\\nNow is the winter of our discontent\\nMade glorious summer by this son of York,\\nAnd all the clouds that loured upon our house\\nIn the deep bosom of the ocean buried.2'\n"
     ]
    }
   ],
   "source": [
    "print(repr(s.strip()))"
   ]
  },
  {
   "cell_type": "code",
   "execution_count": 81,
   "id": "0baaa20e-f809-4bd1-86a7-420e659a274e",
   "metadata": {},
   "outputs": [
    {
     "data": {
      "text/plain": [
       "('2\\n', True)"
      ]
     },
     "execution_count": 81,
     "metadata": {},
     "output_type": "execute_result"
    }
   ],
   "source": [
    "re.search(r'\\d\\n', s, re.MULTILINE).group(), re.search(r'\\d\\n', s.strip()) is None"
   ]
  },
  {
   "cell_type": "markdown",
   "id": "7ddc991e-765d-40f8-8acd-c5b93fcf5f58",
   "metadata": {},
   "source": [
    "### Read line by line"
   ]
  },
  {
   "cell_type": "markdown",
   "id": "6f14fcee-199d-4d33-9bbd-ddede08562b2",
   "metadata": {},
   "source": [
    "In case of a single string it does not matter if a file contains `\\n`. If we need to distinguish these 2 cases we may do this with `r'\\d\\n$'` pattern."
   ]
  },
  {
   "cell_type": "code",
   "execution_count": 55,
   "id": "75c6476c-b838-4b01-9136-6ff0bf0bbb6f",
   "metadata": {},
   "outputs": [
    {
     "data": {
      "text/plain": [
       "(False, True)"
      ]
     },
     "execution_count": 55,
     "metadata": {},
     "output_type": "execute_result"
    }
   ],
   "source": [
    "re.search(r'\\d$', 'Scene 1') is None, re.search(r'\\d\\n$', 'Scene 1') is None"
   ]
  },
  {
   "cell_type": "code",
   "execution_count": 57,
   "id": "b9a00633-56b7-4626-9a54-fa4ebe74d362",
   "metadata": {},
   "outputs": [
    {
     "data": {
      "text/plain": [
       "(False, False)"
      ]
     },
     "execution_count": 57,
     "metadata": {},
     "output_type": "execute_result"
    }
   ],
   "source": [
    "re.search(r'\\d$', 'Scene 1\\n') is None, re.search(r'\\d\\n$', 'Scene 1\\n') is None"
   ]
  },
  {
   "cell_type": "markdown",
   "id": "df72178f-d3f5-4058-99d0-7a62ffc17a2f",
   "metadata": {},
   "source": [
    "### Alternative anchors"
   ]
  },
  {
   "cell_type": "markdown",
   "id": "1fd6770f-dbd5-43a1-b424-7188da183e74",
   "metadata": {},
   "source": [
    "It turns out that we have alternative anchors for a beginning and an end of a line: `\\A` and `\\Z`:\n",
    "> For RE objects that are not flagged as `MULTILINE`, `^` is the same as `\\A`, and `$` is the same as `\\Z`. For a multiline RE, however, `^` can anchor at the start of the string or the start of any line (where “lines” are determined based on `\\n` separator characters). Similarly, with a multiline RE, `$` can anchor at the end of the string or the end of any line. `\\A` and `\\Z` always anchor exclusively at the start and end of the string, whether the RE object is multiline or not."
   ]
  },
  {
   "cell_type": "markdown",
   "id": "3dad9258-dc83-4951-ade1-d2cd7527ffc4",
   "metadata": {},
   "source": [
    "## Regular Expression Object"
   ]
  },
  {
   "cell_type": "markdown",
   "id": "594d3151-b5a7-47b0-843e-86f29be9f3b4",
   "metadata": {},
   "source": [
    "#### `findall()`"
   ]
  },
  {
   "cell_type": "markdown",
   "id": "3b7ce01f-cbe7-4a2b-a1d5-8578946268f7",
   "metadata": {},
   "source": [
    "> When `regex` has no groups,`findall` returns a list of strings, each a substring of `s` that is a nonoverlapping match with `regex`."
   ]
  },
  {
   "cell_type": "code",
   "execution_count": 123,
   "id": "c65cd0e4-d45d-40cc-8d6e-331f58514828",
   "metadata": {},
   "outputs": [],
   "source": [
    "# Find list of words in the file\n",
    "reword = re.compile(r'\\w+') \n",
    "words = []\n",
    "with open('afile.txt') as f:\n",
    "    for word in reword.findall(f.read()): \n",
    "        words.append(word.lower())"
   ]
  },
  {
   "cell_type": "markdown",
   "id": "11f684c8-5fed-4d8c-b784-a402f8bcbac6",
   "metadata": {},
   "source": [
    "> When `regex` has exactly one group, findall also returns a list of strings, but each is the substring of `s` that matches `regex` group."
   ]
  },
  {
   "cell_type": "code",
   "execution_count": 124,
   "id": "574a4ae3-5481-4fb4-91d7-52cffa09fc70",
   "metadata": {},
   "outputs": [
    {
     "data": {
      "text/plain": [
       "['the', 'life', 'and', 'death', 'of']"
      ]
     },
     "execution_count": 124,
     "metadata": {},
     "output_type": "execute_result"
    }
   ],
   "source": [
    "words[:5]"
   ]
  },
  {
   "cell_type": "code",
   "execution_count": 121,
   "id": "9f4b8362-5024-4d62-8f36-c4755f64c21b",
   "metadata": {},
   "outputs": [],
   "source": [
    "# Find words that are followed by punctuation\n",
    "reword = re.compile(r'(\\w+)[,.!?]') \n",
    "words = []\n",
    "with open('afile.txt') as f:\n",
    "    for word in reword.findall(f.read()): \n",
    "        words.append(word.lower())"
   ]
  },
  {
   "cell_type": "code",
   "execution_count": 122,
   "id": "1fcc7736-e469-4071-934b-9109cc3bbdd3",
   "metadata": {},
   "outputs": [
    {
     "data": {
      "text/plain": [
       "['york', 'buried']"
      ]
     },
     "execution_count": 122,
     "metadata": {},
     "output_type": "execute_result"
    }
   ],
   "source": [
    "words"
   ]
  },
  {
   "cell_type": "markdown",
   "id": "23a0ab85-f51f-45f6-a2a9-7201bb1dc0c3",
   "metadata": {},
   "source": [
    "> When `regex` has `n` groups (with `n> 1`), findall returns a list of tuples, one per nonoverlapping match with `regex`."
   ]
  },
  {
   "cell_type": "code",
   "execution_count": 129,
   "id": "9a90e220-491d-42e5-a274-0b4b17d319f6",
   "metadata": {},
   "outputs": [],
   "source": [
    "# Find the first and the last words in a line\n",
    "reword = re.compile(r'^\\W*(\\w+)\\b.*\\b(\\w+)\\W*$', re.MULTILINE) \n",
    "words = []\n",
    "with open('afile.txt') as f:\n",
    "    for word in reword.findall(f.read()): \n",
    "        words.append(word)"
   ]
  },
  {
   "cell_type": "code",
   "execution_count": 130,
   "id": "d9ff33be-9dc8-4c9f-a3ea-ae3c6e64ad46",
   "metadata": {},
   "outputs": [
    {
     "data": {
      "text/plain": [
       "[('The', 'III'),\n",
       " ('by', 'Shakespeare'),\n",
       " ('ACT', 'I'),\n",
       " ('Scene', '1'),\n",
       " ('Now', 'discontent'),\n",
       " ('Made', 'York'),\n",
       " ('And', 'house'),\n",
       " ('In', 'buried')]"
      ]
     },
     "execution_count": 130,
     "metadata": {},
     "output_type": "execute_result"
    }
   ],
   "source": [
    "words"
   ]
  },
  {
   "cell_type": "markdown",
   "id": "84750fcf-ff76-43a9-9a7b-7a2458f6512f",
   "metadata": {},
   "source": [
    "## Functions of the re Module"
   ]
  },
  {
   "cell_type": "markdown",
   "id": "b8cced2a-09c4-4363-8d93-1172cdb7e01a",
   "metadata": {},
   "source": [
    "> It is usually better to compile pattern strings into RE objects explicitly and call the RE object’s methods, but sometimes, for a one-off use of an RE pattern, calling functions of the module re can be handier."
   ]
  },
  {
   "cell_type": "markdown",
   "id": "3719cc3b-a8a4-4c8e-ace6-f792ec34a8c1",
   "metadata": {},
   "source": [
    "## REs and the `:=` Operator"
   ]
  },
  {
   "cell_type": "markdown",
   "id": "7aedf1bb-ea33-45e5-ab89-086dd327c4bb",
   "metadata": {},
   "source": [
    "> In Perl, the `if ($var =~ /regExpr/)` statement both evaluates the regular expression and saves the successful match in the variable `var`. The introduction of the `:=` operator in Python 3.8 established support for a successive-match idiom in Python similar to the one that’s common in Perl. "
   ]
  },
  {
   "cell_type": "code",
   "execution_count": 111,
   "id": "86078983-e720-4dae-a597-3bdd62f12429",
   "metadata": {},
   "outputs": [],
   "source": [
    "# statement = 'I love Python'\n",
    "statement = 'Ich liebe Python'"
   ]
  },
  {
   "cell_type": "code",
   "execution_count": 112,
   "id": "54e0c18b-b83c-4110-b765-5aa5dcb61ae4",
   "metadata": {},
   "outputs": [
    {
     "name": "stdout",
     "output_type": "stream",
     "text": [
      "Er liebt Python\n"
     ]
    }
   ],
   "source": [
    "if m := re.match(r'I love (\\w+)', statement): print(f'He loves {m.group(1)}')\n",
    "elif m := re.match(r'Ich liebe (\\w+)', statement): print(f'Er liebt {m.group(1)}')\n",
    "elif m := re.match(r'J\\'aime (\\w+)', statement): print(f'Il aime {m.group(1)}')"
   ]
  },
  {
   "cell_type": "markdown",
   "id": "4e58854e-8cdb-4133-9d06-1f2bf86c6216",
   "metadata": {
    "jp-MarkdownHeadingCollapsed": true
   },
   "source": [
    "# Exercises "
   ]
  },
  {
   "cell_type": "markdown",
   "id": "e5998692-5414-451d-bc46-1bc80dccd350",
   "metadata": {},
   "source": [
    "## Exercise 1: Extracting Dates"
   ]
  },
  {
   "cell_type": "markdown",
   "id": "8cfd4393-b609-452c-b813-d54d798ca41c",
   "metadata": {},
   "source": [
    "**Objective:** Write a Python function that extracts all dates from a given text. The dates can be in the formats `DD/MM/YYYY, DD-MM-YYYY, or DD.MM.YYYY`.\n"
   ]
  },
  {
   "cell_type": "markdown",
   "id": "cfdd9b7d-8808-4a24-9755-fd17c23d6dfc",
   "metadata": {},
   "source": [
    "**Description:**\n",
    "- Your function should take a string as input.\n",
    "- It should return a list of all dates found in the input string.\n",
    "- The dates should be in the format `DD/MM/YYYY, DD-MM-YYYY, or DD.MM.YYYY`."
   ]
  },
  {
   "cell_type": "code",
   "execution_count": 30,
   "id": "e0ecab1f-a54c-4cc6-b61c-f9ce85ffc985",
   "metadata": {},
   "outputs": [],
   "source": [
    "text = \"Today's date is 05/08/2024. Another important date is 12-11-2023. Also, don't forget 23.09.2022!\""
   ]
  },
  {
   "cell_type": "code",
   "execution_count": 31,
   "id": "1a2053af-db89-4edf-90be-899bbb25b55a",
   "metadata": {},
   "outputs": [],
   "source": [
    "date_pattern = re.compile(r\"\\d{2}[/.-]\\d{2}[/.-]\\d{4}\")"
   ]
  },
  {
   "cell_type": "code",
   "execution_count": 35,
   "id": "7987d3a7-791a-4eec-b599-b3113b161e45",
   "metadata": {},
   "outputs": [
    {
     "name": "stdout",
     "output_type": "stream",
     "text": [
      "05/08/2024\n",
      "12-11-2023\n",
      "23.09.2022\n"
     ]
    }
   ],
   "source": [
    "for token in text.split():\n",
    "    match = date_pattern.match(token)\n",
    "    if match:\n",
    "        print(match.group())"
   ]
  },
  {
   "cell_type": "markdown",
   "id": "11f27eb9-62cb-423f-a608-e36efbcd8ef8",
   "metadata": {},
   "source": [
    "## Exercise 2: Validating Email Addresses"
   ]
  },
  {
   "cell_type": "markdown",
   "id": "aced4f45-7783-4498-967d-e81c3c03937c",
   "metadata": {},
   "source": [
    "**Objective:** Write a Python function that validates a list of email addresses. The function should return a list of valid email addresses."
   ]
  },
  {
   "cell_type": "markdown",
   "id": "04eda288-747e-4783-a45c-98729f192c96",
   "metadata": {},
   "source": [
    "**Description:**\n",
    "- Your function should take a list of email addresses as an input.\n",
    "- It should return a list of email addresses that match the pattern of a valid email address.\n",
    "- A valid email address should follow the pattern: `[username]@[domain].[extension]`, where:\n",
    "    - `[username]` can contain letters, digits, underscores, periods, and hyphens, non-empty.\n",
    "    - `[domain]` can contain letters, digits, and hyphens, non-empty.\n",
    "    - `[extension]` can contain letters, is 2 to 6 characters long."
   ]
  },
  {
   "cell_type": "code",
   "execution_count": 26,
   "id": "11c3f3c7-df4e-4684-990b-c253bfba9b84",
   "metadata": {},
   "outputs": [],
   "source": [
    "emails = [\"test.email@example.com\", \n",
    "          \"test09_eMail-@example.com\",\n",
    "          \"@example.com\",\n",
    "          \"test.email@example09-.com\",\n",
    "          \"invalid-email@.com\", \n",
    "          \"user.name@domain.co\", \n",
    "          \"user.name@domain.cocococo\",\n",
    "          \"user.name@domain.c\",\n",
    "          \"user@domaincom\"]"
   ]
  },
  {
   "cell_type": "code",
   "execution_count": 27,
   "id": "91eeb613-ecee-4d11-ba4f-604657063de1",
   "metadata": {},
   "outputs": [],
   "source": [
    "email_pattern = re.compile(r\"[\\w.-]+@[a-zA-Z0-9-]+\\.[a-zA-Z]{2,6}\")"
   ]
  },
  {
   "cell_type": "code",
   "execution_count": 29,
   "id": "2480bc90-40d9-45db-bab6-486119cb960a",
   "metadata": {},
   "outputs": [
    {
     "name": "stdout",
     "output_type": "stream",
     "text": [
      "test.email@example.com is valid, match:test.email@example.com \n",
      "test09_eMail-@example.com is valid, match:test09_eMail-@example.com \n",
      "@example.com is NOT valid\n",
      "test.email@example09-.com is valid, match:test.email@example09-.com \n",
      "invalid-email@.com is NOT valid\n",
      "user.name@domain.co is valid, match:user.name@domain.co \n",
      "user.name@domain.cocococo is NOT valid\n",
      "user.name@domain.c is NOT valid\n",
      "user@domaincom is NOT valid\n"
     ]
    }
   ],
   "source": [
    "for email in emails:\n",
    "    match = email_pattern.fullmatch(email)\n",
    "    if match: \n",
    "        print(f\"{email} is valid, match:{match.group()} \")\n",
    "    else:\n",
    "        print(f\"{email} is NOT valid\")"
   ]
  },
  {
   "cell_type": "markdown",
   "id": "8f477d8d-a918-46cf-bb05-b8f9b6308e9d",
   "metadata": {},
   "source": [
    "## Exercise 3: Log File Parser"
   ]
  },
  {
   "cell_type": "markdown",
   "id": "fb73a05f-c131-44d9-9ca0-31d6cd13dc33",
   "metadata": {},
   "source": [
    "**Objective:** Write a Python function that parses a log file and extracts specific information from each log entry. The log file contains entries with varying formats, and you need to extract and categorize the information."
   ]
  },
  {
   "cell_type": "markdown",
   "id": "72cf443b-e6fb-4dbe-8304-7029e794a49e",
   "metadata": {},
   "source": [
    "**Description:**\n",
    "- Your function should take a string (the contents of the log file) as input.\n",
    "- It should return a *list of dictionaries*, where each dictionary represents a parsed log entry.\n",
    "- The log entries can be in one of the following formats:\n",
    "    - `[TIMESTAMP] USER: MESSAGE`\n",
    "    - `[TIMESTAMP] SYSTEM: ACTION - DETAILS`\n",
    "    - `[TIMESTAMP] ERROR (CODE): ERROR_MESSAGE`\n",
    "- The timestamp format is always `YYYY-MM-DD HH:MM:SS`\n",
    "- Extract the following information for each log entry:\n",
    "    - Timestamp\n",
    "    - Type (`USER, SYSTEM, or ERROR`)\n",
    "    - User name (for `USER` type)\n",
    "    - Message (for `USER` type)\n",
    "    - Action and Details (for `SYSTEM` type)\n",
    "    - Error Code and Error Message (for `ERROR` type)"
   ]
  },
  {
   "cell_type": "code",
   "execution_count": 37,
   "id": "4623861c-ca3d-4f95-bc08-ba1171b9bc7d",
   "metadata": {},
   "outputs": [
    {
     "name": "stdout",
     "output_type": "stream",
     "text": [
      "[2024-08-05 10:15:30] USER: john_doe: Logged in successfully\n",
      "[2024-08-05 10:16:45] SYSTEM: BACKUP - Daily backup completed\n",
      "[2024-08-05 10:17:20] ERROR (404): Page not found\n",
      "[2024-08-05 10:18:00] USER: jane_smith: Uploaded file 'document.pdf'\n",
      "[2024-08-05 10:19:15] SYSTEM: UPDATE - System updated to version 2.1\n"
     ]
    }
   ],
   "source": [
    "with open('log_file.txt', 'r') as file:\n",
    "    for line in file:\n",
    "        print(line.strip())"
   ]
  },
  {
   "cell_type": "code",
   "execution_count": null,
   "id": "e6e9f914-d77c-43de-9129-496a763a0574",
   "metadata": {},
   "outputs": [],
   "source": []
  },
  {
   "cell_type": "code",
   "execution_count": null,
   "id": "e14a7c3d-e986-4c4a-9fb6-bd29b0b2f65c",
   "metadata": {},
   "outputs": [],
   "source": []
  },
  {
   "cell_type": "code",
   "execution_count": null,
   "id": "bd62d784-be77-4baf-a61a-66cedac2258d",
   "metadata": {},
   "outputs": [],
   "source": []
  }
 ],
 "metadata": {
  "kernelspec": {
   "display_name": "Python 3 (ipykernel)",
   "language": "python",
   "name": "python3"
  },
  "language_info": {
   "codemirror_mode": {
    "name": "ipython",
    "version": 3
   },
   "file_extension": ".py",
   "mimetype": "text/x-python",
   "name": "python",
   "nbconvert_exporter": "python",
   "pygments_lexer": "ipython3",
   "version": "3.12.4"
  }
 },
 "nbformat": 4,
 "nbformat_minor": 5
}
