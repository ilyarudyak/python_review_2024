{
 "cells": [
  {
   "cell_type": "code",
   "execution_count": 29,
   "metadata": {},
   "outputs": [
    {
     "name": "stdout",
     "output_type": "stream",
     "text": [
      "The autoreload extension is already loaded. To reload it, use:\n",
      "  %reload_ext autoreload\n"
     ]
    }
   ],
   "source": [
    "from database import NEODatabase\n",
    "from extract import load_neos, load_approaches\n",
    "from filters import create_filters\n",
    "import datetime\n",
    "\n",
    "# Set autoreload of modules\n",
    "%load_ext autoreload\n",
    "%autoreload 2"
   ]
  },
  {
   "cell_type": "markdown",
   "metadata": {},
   "source": [
    "`def test_query_approaches_in_spring_with_all_bounds_and_not_potentially_hazardous_neos`"
   ]
  },
  {
   "cell_type": "code",
   "execution_count": 30,
   "metadata": {},
   "outputs": [],
   "source": [
    "start_date = datetime.date(2020, 3, 1)\n",
    "end_date = datetime.date(2020, 5, 31)\n",
    "distance_max = 0.5\n",
    "distance_min = 0.05\n",
    "velocity_max = 25\n",
    "velocity_min = 5\n",
    "diameter_max = 1.5\n",
    "diameter_min = 0.5\n",
    "\n",
    "neos = load_neos()\n",
    "approaches = load_approaches()\n",
    "db = NEODatabase(neos, approaches)\n",
    "expected = set(\n",
    "    approach for approach in db._approaches\n",
    "    if start_date <= approach.time.date() <= end_date\n",
    "    and distance_min <= approach.distance <= distance_max\n",
    "    and velocity_min <= approach.velocity <= velocity_max\n",
    "    and diameter_min <= approach.neo.diameter <= diameter_max\n",
    "    and not approach.neo.hazardous\n",
    ")"
   ]
  },
  {
   "cell_type": "code",
   "execution_count": 31,
   "metadata": {},
   "outputs": [
    {
     "data": {
      "text/plain": [
       "{CloseApproach(time='2020-03-13 05:43', distance=0.497636440395954, velocity=21.9949431951429, neo=NearEarthObject(designation='394392', name=None, diameter=0.636, hazardous=False)),\n",
       " CloseApproach(time='2020-03-24 00:24', distance=0.46221104664445, velocity=20.0187716940269, neo=NearEarthObject(designation='477524', name=None, diameter=0.991, hazardous=False)),\n",
       " CloseApproach(time='2020-04-04 03:01', distance=0.47015413635415, velocity=6.02590960794158, neo=NearEarthObject(designation='85628', name=None, diameter=0.775, hazardous=False)),\n",
       " CloseApproach(time='2020-04-14 02:33', distance=0.229699114893943, velocity=18.6737226636529, neo=NearEarthObject(designation='2016 FG15', name=None, diameter=0.686, hazardous=False)),\n",
       " CloseApproach(time='2020-04-18 02:28', distance=0.470194706686771, velocity=13.327765698202, neo=NearEarthObject(designation='138847', name=None, diameter=0.965, hazardous=False)),\n",
       " CloseApproach(time='2020-04-27 11:49', distance=0.444781733602389, velocity=21.0541943138483, neo=NearEarthObject(designation='137099', name=None, diameter=0.564, hazardous=False)),\n",
       " CloseApproach(time='2020-05-10 12:50', distance=0.25003597692057, velocity=14.1956122032777, neo=NearEarthObject(designation='86667', name=None, diameter=0.745, hazardous=False)),\n",
       " CloseApproach(time='2020-05-22 08:27', distance=0.309235959470117, velocity=23.3884002585195, neo=NearEarthObject(designation='2014 HE3', name=None, diameter=0.561, hazardous=False))}"
      ]
     },
     "execution_count": 31,
     "metadata": {},
     "output_type": "execute_result"
    }
   ],
   "source": [
    "expected"
   ]
  },
  {
   "cell_type": "code",
   "execution_count": 32,
   "metadata": {},
   "outputs": [],
   "source": [
    "filters = create_filters(\n",
    "    start_date=start_date, end_date=end_date,\n",
    "    distance_min=distance_min, distance_max=distance_max,\n",
    "    velocity_min=velocity_min, velocity_max=velocity_max,\n",
    "    diameter_min=diameter_min, diameter_max=diameter_max,\n",
    "    hazardous=False\n",
    ")\n",
    "received = set(db.query(filters))"
   ]
  },
  {
   "cell_type": "code",
   "execution_count": 33,
   "metadata": {},
   "outputs": [
    {
     "data": {
      "text/plain": [
       "{CloseApproach(time='2020-03-13 05:43', distance=0.497636440395954, velocity=21.9949431951429, neo=NearEarthObject(designation='394392', name=None, diameter=0.636, hazardous=False)),\n",
       " CloseApproach(time='2020-03-24 00:24', distance=0.46221104664445, velocity=20.0187716940269, neo=NearEarthObject(designation='477524', name=None, diameter=0.991, hazardous=False)),\n",
       " CloseApproach(time='2020-04-04 03:01', distance=0.47015413635415, velocity=6.02590960794158, neo=NearEarthObject(designation='85628', name=None, diameter=0.775, hazardous=False)),\n",
       " CloseApproach(time='2020-04-14 02:33', distance=0.229699114893943, velocity=18.6737226636529, neo=NearEarthObject(designation='2016 FG15', name=None, diameter=0.686, hazardous=False)),\n",
       " CloseApproach(time='2020-04-18 02:28', distance=0.470194706686771, velocity=13.327765698202, neo=NearEarthObject(designation='138847', name=None, diameter=0.965, hazardous=False)),\n",
       " CloseApproach(time='2020-04-27 11:49', distance=0.444781733602389, velocity=21.0541943138483, neo=NearEarthObject(designation='137099', name=None, diameter=0.564, hazardous=False)),\n",
       " CloseApproach(time='2020-05-10 12:50', distance=0.25003597692057, velocity=14.1956122032777, neo=NearEarthObject(designation='86667', name=None, diameter=0.745, hazardous=False)),\n",
       " CloseApproach(time='2020-05-22 08:27', distance=0.309235959470117, velocity=23.3884002585195, neo=NearEarthObject(designation='2014 HE3', name=None, diameter=0.561, hazardous=False))}"
      ]
     },
     "execution_count": 33,
     "metadata": {},
     "output_type": "execute_result"
    }
   ],
   "source": [
    "received"
   ]
  }
 ],
 "metadata": {
  "kernelspec": {
   "display_name": "venv",
   "language": "python",
   "name": "python3"
  },
  "language_info": {
   "codemirror_mode": {
    "name": "ipython",
    "version": 3
   },
   "file_extension": ".py",
   "mimetype": "text/x-python",
   "name": "python",
   "nbconvert_exporter": "python",
   "pygments_lexer": "ipython3",
   "version": "3.12.4"
  }
 },
 "nbformat": 4,
 "nbformat_minor": 2
}
