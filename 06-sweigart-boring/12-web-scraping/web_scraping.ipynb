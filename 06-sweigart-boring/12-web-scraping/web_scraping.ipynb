{
 "cells": [
  {
   "cell_type": "code",
   "execution_count": 2,
   "metadata": {},
   "outputs": [],
   "source": [
    "import numpy as np\n",
    "import requests\n",
    "import bs4\n",
    "import sys, os\n",
    "import webbrowser\n",
    "import json\n",
    "import pandas as pd"
   ]
  },
  {
   "cell_type": "markdown",
   "metadata": {},
   "source": [
    "## Downloading Files from the Web"
   ]
  },
  {
   "cell_type": "markdown",
   "metadata": {},
   "source": [
    "> The requests module was written because Python’s urllib2 module is\n",
    "too complicated to use. In fact, take a permanent marker and black out this\n",
    "entire paragraph. Forget I ever mentioned urllib2. If you need to download\n",
    "things from the web, just use the requests module."
   ]
  },
  {
   "cell_type": "code",
   "execution_count": 4,
   "metadata": {},
   "outputs": [],
   "source": [
    "rj_address = 'https://automatetheboringstuff.com/files/rj.txt'\n",
    "rj_file = 'rj.txt'\n",
    "# Download the file\n",
    "rj = requests.get(rj_address)\n",
    "# Check if the download was successful\n",
    "rj.raise_for_status()\n",
    "# Save the file to disk in binary mode\n",
    "with open(rj_file, 'wb') as f:\n",
    "    f.write(rj.content)"
   ]
  },
  {
   "cell_type": "code",
   "execution_count": 5,
   "metadata": {},
   "outputs": [
    {
     "name": "stdout",
     "output_type": "stream",
     "text": [
      "The Project Gutenberg EBook of Romeo and Juliet, by William Shakespeare\n",
      "\n",
      "This eBook is for the use of anyone anywhere at no cost and with\n",
      "almost no restrictions whatsoever.  You may copy it, give it away or\n",
      "re-use it under the terms of the Project Gutenberg License included\n"
     ]
    }
   ],
   "source": [
    "# Print a few first lines of the file\n",
    "with open(rj_file, 'r') as f:\n",
    "    for i in range(5):\n",
    "        print(f.readline(), end='')"
   ]
  },
  {
   "cell_type": "markdown",
   "metadata": {},
   "source": [
    "## Parsing HTML with the bs4 Module"
   ]
  },
  {
   "cell_type": "code",
   "execution_count": 13,
   "metadata": {},
   "outputs": [
    {
     "name": "stdout",
     "output_type": "stream",
     "text": [
      "<!-- This is the example.html example file. -->\n",
      "<html>\n",
      " <head>\n",
      "  <title>\n",
      "   The Website Title\n",
      "  </ti\n"
     ]
    }
   ],
   "source": [
    "filename = 'example.html'\n",
    "# Load the file and parse it with BeautifulSoup\n",
    "with open(filename , 'r') as f:\n",
    "    soup = bs4.BeautifulSoup(f, 'html.parser')\n",
    "    # Print the first 100 characters of the parsed file \n",
    "    print(soup.prettify()[:100])"
   ]
  },
  {
   "cell_type": "markdown",
   "metadata": {},
   "source": [
    "### Finding an Element with the `select()` Method"
   ]
  },
  {
   "cell_type": "code",
   "execution_count": 21,
   "metadata": {},
   "outputs": [
    {
     "name": "stdout",
     "output_type": "stream",
     "text": [
      "Type of author: <class 'bs4.element.ResultSet'>\n",
      "Length of author: 1\n",
      "Type of the first element: <class 'bs4.element.Tag'>\n",
      "\n",
      "Author as a string: <span id=\"author\">Al Sweigart</span>\n",
      "Author text: Al Sweigart\n",
      "Author attributes: {'id': 'author'}\n"
     ]
    }
   ],
   "source": [
    "# Load the file and parse it with BeautifulSoup\n",
    "with open(filename , 'r') as f:\n",
    "    soup = bs4.BeautifulSoup(f, 'html.parser')\n",
    "    # Find the element with an id attribute of author\n",
    "    authors = soup.select('#author')\n",
    "\n",
    "    # Check author type and length, check the type of the first element\n",
    "    print(f\"Type of author: {type(authors)}\")\n",
    "    print(f\"Length of author: {len(authors)}\")\n",
    "    print(f\"Type of the first element: {type(authors[0])}\\n\")\n",
    "\n",
    "    # Print the author element\n",
    "    author = authors[0]\n",
    "    # Print the author element as a string\n",
    "    print(f\"Author as a string: {str(author)}\")\n",
    "    # Print the text of the author element\n",
    "    print(f\"Author text: {author.getText()}\")\n",
    "    # Print the author element attributes\n",
    "    print(f\"Author attributes: {author.attrs}\")"
   ]
  },
  {
   "cell_type": "code",
   "execution_count": 23,
   "metadata": {},
   "outputs": [
    {
     "name": "stdout",
     "output_type": "stream",
     "text": [
      "Download my Python book from my website.\n",
      "Learn Python the easy way!\n",
      "By Al Sweigart\n"
     ]
    }
   ],
   "source": [
    "# Load the file and parse it with BeautifulSoup\n",
    "with open(filename, 'r') as f:\n",
    "    soup = bs4.BeautifulSoup(f, 'html.parser')\n",
    "\n",
    "    # Pull all the <p> elements from the parsed file\n",
    "    paragraphs = soup.select('p')\n",
    "\n",
    "    # Print the first 3 paragraphs using getText()\n",
    "    for paragraph in paragraphs:\n",
    "        print(paragraph.getText())"
   ]
  },
  {
   "cell_type": "markdown",
   "metadata": {},
   "source": [
    "### Getting Data from an Element’s Attributes"
   ]
  },
  {
   "cell_type": "code",
   "execution_count": 27,
   "metadata": {},
   "outputs": [
    {
     "name": "stdout",
     "output_type": "stream",
     "text": [
      "Span element: <span id=\"author\">Al Sweigart</span>\n",
      "Span attributes: {'id': 'author'}\n",
      "Span 'id' attribute: 'author'\n"
     ]
    }
   ],
   "source": [
    "# Load the file and parse it with BeautifulSoup\n",
    "with open(filename, 'r') as f:\n",
    "    soup = bs4.BeautifulSoup(f, 'html.parser')\n",
    "\n",
    "    # Pull all the <span> elements from the parsed file\n",
    "    spans = soup.select('span')\n",
    "\n",
    "    # Print the first span element and its  attributes\n",
    "    span = spans[0]\n",
    "    print(f\"Span element: {span}\")\n",
    "    print(f\"Span attributes: {span.attrs}\")\n",
    "\n",
    "    # Use get method to access the value of the id attribute\n",
    "    print(f\"Span 'id' attribute: '{span.get('id')}'\")"
   ]
  },
  {
   "cell_type": "markdown",
   "metadata": {},
   "source": [
    "## Project: Opening All Search Results"
   ]
  },
  {
   "cell_type": "code",
   "execution_count": 38,
   "metadata": {},
   "outputs": [],
   "source": [
    "# Get search results from Google for a specific python package\n",
    "url = \"https://pypi.org/search/?q=numpy\"\n",
    "result = requests.get(url)\n",
    "result.raise_for_status()\n",
    "\n",
    "# Print the first 100 characters of the search results\n",
    "# print(len(result.text))\n",
    "\n",
    "# Parse the search results with BeautifulSoup to get top 5 links\n",
    "soup = bs4.BeautifulSoup(result.text, 'html.parser')\n",
    "links = soup.select('.package-snippet')\n",
    "for link in links[:2]:\n",
    "    # Open the top 2 links in the browser\n",
    "    link_url = 'https://pypi.org' + link.get('href')\n",
    "    # webbrowser.open(link_url)"
   ]
  },
  {
   "cell_type": "markdown",
   "metadata": {},
   "source": [
    "## Project: Downloading All XKCD Comics"
   ]
  },
  {
   "cell_type": "code",
   "execution_count": 55,
   "metadata": {},
   "outputs": [
    {
     "name": "stdout",
     "output_type": "stream",
     "text": [
      "Downloading page https://xkcd.com...\n",
      "Image: <img alt=\"Ferris Wheels\" src=\"//imgs.xkcd.com/comics/ferris_wheels.png\" srcset=\"//imgs.xkcd.com/comics/ferris_wheels_2x.png 2x\" style=\"image-orientation:none\" title=\"They left the belt drive in place but switched which wheel was powered, so people could choose between a regular ride, a long ride, and a REALLY long ride.\"/>\n",
      "Image attr: {'src': '//imgs.xkcd.com/comics/ferris_wheels.png', 'title': 'They left the belt drive in place but switched which wheel was powered, so people could choose between a regular ride, a long ride, and a REALLY long ride.', 'alt': 'Ferris Wheels', 'srcset': '//imgs.xkcd.com/comics/ferris_wheels_2x.png 2x', 'style': 'image-orientation:none'}\n",
      "Downloading image https://imgs.xkcd.com/comics/ferris_wheels.png...\n",
      "\n",
      "Downloading page https://xkcd.com/2972/...\n",
      "Image: <img alt=\"Helium Synthesis\" src=\"//imgs.xkcd.com/comics/helium_synthesis.png\" srcset=\"//imgs.xkcd.com/comics/helium_synthesis_2x.png 2x\" style=\"image-orientation:none\" title=\"Our lawyers were worried because it turns out the company inherits its debt from the parent universe, but luckily cosmic inflation reduced it to nearly zero.\"/>\n",
      "Image attr: {'src': '//imgs.xkcd.com/comics/helium_synthesis.png', 'title': 'Our lawyers were worried because it turns out the company inherits its debt from the parent universe, but luckily cosmic inflation reduced it to nearly zero.', 'alt': 'Helium Synthesis', 'srcset': '//imgs.xkcd.com/comics/helium_synthesis_2x.png 2x', 'style': 'image-orientation:none'}\n",
      "Downloading image https://imgs.xkcd.com/comics/helium_synthesis.png...\n",
      "\n",
      "Downloading page https://xkcd.com/2971/...\n",
      "Image: <img alt=\"Celestial Event\" src=\"//imgs.xkcd.com/comics/celestial_event.png\" srcset=\"//imgs.xkcd.com/comics/celestial_event_2x.png 2x\" style=\"image-orientation:none\" title=\"If we can get a brood of 13-year cicadas going, we might have a chance at making this happen before the oceans evaporate under the expanding sun.\"/>\n",
      "Image attr: {'src': '//imgs.xkcd.com/comics/celestial_event.png', 'title': 'If we can get a brood of 13-year cicadas going, we might have a chance at making this happen before the oceans evaporate under the expanding sun.', 'alt': 'Celestial Event', 'srcset': '//imgs.xkcd.com/comics/celestial_event_2x.png 2x', 'style': 'image-orientation:none'}\n",
      "Downloading image https://imgs.xkcd.com/comics/celestial_event.png...\n",
      "\n",
      "Downloading page https://xkcd.com/2970/...\n",
      "Image: <img alt=\"Meteor Shower PSA\" src=\"//imgs.xkcd.com/comics/meteor_shower_psa.png\" srcset=\"//imgs.xkcd.com/comics/meteor_shower_psa_2x.png 2x\" style=\"image-orientation:none\" title=\"If you hold the meteor too long, it may imprint on you and form a contact binary, making reintroduction to space difficult.\"/>\n",
      "Image attr: {'src': '//imgs.xkcd.com/comics/meteor_shower_psa.png', 'title': 'If you hold the meteor too long, it may imprint on you and form a contact binary, making reintroduction to space difficult.', 'alt': 'Meteor Shower PSA', 'srcset': '//imgs.xkcd.com/comics/meteor_shower_psa_2x.png 2x', 'style': 'image-orientation:none'}\n",
      "Downloading image https://imgs.xkcd.com/comics/meteor_shower_psa.png...\n",
      "\n",
      "Downloading page https://xkcd.com/2969/...\n",
      "Image: <img alt=\"Vice President First Names\" src=\"//imgs.xkcd.com/comics/vice_president_first_names.png\" srcset=\"//imgs.xkcd.com/comics/vice_president_first_names_2x.png 2x\" style=\"image-orientation:none\" title='[Political pundit on the ScrabbleTV News channel] \"After four years of defying orthographic pressure, Joe ceded the top of the ticket to Kamala, who--after considering Josh, Mark, Andy, Roy, and Pete--picked Tim.\"'/>\n",
      "Image attr: {'src': '//imgs.xkcd.com/comics/vice_president_first_names.png', 'title': '[Political pundit on the ScrabbleTV News channel] \"After four years of defying orthographic pressure, Joe ceded the top of the ticket to Kamala, who--after considering Josh, Mark, Andy, Roy, and Pete--picked Tim.\"', 'alt': 'Vice President First Names', 'srcset': '//imgs.xkcd.com/comics/vice_president_first_names_2x.png 2x', 'style': 'image-orientation:none'}\n",
      "Downloading image https://imgs.xkcd.com/comics/vice_president_first_names.png...\n",
      "\n",
      "Done.\n"
     ]
    }
   ],
   "source": [
    "url = 'https://xkcd.com'\n",
    "# Create a directory to store the comics\n",
    "os.makedirs('xkcd', exist_ok=True)\n",
    "\n",
    "# Download the first 5 comics\n",
    "NUM_COMICS = 5\n",
    "for i in range(NUM_COMICS):\n",
    "    # Download the page\n",
    "    print(f'Downloading page {url}...')\n",
    "    page = requests.get(url)\n",
    "    page.raise_for_status()\n",
    "\n",
    "    # print(f\"Page content:\\n {page.text[:100]}\")\n",
    "\n",
    "    # Find the URL of the comic image using 'id'='comic'\n",
    "    soup = bs4.BeautifulSoup(page.text, 'html.parser')\n",
    "    images = soup.select('#comic img')\n",
    "    image = images[0]\n",
    "    print(f\"Image: {image}\")\n",
    "    print(f\"Image attr: {image.attrs}\")\n",
    "    comic_url = 'https:' + image.get('src')\n",
    "\n",
    "    # Download the comic image\n",
    "    print(f'Downloading image {comic_url}...')\n",
    "    # image = requests.get(comic_url)\n",
    "    # image.raise_for_status()\n",
    "\n",
    "    # Save the image to the directory ./xkcd\n",
    "    # with open(os.path.join('xkcd', os.path.basename(comic_url)), 'wb') as f:\n",
    "    #     f.write(image.content)\n",
    "\n",
    "    # Get the Prev button's url\n",
    "    prev_link = soup.select('a[rel=\"prev\"]')[0]\n",
    "    url = 'https://xkcd.com' + prev_link.get('href')\n",
    "    print()\n",
    "\n",
    "print('Done.')"
   ]
  },
  {
   "cell_type": "markdown",
   "metadata": {},
   "source": [
    "## Python books from Nostarch Press"
   ]
  },
  {
   "cell_type": "code",
   "execution_count": 4,
   "metadata": {},
   "outputs": [],
   "source": [
    "filename = 'nostarch_books_python_classified.json'\n",
    "# Load the JSON file into Pandas DataFrame\n",
    "with open(filename, 'r') as f:\n",
    "    data = json.load(f)\n",
    "    df = pd.DataFrame(data)"
   ]
  },
  {
   "cell_type": "code",
   "execution_count": 6,
   "metadata": {},
   "outputs": [
    {
     "data": {
      "text/html": [
       "<div>\n",
       "<style scoped>\n",
       "    .dataframe tbody tr th:only-of-type {\n",
       "        vertical-align: middle;\n",
       "    }\n",
       "\n",
       "    .dataframe tbody tr th {\n",
       "        vertical-align: top;\n",
       "    }\n",
       "\n",
       "    .dataframe thead th {\n",
       "        text-align: right;\n",
       "    }\n",
       "</style>\n",
       "<table border=\"1\" class=\"dataframe\">\n",
       "  <thead>\n",
       "    <tr style=\"text-align: right;\">\n",
       "      <th></th>\n",
       "      <th>title</th>\n",
       "      <th>author</th>\n",
       "      <th>year</th>\n",
       "      <th>edition</th>\n",
       "      <th>full_description</th>\n",
       "      <th>level</th>\n",
       "      <th>score</th>\n",
       "    </tr>\n",
       "  </thead>\n",
       "  <tbody>\n",
       "    <tr>\n",
       "      <th>0</th>\n",
       "      <td>Automate the Boring Stuff with Python</td>\n",
       "      <td>Al Sweigart</td>\n",
       "      <td>2019</td>\n",
       "      <td>2nd Edition</td>\n",
       "      <td>Automate the Boring Stuff with Python, 3rd edi...</td>\n",
       "      <td>Beginner</td>\n",
       "      <td>0.64</td>\n",
       "    </tr>\n",
       "    <tr>\n",
       "      <th>1</th>\n",
       "      <td>Automate the Boring Stuff with Python</td>\n",
       "      <td>Al Sweigart</td>\n",
       "      <td>2025</td>\n",
       "      <td>3rd Edition</td>\n",
       "      <td>If you’ve ever spent hours renaming files or u...</td>\n",
       "      <td>Beginner</td>\n",
       "      <td>0.80</td>\n",
       "    </tr>\n",
       "    <tr>\n",
       "      <th>2</th>\n",
       "      <td>Beyond the Basic Stuff with Python</td>\n",
       "      <td>Al Sweigart</td>\n",
       "      <td>2020</td>\n",
       "      <td>None</td>\n",
       "      <td>Look Inside!\\n\\n\\n\\nDownload Chapter 2: ENVIRO...</td>\n",
       "      <td>Intermediate</td>\n",
       "      <td>0.43</td>\n",
       "    </tr>\n",
       "  </tbody>\n",
       "</table>\n",
       "</div>"
      ],
      "text/plain": [
       "                                   title       author  year      edition  \\\n",
       "0  Automate the Boring Stuff with Python  Al Sweigart  2019  2nd Edition   \n",
       "1  Automate the Boring Stuff with Python  Al Sweigart  2025  3rd Edition   \n",
       "2     Beyond the Basic Stuff with Python  Al Sweigart  2020         None   \n",
       "\n",
       "                                    full_description         level  score  \n",
       "0  Automate the Boring Stuff with Python, 3rd edi...      Beginner   0.64  \n",
       "1  If you’ve ever spent hours renaming files or u...      Beginner   0.80  \n",
       "2  Look Inside!\\n\\n\\n\\nDownload Chapter 2: ENVIRO...  Intermediate   0.43  "
      ]
     },
     "execution_count": 6,
     "metadata": {},
     "output_type": "execute_result"
    }
   ],
   "source": [
    "df.head(3)"
   ]
  },
  {
   "cell_type": "code",
   "execution_count": 7,
   "metadata": {},
   "outputs": [],
   "source": [
    "# Save the DataFrame to a CSV file\n",
    "csv_filename = 'nostarch_books_python_classified.csv'   \n",
    "df.to_csv(csv_filename, index=False)"
   ]
  },
  {
   "cell_type": "code",
   "execution_count": 10,
   "metadata": {},
   "outputs": [],
   "source": [
    "# Get Intermediate Python books sorted by score from high to low\n",
    "intermediate_books = df[df['level'] == 'Intermediate']\n",
    "intermediate_books = intermediate_books.sort_values(by='score', ascending=False)"
   ]
  },
  {
   "cell_type": "code",
   "execution_count": 12,
   "metadata": {},
   "outputs": [
    {
     "data": {
      "text/html": [
       "<div>\n",
       "<style scoped>\n",
       "    .dataframe tbody tr th:only-of-type {\n",
       "        vertical-align: middle;\n",
       "    }\n",
       "\n",
       "    .dataframe tbody tr th {\n",
       "        vertical-align: top;\n",
       "    }\n",
       "\n",
       "    .dataframe thead th {\n",
       "        text-align: right;\n",
       "    }\n",
       "</style>\n",
       "<table border=\"1\" class=\"dataframe\">\n",
       "  <thead>\n",
       "    <tr style=\"text-align: right;\">\n",
       "      <th></th>\n",
       "      <th>title</th>\n",
       "      <th>author</th>\n",
       "      <th>year</th>\n",
       "      <th>edition</th>\n",
       "      <th>full_description</th>\n",
       "      <th>level</th>\n",
       "      <th>score</th>\n",
       "    </tr>\n",
       "  </thead>\n",
       "  <tbody>\n",
       "    <tr>\n",
       "      <th>21</th>\n",
       "      <td>Object-Oriented Python</td>\n",
       "      <td>Irv Kalb</td>\n",
       "      <td>2021</td>\n",
       "      <td>None</td>\n",
       "      <td>Look Inside!\\n \\n\\nDownload Chapter 2: MODELIN...</td>\n",
       "      <td>Intermediate</td>\n",
       "      <td>0.71</td>\n",
       "    </tr>\n",
       "    <tr>\n",
       "      <th>3</th>\n",
       "      <td>Black Hat Python</td>\n",
       "      <td>Justin Seitz and Tim Arnold</td>\n",
       "      <td>2021</td>\n",
       "      <td>2nd Edition</td>\n",
       "      <td>Look Inside!\\n\\n   \\n\\nDownload Chapter 3: Wri...</td>\n",
       "      <td>Intermediate</td>\n",
       "      <td>0.50</td>\n",
       "    </tr>\n",
       "    <tr>\n",
       "      <th>9</th>\n",
       "      <td>Gray Hat Python</td>\n",
       "      <td>Justin Seitz</td>\n",
       "      <td>2009</td>\n",
       "      <td>None</td>\n",
       "      <td>\\nDownload Chapter 2: \"Debuggers and Debugger ...</td>\n",
       "      <td>Intermediate</td>\n",
       "      <td>0.49</td>\n",
       "    </tr>\n",
       "    <tr>\n",
       "      <th>29</th>\n",
       "      <td>Python Playground</td>\n",
       "      <td>Mahesh Venkitachalam</td>\n",
       "      <td>2023</td>\n",
       "      <td>2nd Edition</td>\n",
       "      <td>Download Chapter 1: THE KOCH SNOWFL AKE\\nLook ...</td>\n",
       "      <td>Intermediate</td>\n",
       "      <td>0.46</td>\n",
       "    </tr>\n",
       "    <tr>\n",
       "      <th>28</th>\n",
       "      <td>Python One-Liners</td>\n",
       "      <td>Christian Mayer</td>\n",
       "      <td>2020</td>\n",
       "      <td>None</td>\n",
       "      <td>Look Inside!\\n\\n\\n\\n\\n\\nDownload Chapter 2: PY...</td>\n",
       "      <td>Intermediate</td>\n",
       "      <td>0.45</td>\n",
       "    </tr>\n",
       "    <tr>\n",
       "      <th>8</th>\n",
       "      <td>Doing Math with Python</td>\n",
       "      <td>Amit Saha</td>\n",
       "      <td>2015</td>\n",
       "      <td>None</td>\n",
       "      <td>“Saha does an excellent job providing a clear ...</td>\n",
       "      <td>Intermediate</td>\n",
       "      <td>0.44</td>\n",
       "    </tr>\n",
       "    <tr>\n",
       "      <th>26</th>\n",
       "      <td>Python for Excel Power Users</td>\n",
       "      <td>Tracy Stephens</td>\n",
       "      <td>2025</td>\n",
       "      <td>None</td>\n",
       "      <td>Excel is a mainstay of the modern workplace, b...</td>\n",
       "      <td>Intermediate</td>\n",
       "      <td>0.44</td>\n",
       "    </tr>\n",
       "    <tr>\n",
       "      <th>2</th>\n",
       "      <td>Beyond the Basic Stuff with Python</td>\n",
       "      <td>Al Sweigart</td>\n",
       "      <td>2020</td>\n",
       "      <td>None</td>\n",
       "      <td>Look Inside!\\n\\n\\n\\nDownload Chapter 2: ENVIRO...</td>\n",
       "      <td>Intermediate</td>\n",
       "      <td>0.43</td>\n",
       "    </tr>\n",
       "    <tr>\n",
       "      <th>32</th>\n",
       "      <td>Serious Python</td>\n",
       "      <td>Julien Danjou</td>\n",
       "      <td>2018</td>\n",
       "      <td>None</td>\n",
       "      <td>\"Serious Python contains a considerable amount...</td>\n",
       "      <td>Intermediate</td>\n",
       "      <td>0.42</td>\n",
       "    </tr>\n",
       "    <tr>\n",
       "      <th>34</th>\n",
       "      <td>The Art of Clean Code</td>\n",
       "      <td>Christian Mayer</td>\n",
       "      <td>2022</td>\n",
       "      <td>None</td>\n",
       "      <td>Download Chapter 2: THE 80/20 PRINCIPLE\\nLook ...</td>\n",
       "      <td>Intermediate</td>\n",
       "      <td>0.42</td>\n",
       "    </tr>\n",
       "    <tr>\n",
       "      <th>17</th>\n",
       "      <td>Math Adventures with Python</td>\n",
       "      <td>Peter Farrell</td>\n",
       "      <td>2019</td>\n",
       "      <td>None</td>\n",
       "      <td>Download Chapter 5: Transforming Shapes with G...</td>\n",
       "      <td>Intermediate</td>\n",
       "      <td>0.41</td>\n",
       "    </tr>\n",
       "    <tr>\n",
       "      <th>33</th>\n",
       "      <td>Teach Your Kids to Code</td>\n",
       "      <td>Bryson Payne</td>\n",
       "      <td>2015</td>\n",
       "      <td>None</td>\n",
       "      <td>Bryson Payne and Teach Your Kids to Code are f...</td>\n",
       "      <td>Intermediate</td>\n",
       "      <td>0.41</td>\n",
       "    </tr>\n",
       "    <tr>\n",
       "      <th>37</th>\n",
       "      <td>The Recursive Book of Recursion</td>\n",
       "      <td>Al Sweigart</td>\n",
       "      <td>2022</td>\n",
       "      <td>None</td>\n",
       "      <td>Look Inside!\\n\\n\\nDownload Chapter 1: WHAT IS ...</td>\n",
       "      <td>Intermediate</td>\n",
       "      <td>0.40</td>\n",
       "    </tr>\n",
       "  </tbody>\n",
       "</table>\n",
       "</div>"
      ],
      "text/plain": [
       "                                 title                       author  year  \\\n",
       "21              Object-Oriented Python                     Irv Kalb  2021   \n",
       "3                     Black Hat Python  Justin Seitz and Tim Arnold  2021   \n",
       "9                      Gray Hat Python                 Justin Seitz  2009   \n",
       "29                   Python Playground         Mahesh Venkitachalam  2023   \n",
       "28                   Python One-Liners              Christian Mayer  2020   \n",
       "8               Doing Math with Python                    Amit Saha  2015   \n",
       "26        Python for Excel Power Users               Tracy Stephens  2025   \n",
       "2   Beyond the Basic Stuff with Python                  Al Sweigart  2020   \n",
       "32                      Serious Python                Julien Danjou  2018   \n",
       "34               The Art of Clean Code              Christian Mayer  2022   \n",
       "17         Math Adventures with Python                Peter Farrell  2019   \n",
       "33             Teach Your Kids to Code                 Bryson Payne  2015   \n",
       "37     The Recursive Book of Recursion                  Al Sweigart  2022   \n",
       "\n",
       "        edition                                   full_description  \\\n",
       "21         None  Look Inside!\\n \\n\\nDownload Chapter 2: MODELIN...   \n",
       "3   2nd Edition  Look Inside!\\n\\n   \\n\\nDownload Chapter 3: Wri...   \n",
       "9          None  \\nDownload Chapter 2: \"Debuggers and Debugger ...   \n",
       "29  2nd Edition  Download Chapter 1: THE KOCH SNOWFL AKE\\nLook ...   \n",
       "28         None  Look Inside!\\n\\n\\n\\n\\n\\nDownload Chapter 2: PY...   \n",
       "8          None  “Saha does an excellent job providing a clear ...   \n",
       "26         None  Excel is a mainstay of the modern workplace, b...   \n",
       "2          None  Look Inside!\\n\\n\\n\\nDownload Chapter 2: ENVIRO...   \n",
       "32         None  \"Serious Python contains a considerable amount...   \n",
       "34         None  Download Chapter 2: THE 80/20 PRINCIPLE\\nLook ...   \n",
       "17         None  Download Chapter 5: Transforming Shapes with G...   \n",
       "33         None  Bryson Payne and Teach Your Kids to Code are f...   \n",
       "37         None  Look Inside!\\n\\n\\nDownload Chapter 1: WHAT IS ...   \n",
       "\n",
       "           level  score  \n",
       "21  Intermediate   0.71  \n",
       "3   Intermediate   0.50  \n",
       "9   Intermediate   0.49  \n",
       "29  Intermediate   0.46  \n",
       "28  Intermediate   0.45  \n",
       "8   Intermediate   0.44  \n",
       "26  Intermediate   0.44  \n",
       "2   Intermediate   0.43  \n",
       "32  Intermediate   0.42  \n",
       "34  Intermediate   0.42  \n",
       "17  Intermediate   0.41  \n",
       "33  Intermediate   0.41  \n",
       "37  Intermediate   0.40  "
      ]
     },
     "execution_count": 12,
     "metadata": {},
     "output_type": "execute_result"
    }
   ],
   "source": [
    "intermediate_books"
   ]
  }
 ],
 "metadata": {
  "kernelspec": {
   "display_name": "venv",
   "language": "python",
   "name": "python3"
  },
  "language_info": {
   "codemirror_mode": {
    "name": "ipython",
    "version": 3
   },
   "file_extension": ".py",
   "mimetype": "text/x-python",
   "name": "python",
   "nbconvert_exporter": "python",
   "pygments_lexer": "ipython3",
   "version": "3.12.4"
  }
 },
 "nbformat": 4,
 "nbformat_minor": 2
}
