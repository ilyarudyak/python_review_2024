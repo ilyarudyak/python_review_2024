{
 "cells": [
  {
   "cell_type": "code",
   "execution_count": 3,
   "id": "37af1520-d02e-4b15-b3c3-b7174aafb9f4",
   "metadata": {},
   "outputs": [],
   "source": [
    "import re"
   ]
  },
  {
   "cell_type": "markdown",
   "id": "27a583e7-a0cd-4674-954f-d92565cf330e",
   "metadata": {
    "jp-MarkdownHeadingCollapsed": true
   },
   "source": [
    "## Regular Expressions and the re Module"
   ]
  },
  {
   "cell_type": "markdown",
   "id": "947d89c1-c3b9-4401-914b-31b806e8cd5e",
   "metadata": {},
   "source": [
    "### Pattern String Syntax"
   ]
  },
  {
   "cell_type": "markdown",
   "id": "5a15a496-7c28-4f54-8a4c-051fc01c7ce5",
   "metadata": {},
   "source": [
    "#### Raw strings `r''`"
   ]
  },
  {
   "cell_type": "markdown",
   "id": "a24caeb3-27a4-4d2e-b804-7337208cb3f1",
   "metadata": {},
   "source": [
    "Why do we use *raw* strings in `regex`? It's not that easy to explain in full. Let's go step-by-step:\n",
    "- First of all we have so called string escape symbols like `\\n` or `\\t`. There are not many intersections with `regex` patterns, but there are some: 1) `\\b` is a backspace for strings and `\\b` is a pattern for empty string; 2) `\\x` is an escape for hexadecimal numbers and `\\number` is a pattern for a group match. If we use raw strings string escape symbols are not interpreted.\n",
    "- More importantly we may *match* this string escape symbols: `r'\\t'` matches a tab symbol.\n",
    "> Pattern elements (such as `r'\\t'`, equivalent to the string literal `'\\\\t'`) do match the corresponding special characters (in this case, the tab character `\\t`), so you can use a raw string literal even when you need a literal match for such special characters.\n",
    "- Fo these reasons we can not use patterns as is in a string, we have to escape with yet another backslash: `'\\\\s+'`, not `'\\s+'`. But with raw string we do not need to do this: `f'\\s+'`.\n",
    "> In raw string literals, escape sequences are not interpreted as in Table 3-3, but are literally copied into the string, including backslashes and newline characters. Raw string literal syntax is handy for strings that include many backslashes, especially regular expression patterns."
   ]
  },
  {
   "cell_type": "markdown",
   "id": "ea4b3aff-d1b5-4070-9a68-7a57167d2089",
   "metadata": {},
   "source": [
    "#### Greedy vs Non-Greedy "
   ]
  },
  {
   "cell_type": "markdown",
   "id": "b4f99366-d827-4a6c-9547-99c88d87a917",
   "metadata": {},
   "source": [
    "What is the difference between greedy and non-greedy `regex`? \n",
    "> All of these examples are greedy, meaning that they match the substring beginning with the first occurrence of 'pre' all the way to the last occurrence of 'post'. When you care about what part of the string you match, you may often want to specify nongreedy matching, which in our example would match the substring beginning with the first occurrence of 'pre' but only up to the first following occurrence of 'post'."
   ]
  },
  {
   "cell_type": "code",
   "execution_count": 1,
   "id": "7c63b1a7-70d8-4f0c-87a7-24c4ffb0b1f5",
   "metadata": {},
   "outputs": [],
   "source": [
    "s = 'preposterous and post facto'"
   ]
  },
  {
   "cell_type": "code",
   "execution_count": 8,
   "id": "a74335fd-f8d3-463f-9dc7-b4a0b7a2efb5",
   "metadata": {},
   "outputs": [
    {
     "data": {
      "text/plain": [
       "'preposterous and post'"
      ]
     },
     "execution_count": 8,
     "metadata": {},
     "output_type": "execute_result"
    }
   ],
   "source": [
    "# greedy match\n",
    "re.match(r'pre.*post', s).group()"
   ]
  },
  {
   "cell_type": "code",
   "execution_count": 7,
   "id": "a4d6441d-6317-4cb1-8cc5-26d57e550b49",
   "metadata": {},
   "outputs": [
    {
     "data": {
      "text/plain": [
       "'prepost'"
      ]
     },
     "execution_count": 7,
     "metadata": {},
     "output_type": "execute_result"
    }
   ],
   "source": [
    "# non-greedy match\n",
    "re.match(r'pre.?post', s).group()"
   ]
  },
  {
   "cell_type": "code",
   "execution_count": null,
   "id": "f1032d60-9d2f-446d-87b8-ab4d965309f7",
   "metadata": {},
   "outputs": [],
   "source": []
  },
  {
   "cell_type": "code",
   "execution_count": null,
   "id": "86013021-6d16-43d8-8485-1c0f0a1551e4",
   "metadata": {},
   "outputs": [],
   "source": []
  },
  {
   "cell_type": "code",
   "execution_count": null,
   "id": "ba5b92ac-eaf3-40ac-96d5-91d8d55bfa06",
   "metadata": {},
   "outputs": [],
   "source": []
  },
  {
   "cell_type": "code",
   "execution_count": null,
   "id": "0a7961f9-58ec-4c00-8a0a-4168d59b1d19",
   "metadata": {},
   "outputs": [],
   "source": []
  },
  {
   "cell_type": "markdown",
   "id": "fc0d697c-ddd5-41f0-b8da-df624917b978",
   "metadata": {
    "jp-MarkdownHeadingCollapsed": true
   },
   "source": [
    "## Match Versus Search"
   ]
  },
  {
   "cell_type": "markdown",
   "id": "be99ad89-b321-44dc-8215-dc7fb66903d6",
   "metadata": {},
   "source": [
    "What's the difference between `match` and `search`? It turns out that `match` implicitely starts with the beginning of the string.\n",
    "> So far, we’ve been using regular expressions to match strings. For example, the RE with pattern `r'box'` matches strings such as `'box'` and `'boxes'`, but not `'inbox'`. In other words, an RE match is implicitly anchored at the start of the target string, as if the RE’s pattern started with `\\A`."
   ]
  },
  {
   "cell_type": "code",
   "execution_count": 20,
   "id": "e8416aa8-cfd0-49e9-bdfa-c3044719dccc",
   "metadata": {},
   "outputs": [],
   "source": [
    "s = 'inbox'"
   ]
  },
  {
   "cell_type": "code",
   "execution_count": 13,
   "id": "bb7efe0e-7ebf-4b9c-adf7-1a08719f7eb0",
   "metadata": {},
   "outputs": [
    {
     "data": {
      "text/plain": [
       "True"
      ]
     },
     "execution_count": 13,
     "metadata": {},
     "output_type": "execute_result"
    }
   ],
   "source": [
    "re.match(r'box', s) is None"
   ]
  },
  {
   "cell_type": "code",
   "execution_count": 15,
   "id": "96562f49-79fd-4ca2-9a85-21b9996ee9b5",
   "metadata": {},
   "outputs": [
    {
     "data": {
      "text/plain": [
       "False"
      ]
     },
     "execution_count": 15,
     "metadata": {},
     "output_type": "execute_result"
    }
   ],
   "source": [
    "re.search(r'box', s) is None"
   ]
  },
  {
   "cell_type": "markdown",
   "id": "27180162-17db-44bf-aa5a-c8d3764e29ef",
   "metadata": {},
   "source": [
    "To test if the full string matches we may use `fullmatch()`."
   ]
  },
  {
   "cell_type": "code",
   "execution_count": 17,
   "id": "416a86dd-c74f-4cea-84b3-d8b9dd97e663",
   "metadata": {},
   "outputs": [
    {
     "data": {
      "text/plain": [
       "True"
      ]
     },
     "execution_count": 17,
     "metadata": {},
     "output_type": "execute_result"
    }
   ],
   "source": [
    "re.fullmatch(r'box', s) is None"
   ]
  },
  {
   "cell_type": "code",
   "execution_count": 24,
   "id": "602c163c-2368-43ef-8c0a-f76a03fa4740",
   "metadata": {},
   "outputs": [
    {
     "data": {
      "text/plain": [
       "False"
      ]
     },
     "execution_count": 24,
     "metadata": {},
     "output_type": "execute_result"
    }
   ],
   "source": [
    "re.fullmatch(r'.*box', s) is None"
   ]
  },
  {
   "cell_type": "markdown",
   "id": "abbbb550-d83c-45c7-91ab-6b48ccaee4d0",
   "metadata": {
    "jp-MarkdownHeadingCollapsed": true
   },
   "source": [
    "## Anchoring at String Start and End"
   ]
  },
  {
   "cell_type": "markdown",
   "id": "2981486b-91eb-4517-96a0-a71e83f31518",
   "metadata": {},
   "source": [
    "### Read entire file"
   ]
  },
  {
   "cell_type": "markdown",
   "id": "3d96f014-3df9-4392-a277-4cfca1c867fc",
   "metadata": {},
   "source": [
    "> `$` Matches end of string (if MULTILINE, also matches right before `\\n`)"
   ]
  },
  {
   "cell_type": "code",
   "execution_count": 40,
   "id": "ff528f04-6b1f-4eb6-a527-ca4b5643ef50",
   "metadata": {},
   "outputs": [
    {
     "name": "stdout",
     "output_type": "stream",
     "text": [
      "fstring: 'The Life and Death of King Richard III\\nby William Shakespeare\\n\\nACT I\\n\\nScene 1\\n\\nNow is the winter of our discontent\\nMade glorious summer by this son of York,\\nAnd all the clouds that loured upon our house\\nIn the deep bosom of the ocean buried.\\n\\n'\n",
      "match:1\n"
     ]
    }
   ],
   "source": [
    "digatend = re.compile(r'\\d$', re.MULTILINE)\n",
    "with open('afile.txt', 'r') as f:\n",
    "    fstring = f.read()\n",
    "    print(f'fstring: {repr(fstring)}')\n",
    "    match = digatend.search(fstring)\n",
    "    if match:\n",
    "        print(f'match:{match.group()}')"
   ]
  },
  {
   "cell_type": "markdown",
   "id": "18762e5c-b99e-4ac7-bb27-ad09ae8aa35f",
   "metadata": {},
   "source": [
    "Without this flag we'll match only at the beginning of the line."
   ]
  },
  {
   "cell_type": "code",
   "execution_count": 45,
   "id": "e80c18ed-9b07-4214-b1df-a6ec1907b261",
   "metadata": {},
   "outputs": [
    {
     "name": "stdout",
     "output_type": "stream",
     "text": [
      "fstring: 'The Life and Death of King Richard III\\nby William Shakespeare\\n\\nACT I\\n\\nScene 1\\n\\nNow is the winter of our discontent\\nMade glorious summer by this son of York,\\nAnd all the clouds that loured upon our house\\nIn the deep bosom of the ocean buried.\\n\\n'\n"
     ]
    }
   ],
   "source": [
    "digatend = re.compile(r'\\d$')\n",
    "with open('afile.txt', 'r') as f:\n",
    "    fstring = f.read()\n",
    "    print(f'fstring: {repr(fstring)}')\n",
    "    match = digatend.search(fstring)\n",
    "    if match:\n",
    "        print(f'match:{match.group()}')"
   ]
  },
  {
   "cell_type": "code",
   "execution_count": 44,
   "id": "db34492c-4111-4497-80c3-af3677638d9e",
   "metadata": {},
   "outputs": [
    {
     "name": "stdout",
     "output_type": "stream",
     "text": [
      "fstring: 'The Life and Death of King Richard III\\nby William Shakespeare\\n\\nACT I\\n\\nScene 1\\n\\nNow is the winter of our discontent\\nMade glorious summer by this son of York,\\nAnd all the clouds that loured upon our house\\nIn the deep bosom of the ocean buried.2\\n'\n",
      "match:2\n"
     ]
    }
   ],
   "source": [
    "digatend = re.compile(r'\\d$')\n",
    "with open('afile2.txt', 'r') as f:\n",
    "    fstring = f.read()\n",
    "    print(f'fstring: {repr(fstring)}')\n",
    "    match = digatend.search(fstring)\n",
    "    if match:\n",
    "        print(f'match:{match.group()}')"
   ]
  },
  {
   "cell_type": "markdown",
   "id": "4a3f2bd9-b6a0-4a24-be91-91589628cd77",
   "metadata": {},
   "source": [
    "Finally, let's show that `r'\\d$'` and `r'\\d\\n'` can be the same or different."
   ]
  },
  {
   "cell_type": "code",
   "execution_count": 72,
   "id": "fd73a9e5-6426-415f-ac8e-17a846cf05f1",
   "metadata": {},
   "outputs": [],
   "source": [
    "s = \"\"\"The Life and Death of King Richard III\\nby William Shakespeare\\n\\nACT I\\n\\nScene \\n\\nNow is the winter of our discontent\\nMade glorious summer by this son of York,\\nAnd all the clouds that loured upon our house\\nIn the deep bosom of the ocean buried.2\\n\"\"\""
   ]
  },
  {
   "cell_type": "code",
   "execution_count": 73,
   "id": "4127ecb8-0871-4400-b630-de161c98e279",
   "metadata": {},
   "outputs": [
    {
     "name": "stdout",
     "output_type": "stream",
     "text": [
      "'The Life and Death of King Richard III\\nby William Shakespeare\\n\\nACT I\\n\\nScene \\n\\nNow is the winter of our discontent\\nMade glorious summer by this son of York,\\nAnd all the clouds that loured upon our house\\nIn the deep bosom of the ocean buried.2\\n'\n"
     ]
    }
   ],
   "source": [
    "print(repr(s))"
   ]
  },
  {
   "cell_type": "code",
   "execution_count": 74,
   "id": "739f7921-a23e-481d-be00-9665bb2713f7",
   "metadata": {},
   "outputs": [
    {
     "name": "stdout",
     "output_type": "stream",
     "text": [
      "'The Life and Death of King Richard III\\nby William Shakespeare\\n\\nACT I\\n\\nScene \\n\\nNow is the winter of our discontent\\nMade glorious summer by this son of York,\\nAnd all the clouds that loured upon our house\\nIn the deep bosom of the ocean buried.2'\n"
     ]
    }
   ],
   "source": [
    "print(repr(s.strip()))"
   ]
  },
  {
   "cell_type": "code",
   "execution_count": 81,
   "id": "0baaa20e-f809-4bd1-86a7-420e659a274e",
   "metadata": {},
   "outputs": [
    {
     "data": {
      "text/plain": [
       "('2\\n', True)"
      ]
     },
     "execution_count": 81,
     "metadata": {},
     "output_type": "execute_result"
    }
   ],
   "source": [
    "re.search(r'\\d\\n', s, re.MULTILINE).group(), re.search(r'\\d\\n', s.strip()) is None"
   ]
  },
  {
   "cell_type": "markdown",
   "id": "7ddc991e-765d-40f8-8acd-c5b93fcf5f58",
   "metadata": {},
   "source": [
    "### Read line by line"
   ]
  },
  {
   "cell_type": "markdown",
   "id": "6f14fcee-199d-4d33-9bbd-ddede08562b2",
   "metadata": {},
   "source": [
    "In case of a single string it does not matter if a file contains `\\n`. If we need to distinguish these 2 cases we may do this with `r'\\d\\n$'` pattern."
   ]
  },
  {
   "cell_type": "code",
   "execution_count": 55,
   "id": "75c6476c-b838-4b01-9136-6ff0bf0bbb6f",
   "metadata": {},
   "outputs": [
    {
     "data": {
      "text/plain": [
       "(False, True)"
      ]
     },
     "execution_count": 55,
     "metadata": {},
     "output_type": "execute_result"
    }
   ],
   "source": [
    "re.search(r'\\d$', 'Scene 1') is None, re.search(r'\\d\\n$', 'Scene 1') is None"
   ]
  },
  {
   "cell_type": "code",
   "execution_count": 57,
   "id": "b9a00633-56b7-4626-9a54-fa4ebe74d362",
   "metadata": {},
   "outputs": [
    {
     "data": {
      "text/plain": [
       "(False, False)"
      ]
     },
     "execution_count": 57,
     "metadata": {},
     "output_type": "execute_result"
    }
   ],
   "source": [
    "re.search(r'\\d$', 'Scene 1\\n') is None, re.search(r'\\d\\n$', 'Scene 1\\n') is None"
   ]
  },
  {
   "cell_type": "markdown",
   "id": "df72178f-d3f5-4058-99d0-7a62ffc17a2f",
   "metadata": {},
   "source": [
    "### Alternative anchors"
   ]
  },
  {
   "cell_type": "markdown",
   "id": "1fd6770f-dbd5-43a1-b424-7188da183e74",
   "metadata": {},
   "source": [
    "It turns out that we have alternative anchors for a beginning and an end of a line: `\\A` and `\\Z`:\n",
    "> For RE objects that are not flagged as `MULTILINE`, `^` is the same as `\\A`, and `$` is the same as `\\Z`. For a multiline RE, however, `^` can anchor at the start of the string or the start of any line (where “lines” are determined based on `\\n` separator characters). Similarly, with a multiline RE, `$` can anchor at the end of the string or the end of any line. `\\A` and `\\Z` always anchor exclusively at the start and end of the string, whether the RE object is multiline or not."
   ]
  },
  {
   "cell_type": "markdown",
   "id": "3dad9258-dc83-4951-ade1-d2cd7527ffc4",
   "metadata": {},
   "source": [
    "## Regular Expression Object"
   ]
  },
  {
   "cell_type": "code",
   "execution_count": null,
   "id": "55d26795-0669-463d-9342-03ef35f4021f",
   "metadata": {},
   "outputs": [],
   "source": []
  },
  {
   "cell_type": "code",
   "execution_count": null,
   "id": "7a4d9df0-1806-4d69-a451-5ae01651ac41",
   "metadata": {},
   "outputs": [],
   "source": []
  },
  {
   "cell_type": "code",
   "execution_count": null,
   "id": "91eeb613-ecee-4d11-ba4f-604657063de1",
   "metadata": {},
   "outputs": [],
   "source": []
  },
  {
   "cell_type": "code",
   "execution_count": null,
   "id": "2480bc90-40d9-45db-bab6-486119cb960a",
   "metadata": {},
   "outputs": [],
   "source": []
  }
 ],
 "metadata": {
  "kernelspec": {
   "display_name": "Python 3 (ipykernel)",
   "language": "python",
   "name": "python3"
  },
  "language_info": {
   "codemirror_mode": {
    "name": "ipython",
    "version": 3
   },
   "file_extension": ".py",
   "mimetype": "text/x-python",
   "name": "python",
   "nbconvert_exporter": "python",
   "pygments_lexer": "ipython3",
   "version": "3.12.4"
  }
 },
 "nbformat": 4,
 "nbformat_minor": 5
}
