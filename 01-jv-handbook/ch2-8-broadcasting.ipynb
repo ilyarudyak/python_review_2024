{
 "cells": [
  {
   "cell_type": "code",
   "execution_count": 38,
   "id": "2ba319c7-5655-45de-9b7b-104f513a2122",
   "metadata": {},
   "outputs": [],
   "source": [
    "import numpy as np\n",
    "import pandas as pd\n",
    "import matplotlib.pyplot as plt"
   ]
  },
  {
   "cell_type": "markdown",
   "id": "eec03ead-4060-488a-9d12-2bf95971c4c9",
   "metadata": {
    "jp-MarkdownHeadingCollapsed": true
   },
   "source": [
    "## Introducing Broadcasting"
   ]
  },
  {
   "cell_type": "code",
   "execution_count": 3,
   "id": "caf5664a-5492-436d-8997-33255796ef01",
   "metadata": {},
   "outputs": [],
   "source": [
    "a = np.array([0, 1, 2])"
   ]
  },
  {
   "cell_type": "code",
   "execution_count": 4,
   "id": "184c74b2-56e4-4b3b-8a20-442f53130c30",
   "metadata": {},
   "outputs": [],
   "source": [
    "b = np.array([5, 5, 5])"
   ]
  },
  {
   "cell_type": "code",
   "execution_count": 6,
   "id": "4b9c880b-7c14-4fb0-960f-55dda5b5179f",
   "metadata": {},
   "outputs": [
    {
     "data": {
      "text/plain": [
       "array([5, 6, 7])"
      ]
     },
     "execution_count": 6,
     "metadata": {},
     "output_type": "execute_result"
    }
   ],
   "source": [
    "a + b "
   ]
  },
  {
   "cell_type": "code",
   "execution_count": 8,
   "id": "ffd1d28d-447c-4d76-ad87-1ac3d08cda49",
   "metadata": {},
   "outputs": [
    {
     "data": {
      "text/plain": [
       "array([5, 6, 7])"
      ]
     },
     "execution_count": 8,
     "metadata": {},
     "output_type": "execute_result"
    }
   ],
   "source": [
    "# the simplest example of broadcasting\n",
    "a + 5"
   ]
  },
  {
   "cell_type": "code",
   "execution_count": 9,
   "id": "85be1489-6583-45ca-a042-f0bae0bdeb06",
   "metadata": {},
   "outputs": [],
   "source": [
    "M = np.ones((3, 3))"
   ]
  },
  {
   "cell_type": "code",
   "execution_count": 10,
   "id": "882c9c1a-4ed3-4396-a3e9-8b9e93d4adc7",
   "metadata": {},
   "outputs": [
    {
     "data": {
      "text/plain": [
       "array([[1., 1., 1.],\n",
       "       [1., 1., 1.],\n",
       "       [1., 1., 1.]])"
      ]
     },
     "execution_count": 10,
     "metadata": {},
     "output_type": "execute_result"
    }
   ],
   "source": [
    "M"
   ]
  },
  {
   "cell_type": "code",
   "execution_count": 11,
   "id": "c5a3eb4d-8584-4fe0-9693-3b25878044ac",
   "metadata": {},
   "outputs": [
    {
     "data": {
      "text/plain": [
       "array([[1., 2., 3.],\n",
       "       [1., 2., 3.],\n",
       "       [1., 2., 3.]])"
      ]
     },
     "execution_count": 11,
     "metadata": {},
     "output_type": "execute_result"
    }
   ],
   "source": [
    "M + a"
   ]
  },
  {
   "cell_type": "markdown",
   "id": "d63d9b65-2fcb-4d57-971d-5acb1ac9c937",
   "metadata": {},
   "source": [
    "It's possible to broadcast both arrays, but we are not going to experiment with this at the moment."
   ]
  },
  {
   "cell_type": "markdown",
   "id": "2159ae4b-e57b-4dbb-ae1b-c30f56b4eed3",
   "metadata": {},
   "source": [
    "## Rules of Broadcasting"
   ]
  },
  {
   "cell_type": "markdown",
   "id": "195fdecf-a7c7-40c3-8a59-fe108e184bb6",
   "metadata": {},
   "source": [
    "We're not going to explore the rules in it's full complexity. They are way too complicated. Let's just try to understand the main ideas."
   ]
  },
  {
   "cell_type": "markdown",
   "id": "8fccdeeb-fa8d-41f7-9b8a-1f585405c0aa",
   "metadata": {},
   "source": [
    "### Example 1"
   ]
  },
  {
   "cell_type": "code",
   "execution_count": 12,
   "id": "a5d30782-6618-41df-8d1b-bc8869df5430",
   "metadata": {},
   "outputs": [],
   "source": [
    "M = np.ones((2, 3))"
   ]
  },
  {
   "cell_type": "code",
   "execution_count": 13,
   "id": "604594a5-52d1-466b-8117-3f17d151c5b9",
   "metadata": {},
   "outputs": [
    {
     "data": {
      "text/plain": [
       "array([[1., 1., 1.],\n",
       "       [1., 1., 1.]])"
      ]
     },
     "execution_count": 13,
     "metadata": {},
     "output_type": "execute_result"
    }
   ],
   "source": [
    "M"
   ]
  },
  {
   "cell_type": "code",
   "execution_count": 14,
   "id": "8c62f2b3-72d0-4d1d-9d28-93638371bb68",
   "metadata": {},
   "outputs": [],
   "source": [
    "a = np.arange(3)"
   ]
  },
  {
   "cell_type": "code",
   "execution_count": 15,
   "id": "c6ea3ec0-60fd-4edc-b1bd-22681dff5ac0",
   "metadata": {},
   "outputs": [
    {
     "data": {
      "text/plain": [
       "array([0, 1, 2])"
      ]
     },
     "execution_count": 15,
     "metadata": {},
     "output_type": "execute_result"
    }
   ],
   "source": [
    "a"
   ]
  },
  {
   "cell_type": "code",
   "execution_count": 16,
   "id": "7812dd9b-fab8-4744-8dec-bf14475577d2",
   "metadata": {},
   "outputs": [
    {
     "data": {
      "text/plain": [
       "((2, 3), (3,))"
      ]
     },
     "execution_count": 16,
     "metadata": {},
     "output_type": "execute_result"
    }
   ],
   "source": [
    "M.shape, a.shape"
   ]
  },
  {
   "cell_type": "markdown",
   "id": "df1e565d-3311-4ceb-a3d3-aba7e9387287",
   "metadata": {},
   "source": [
    "Shapes are different, so we *add* a dimension of size 1 to the *left* (`Rule 1`). Now we expand this first dimension to 2 (`Rule 2`). Now shapes are the same and we can do our operations. What if they are still different? Then broadcasting is *not* possible (`Rule 3`)."
   ]
  },
  {
   "cell_type": "code",
   "execution_count": 17,
   "id": "bb6140cb-06db-40cd-8a69-90cfbec58f26",
   "metadata": {},
   "outputs": [
    {
     "data": {
      "text/plain": [
       "array([[1., 2., 3.],\n",
       "       [1., 2., 3.]])"
      ]
     },
     "execution_count": 17,
     "metadata": {},
     "output_type": "execute_result"
    }
   ],
   "source": [
    "M + a"
   ]
  },
  {
   "cell_type": "markdown",
   "id": "f5833ad7-6e05-4824-9f2a-485992ac210c",
   "metadata": {},
   "source": [
    "### Example 2"
   ]
  },
  {
   "cell_type": "code",
   "execution_count": 18,
   "id": "463ae210-95f3-4c36-a97c-68b893164326",
   "metadata": {},
   "outputs": [],
   "source": [
    "a = np.arange(3).reshape((3, 1))"
   ]
  },
  {
   "cell_type": "code",
   "execution_count": 19,
   "id": "2d3dd00c-d869-4702-b5e8-3ddf5bdb5d01",
   "metadata": {},
   "outputs": [
    {
     "data": {
      "text/plain": [
       "array([[0],\n",
       "       [1],\n",
       "       [2]])"
      ]
     },
     "execution_count": 19,
     "metadata": {},
     "output_type": "execute_result"
    }
   ],
   "source": [
    "a"
   ]
  },
  {
   "cell_type": "code",
   "execution_count": 22,
   "id": "3dce5ead-2752-4988-90bf-c52873d398e7",
   "metadata": {},
   "outputs": [
    {
     "data": {
      "text/plain": [
       "(3, 1)"
      ]
     },
     "execution_count": 22,
     "metadata": {},
     "output_type": "execute_result"
    }
   ],
   "source": [
    "a.shape"
   ]
  },
  {
   "cell_type": "code",
   "execution_count": 20,
   "id": "e47f4bf3-5709-4ef6-86fc-e1d7e6589518",
   "metadata": {},
   "outputs": [],
   "source": [
    "b = np.arange(3)"
   ]
  },
  {
   "cell_type": "code",
   "execution_count": 21,
   "id": "22d9c24e-da69-46e6-9bcd-111df9e3d179",
   "metadata": {},
   "outputs": [
    {
     "data": {
      "text/plain": [
       "array([0, 1, 2])"
      ]
     },
     "execution_count": 21,
     "metadata": {},
     "output_type": "execute_result"
    }
   ],
   "source": [
    "b"
   ]
  },
  {
   "cell_type": "markdown",
   "id": "dd47221f-3e0d-4ff5-86af-3e003ac9f356",
   "metadata": {},
   "source": [
    "So we are doing the following expansions:\n",
    "- expand `b` on the left to 1 (`(3,) -> (1, 3)`);\n",
    "- expand `b` on this first dimension (`(1, 3) -> (3, 3)`);\n",
    "- finally expand `a` on the second dimension (`(3, 1) -> (3, 3)`);"
   ]
  },
  {
   "cell_type": "code",
   "execution_count": 23,
   "id": "36fa3561-3b0e-4970-9aeb-6008f459577c",
   "metadata": {},
   "outputs": [
    {
     "data": {
      "text/plain": [
       "array([[0, 1, 2],\n",
       "       [1, 2, 3],\n",
       "       [2, 3, 4]])"
      ]
     },
     "execution_count": 23,
     "metadata": {},
     "output_type": "execute_result"
    }
   ],
   "source": [
    "a + b"
   ]
  },
  {
   "cell_type": "markdown",
   "id": "9514c8c5-5747-42f0-bc8a-f33b3466f43a",
   "metadata": {},
   "source": [
    "### Example 3"
   ]
  },
  {
   "cell_type": "code",
   "execution_count": 24,
   "id": "19dfd0ce-ef11-4cdc-95f7-86b24ddccb5f",
   "metadata": {},
   "outputs": [],
   "source": [
    "M = np.ones((3, 2))"
   ]
  },
  {
   "cell_type": "code",
   "execution_count": 25,
   "id": "e762df1f-dc02-42f6-ad5c-aca9d853adad",
   "metadata": {},
   "outputs": [],
   "source": [
    "a = np.arange(3)"
   ]
  },
  {
   "cell_type": "markdown",
   "id": "88e773df-f41f-4ee7-9509-7f72e3ba5a39",
   "metadata": {},
   "source": [
    "It's not actually possible to broadcast this. Why? Well, the first 2 steps are exactly the same as before, but then we can't expand the second dimension of M - it has a dimension `2`, not `1`. So we apply the `Rule 3` and halt."
   ]
  },
  {
   "cell_type": "markdown",
   "id": "6af8664f-a18c-4a81-a88d-0846e1d0dad2",
   "metadata": {},
   "source": [
    "## Broadcasting in Practice"
   ]
  },
  {
   "cell_type": "markdown",
   "id": "ab6f074c-e623-4a05-b39b-4e4ccef4ff86",
   "metadata": {},
   "source": [
    "### Centering an Array"
   ]
  },
  {
   "cell_type": "markdown",
   "id": "935fd549-bd9e-4f38-be72-c5103b49288a",
   "metadata": {},
   "source": [
    "Let's substract a mean from a 2-dimensional array."
   ]
  },
  {
   "cell_type": "code",
   "execution_count": 26,
   "id": "bc612b80-ae80-4ce1-b16f-b7013ded5601",
   "metadata": {},
   "outputs": [],
   "source": [
    "rng = np.random.default_rng(seed=1701)"
   ]
  },
  {
   "cell_type": "code",
   "execution_count": 28,
   "id": "bcf121fe-a4c7-4436-b4c6-365668c6ebf4",
   "metadata": {},
   "outputs": [],
   "source": [
    "X = rng.random((10, 3))"
   ]
  },
  {
   "cell_type": "code",
   "execution_count": 29,
   "id": "9cc59e6d-c640-41df-8730-e8e60e7cc07c",
   "metadata": {},
   "outputs": [
    {
     "data": {
      "text/plain": [
       "array([[0.4020733 , 0.30563311, 0.67668051],\n",
       "       [0.15821208, 0.79247763, 0.09419469],\n",
       "       [0.36753944, 0.06388928, 0.96431608],\n",
       "       [0.35200998, 0.54550343, 0.88597945],\n",
       "       [0.57016965, 0.26614394, 0.8170382 ],\n",
       "       [0.55906652, 0.06387035, 0.84877751],\n",
       "       [0.89414484, 0.18920785, 0.23660015],\n",
       "       [0.16502896, 0.56583856, 0.29513111],\n",
       "       [0.29078012, 0.90079544, 0.59992434],\n",
       "       [0.09133896, 0.00578466, 0.97096222]])"
      ]
     },
     "execution_count": 29,
     "metadata": {},
     "output_type": "execute_result"
    }
   ],
   "source": [
    "X"
   ]
  },
  {
   "cell_type": "code",
   "execution_count": 31,
   "id": "20635460-a18e-4367-a68b-34c1e24246dd",
   "metadata": {},
   "outputs": [
    {
     "data": {
      "text/plain": [
       "array([0.38503638, 0.36991443, 0.63896043])"
      ]
     },
     "execution_count": 31,
     "metadata": {},
     "output_type": "execute_result"
    }
   ],
   "source": [
    "# again, mean over columns using axis=0, not axis=1\n",
    "np.mean(X, axis=0)"
   ]
  },
  {
   "cell_type": "code",
   "execution_count": 32,
   "id": "2a666235-3f15-4f56-96a9-b7bf7965520f",
   "metadata": {},
   "outputs": [
    {
     "data": {
      "text/plain": [
       "array([[ 0.01703691, -0.06428131,  0.03772009],\n",
       "       [-0.2268243 ,  0.4225632 , -0.54476574],\n",
       "       [-0.01749695, -0.30602514,  0.32535566],\n",
       "       [-0.0330264 ,  0.175589  ,  0.24701902],\n",
       "       [ 0.18513326, -0.10377048,  0.17807777],\n",
       "       [ 0.17403013, -0.30604408,  0.20981709],\n",
       "       [ 0.50910846, -0.18070657, -0.40236028],\n",
       "       [-0.22000743,  0.19592414, -0.34382932],\n",
       "       [-0.09425626,  0.53088102, -0.03903608],\n",
       "       [-0.29369742, -0.36412976,  0.33200179]])"
      ]
     },
     "execution_count": 32,
     "metadata": {},
     "output_type": "execute_result"
    }
   ],
   "source": [
    "X - np.mean(X, axis=0)"
   ]
  },
  {
   "cell_type": "markdown",
   "id": "ac5313f8-5a17-4032-89bb-21a410f917e5",
   "metadata": {},
   "source": [
    "Let's check, that the result is correct. We may see, that the result for the first row is in fact correct."
   ]
  },
  {
   "cell_type": "code",
   "execution_count": 33,
   "id": "9996e732-55f3-470c-ae14-3dedd76b4b6f",
   "metadata": {},
   "outputs": [
    {
     "data": {
      "text/plain": [
       "array([0.4020733 , 0.30563311, 0.67668051])"
      ]
     },
     "execution_count": 33,
     "metadata": {},
     "output_type": "execute_result"
    }
   ],
   "source": [
    "X[0] "
   ]
  },
  {
   "cell_type": "code",
   "execution_count": 34,
   "id": "a1d813a5-b7eb-4fe6-bf31-62f3c5777231",
   "metadata": {},
   "outputs": [
    {
     "data": {
      "text/plain": [
       "array([ 0.01703691, -0.06428131,  0.03772009])"
      ]
     },
     "execution_count": 34,
     "metadata": {},
     "output_type": "execute_result"
    }
   ],
   "source": [
    "X[0] - np.mean(X, axis=0)"
   ]
  },
  {
   "cell_type": "markdown",
   "id": "ef2457fe-f890-4f4b-87db-7e52ddf54f02",
   "metadata": {},
   "source": [
    "### Plotting a Two-Dimensional Function"
   ]
  },
  {
   "cell_type": "code",
   "execution_count": 35,
   "id": "e881a06f-273b-48bf-93b7-ea0a3a9383e0",
   "metadata": {},
   "outputs": [],
   "source": [
    "x = np.linspace(0, 5, 50)"
   ]
  },
  {
   "cell_type": "code",
   "execution_count": 36,
   "id": "9473daef-3a75-45e4-a674-094317c789dd",
   "metadata": {},
   "outputs": [],
   "source": [
    "y = np.linspace(0, 5, 50)[:, np.newaxis]"
   ]
  },
  {
   "cell_type": "code",
   "execution_count": 37,
   "id": "b9dd4d1b-1f71-4f5a-becb-fd5ad8e0790a",
   "metadata": {},
   "outputs": [
    {
     "data": {
      "text/plain": [
       "((50,), (50, 1))"
      ]
     },
     "execution_count": 37,
     "metadata": {},
     "output_type": "execute_result"
    }
   ],
   "source": [
    "x.shape, y.shape"
   ]
  },
  {
   "cell_type": "code",
   "execution_count": 43,
   "id": "00ff9fc3-48ff-4258-a9d1-89fa9405680c",
   "metadata": {},
   "outputs": [],
   "source": [
    "# here we use broadcasting\n",
    "z = np.sin(x) ** 10 + np.cos(10 + y * x) * np.cos(x)"
   ]
  },
  {
   "cell_type": "code",
   "execution_count": 40,
   "id": "46669a3f-7721-4879-a161-3c0131946041",
   "metadata": {},
   "outputs": [
    {
     "data": {
      "text/plain": [
       "(50, 50)"
      ]
     },
     "execution_count": 40,
     "metadata": {},
     "output_type": "execute_result"
    }
   ],
   "source": [
    "z.shape"
   ]
  },
  {
   "cell_type": "code",
   "execution_count": 42,
   "id": "8103e6e1-fd11-4f2d-b081-d2560d246a68",
   "metadata": {},
   "outputs": [
    {
     "data": {
      "image/png": "[encoded data removed]",
      "text/plain": [
       "<Figure size 640x480 with 1 Axes>"
      ]
     },
     "metadata": {},
     "output_type": "display_data"
    }
   ],
   "source": [
    "plt.imshow(z, origin='lower', extent=[0, 5, 0, 5]);"
   ]
  },
  {
   "cell_type": "markdown",
   "id": "0f1f59b1-6713-444e-ab1e-f2eefe72e6d9",
   "metadata": {},
   "source": [
    "This concludes the chapter on broadcasting."
   ]
  }
 ],
 "metadata": {
  "kernelspec": {
   "display_name": "Python 3 (ipykernel)",
   "language": "python",
   "name": "python3"
  },
  "language_info": {
   "codemirror_mode": {
    "name": "ipython",
    "version": 3
   },
   "file_extension": ".py",
   "mimetype": "text/x-python",
   "name": "python",
   "nbconvert_exporter": "python",
   "pygments_lexer": "ipython3",
   "version": "3.12.4"
  }
 },
 "nbformat": 4,
 "nbformat_minor": 5
}
