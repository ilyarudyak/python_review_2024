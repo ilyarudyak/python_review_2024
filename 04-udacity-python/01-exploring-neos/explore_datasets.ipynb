{
 "cells": [
  {
   "cell_type": "code",
   "execution_count": 2,
   "metadata": {},
   "outputs": [],
   "source": [
    "import pandas as pd\n",
    "import json"
   ]
  },
  {
   "cell_type": "markdown",
   "metadata": {},
   "source": [
    "## Small-Bodies Dataset (`neos.csv`)"
   ]
  },
  {
   "cell_type": "code",
   "execution_count": 3,
   "metadata": {},
   "outputs": [],
   "source": [
    "neos = pd.read_csv('data/neos.csv', nrows=3)"
   ]
  },
  {
   "cell_type": "code",
   "execution_count": 5,
   "metadata": {},
   "outputs": [
    {
     "data": {
      "text/plain": [
       "75"
      ]
     },
     "execution_count": 5,
     "metadata": {},
     "output_type": "execute_result"
    }
   ],
   "source": [
    "len(neos.columns)"
   ]
  },
  {
   "cell_type": "markdown",
   "metadata": {},
   "source": [
    "- `pdes` - the primary designation of the NEO. This is a unique identifier in the database, and its \"name\" to computer systems.\n",
    "- `name` - the International Astronomical Union (IAU) name of the NEO. This is its \"name\" to humans.\n",
    "- `pha` - whether NASA has marked the NEO as a \"Potentially Hazardous Asteroid,\" roughly meaning that it's large and can come quite close to Earth.\n",
    "- `diameter` - the NEO's diameter (from an equivalent sphere) in kilometers."
   ]
  },
  {
   "cell_type": "code",
   "execution_count": 6,
   "metadata": {},
   "outputs": [],
   "source": [
    "neos_small = pd.read_csv('data/neos.csv', usecols=['pdes', 'name', 'diameter', 'pha'], nrows=3)"
   ]
  },
  {
   "cell_type": "code",
   "execution_count": 7,
   "metadata": {},
   "outputs": [
    {
     "data": {
      "text/html": [
       "<div>\n",
       "<style scoped>\n",
       "    .dataframe tbody tr th:only-of-type {\n",
       "        vertical-align: middle;\n",
       "    }\n",
       "\n",
       "    .dataframe tbody tr th {\n",
       "        vertical-align: top;\n",
       "    }\n",
       "\n",
       "    .dataframe thead th {\n",
       "        text-align: right;\n",
       "    }\n",
       "</style>\n",
       "<table border=\"1\" class=\"dataframe\">\n",
       "  <thead>\n",
       "    <tr style=\"text-align: right;\">\n",
       "      <th></th>\n",
       "      <th>pdes</th>\n",
       "      <th>name</th>\n",
       "      <th>pha</th>\n",
       "      <th>diameter</th>\n",
       "    </tr>\n",
       "  </thead>\n",
       "  <tbody>\n",
       "    <tr>\n",
       "      <th>0</th>\n",
       "      <td>433</td>\n",
       "      <td>Eros</td>\n",
       "      <td>N</td>\n",
       "      <td>16.84</td>\n",
       "    </tr>\n",
       "    <tr>\n",
       "      <th>1</th>\n",
       "      <td>719</td>\n",
       "      <td>Albert</td>\n",
       "      <td>N</td>\n",
       "      <td>NaN</td>\n",
       "    </tr>\n",
       "    <tr>\n",
       "      <th>2</th>\n",
       "      <td>887</td>\n",
       "      <td>Alinda</td>\n",
       "      <td>N</td>\n",
       "      <td>4.20</td>\n",
       "    </tr>\n",
       "  </tbody>\n",
       "</table>\n",
       "</div>"
      ],
      "text/plain": [
       "   pdes    name pha  diameter\n",
       "0   433    Eros   N     16.84\n",
       "1   719  Albert   N       NaN\n",
       "2   887  Alinda   N      4.20"
      ]
     },
     "execution_count": 7,
     "metadata": {},
     "output_type": "execute_result"
    }
   ],
   "source": [
    "neos_small"
   ]
  },
  {
   "cell_type": "markdown",
   "metadata": {},
   "source": [
    "### How many NEOs are in the `neos.csv` data set?"
   ]
  },
  {
   "cell_type": "code",
   "execution_count": 8,
   "metadata": {},
   "outputs": [
    {
     "name": "stderr",
     "output_type": "stream",
     "text": [
      "/var/folders/5r/36v862y17991gp14kn_1mn_40000gn/T/ipykernel_76367/3690334183.py:1: DtypeWarning: Columns (4) have mixed types. Specify dtype option on import or set low_memory=False.\n",
      "  neos_4cols = pd.read_csv('data/neos.csv', usecols=['pdes', 'name', 'diameter', 'pha'])\n"
     ]
    }
   ],
   "source": [
    "neos_4cols = pd.read_csv('data/neos.csv', usecols=['pdes', 'name', 'diameter', 'pha'])"
   ]
  },
  {
   "cell_type": "code",
   "execution_count": 9,
   "metadata": {},
   "outputs": [
    {
     "data": {
      "text/plain": [
       "(23967, 4)"
      ]
     },
     "execution_count": 9,
     "metadata": {},
     "output_type": "execute_result"
    }
   ],
   "source": [
    "neos_4cols.shape"
   ]
  },
  {
   "cell_type": "code",
   "execution_count": 33,
   "metadata": {},
   "outputs": [
    {
     "name": "stdout",
     "output_type": "stream",
     "text": [
      "<class 'pandas.core.frame.DataFrame'>\n",
      "RangeIndex: 23967 entries, 0 to 23966\n",
      "Data columns (total 4 columns):\n",
      " #   Column    Non-Null Count  Dtype  \n",
      "---  ------    --------------  -----  \n",
      " 0   pdes      23967 non-null  object \n",
      " 1   name      343 non-null    object \n",
      " 2   pha       23779 non-null  object \n",
      " 3   diameter  1268 non-null   float64\n",
      "dtypes: float64(1), object(3)\n",
      "memory usage: 749.1+ KB\n"
     ]
    }
   ],
   "source": [
    "neos_4cols.info()"
   ]
  },
  {
   "cell_type": "code",
   "execution_count": 37,
   "metadata": {},
   "outputs": [
    {
     "data": {
      "text/plain": [
       "0        False\n",
       "1        False\n",
       "2        False\n",
       "3        False\n",
       "4        False\n",
       "         ...  \n",
       "23962     True\n",
       "23963    False\n",
       "23964     True\n",
       "23965     True\n",
       "23966     True\n",
       "Name: name, Length: 23967, dtype: bool"
      ]
     },
     "execution_count": 37,
     "metadata": {},
     "output_type": "execute_result"
    }
   ],
   "source": [
    "neos_4cols['name'].duplicated()"
   ]
  },
  {
   "cell_type": "code",
   "execution_count": 38,
   "metadata": {},
   "outputs": [
    {
     "data": {
      "text/html": [
       "<div>\n",
       "<style scoped>\n",
       "    .dataframe tbody tr th:only-of-type {\n",
       "        vertical-align: middle;\n",
       "    }\n",
       "\n",
       "    .dataframe tbody tr th {\n",
       "        vertical-align: top;\n",
       "    }\n",
       "\n",
       "    .dataframe thead th {\n",
       "        text-align: right;\n",
       "    }\n",
       "</style>\n",
       "<table border=\"1\" class=\"dataframe\">\n",
       "  <thead>\n",
       "    <tr style=\"text-align: right;\">\n",
       "      <th></th>\n",
       "      <th>pdes</th>\n",
       "      <th>name</th>\n",
       "      <th>pha</th>\n",
       "      <th>diameter</th>\n",
       "    </tr>\n",
       "  </thead>\n",
       "  <tbody>\n",
       "    <tr>\n",
       "      <th>23962</th>\n",
       "      <td>2019 Y4-D</td>\n",
       "      <td>ATLAS</td>\n",
       "      <td>NaN</td>\n",
       "      <td>NaN</td>\n",
       "    </tr>\n",
       "    <tr>\n",
       "      <th>23963</th>\n",
       "      <td>2020 G1</td>\n",
       "      <td>Pimentel</td>\n",
       "      <td>NaN</td>\n",
       "      <td>NaN</td>\n",
       "    </tr>\n",
       "    <tr>\n",
       "      <th>23964</th>\n",
       "      <td>2020 M3</td>\n",
       "      <td>ATLAS</td>\n",
       "      <td>NaN</td>\n",
       "      <td>NaN</td>\n",
       "    </tr>\n",
       "    <tr>\n",
       "      <th>23965</th>\n",
       "      <td>2020 P4-B</td>\n",
       "      <td>NaN</td>\n",
       "      <td>NaN</td>\n",
       "      <td>NaN</td>\n",
       "    </tr>\n",
       "    <tr>\n",
       "      <th>23966</th>\n",
       "      <td>2020 P4-C</td>\n",
       "      <td>NaN</td>\n",
       "      <td>NaN</td>\n",
       "      <td>NaN</td>\n",
       "    </tr>\n",
       "  </tbody>\n",
       "</table>\n",
       "</div>"
      ],
      "text/plain": [
       "            pdes      name  pha  diameter\n",
       "23962  2019 Y4-D     ATLAS  NaN       NaN\n",
       "23963    2020 G1  Pimentel  NaN       NaN\n",
       "23964    2020 M3     ATLAS  NaN       NaN\n",
       "23965  2020 P4-B       NaN  NaN       NaN\n",
       "23966  2020 P4-C       NaN  NaN       NaN"
      ]
     },
     "execution_count": 38,
     "metadata": {},
     "output_type": "execute_result"
    }
   ],
   "source": [
    "neos_4cols.tail()"
   ]
  },
  {
   "cell_type": "markdown",
   "metadata": {},
   "source": [
    "### What is the primary designation of the first Near Earth Object in the `neos.csv` data set?"
   ]
  },
  {
   "cell_type": "code",
   "execution_count": 10,
   "metadata": {},
   "outputs": [
    {
     "data": {
      "text/plain": [
       "np.int64(433)"
      ]
     },
     "execution_count": 10,
     "metadata": {},
     "output_type": "execute_result"
    }
   ],
   "source": [
    "neos_small.iloc[0, 0]"
   ]
  },
  {
   "cell_type": "markdown",
   "metadata": {},
   "source": [
    "### What is the diameter of the NEO whose name is \"Apollo\"?"
   ]
  },
  {
   "cell_type": "code",
   "execution_count": 11,
   "metadata": {},
   "outputs": [
    {
     "data": {
      "text/plain": [
       "10    1.5\n",
       "Name: diameter, dtype: float64"
      ]
     },
     "execution_count": 11,
     "metadata": {},
     "output_type": "execute_result"
    }
   ],
   "source": [
    "neos_4cols[neos_4cols['name'] == 'Apollo']['diameter']"
   ]
  },
  {
   "cell_type": "markdown",
   "metadata": {},
   "source": [
    "### How many NEOs have IAU names in the data set?"
   ]
  },
  {
   "cell_type": "code",
   "execution_count": 13,
   "metadata": {},
   "outputs": [
    {
     "data": {
      "text/plain": [
       "np.int64(343)"
      ]
     },
     "execution_count": 13,
     "metadata": {},
     "output_type": "execute_result"
    }
   ],
   "source": [
    "neos_4cols['name'].notnull().sum()"
   ]
  },
  {
   "cell_type": "markdown",
   "metadata": {},
   "source": [
    "### How many NEOs have diameters in the data set?"
   ]
  },
  {
   "cell_type": "code",
   "execution_count": 14,
   "metadata": {},
   "outputs": [
    {
     "data": {
      "text/plain": [
       "np.int64(1268)"
      ]
     },
     "execution_count": 14,
     "metadata": {},
     "output_type": "execute_result"
    }
   ],
   "source": [
    "neos_4cols['diameter'].notnull().sum()"
   ]
  },
  {
   "cell_type": "markdown",
   "metadata": {},
   "source": [
    "### `Lemon`"
   ]
  },
  {
   "cell_type": "code",
   "execution_count": 40,
   "metadata": {},
   "outputs": [
    {
     "data": {
      "text/html": [
       "<div>\n",
       "<style scoped>\n",
       "    .dataframe tbody tr th:only-of-type {\n",
       "        vertical-align: middle;\n",
       "    }\n",
       "\n",
       "    .dataframe tbody tr th {\n",
       "        vertical-align: top;\n",
       "    }\n",
       "\n",
       "    .dataframe thead th {\n",
       "        text-align: right;\n",
       "    }\n",
       "</style>\n",
       "<table border=\"1\" class=\"dataframe\">\n",
       "  <thead>\n",
       "    <tr style=\"text-align: right;\">\n",
       "      <th></th>\n",
       "      <th>pdes</th>\n",
       "      <th>name</th>\n",
       "      <th>pha</th>\n",
       "      <th>diameter</th>\n",
       "    </tr>\n",
       "  </thead>\n",
       "  <tbody>\n",
       "    <tr>\n",
       "      <th>23952</th>\n",
       "      <td>2013 TL117</td>\n",
       "      <td>Lemmon</td>\n",
       "      <td>NaN</td>\n",
       "      <td>NaN</td>\n",
       "    </tr>\n",
       "  </tbody>\n",
       "</table>\n",
       "</div>"
      ],
      "text/plain": [
       "             pdes    name  pha  diameter\n",
       "23952  2013 TL117  Lemmon  NaN       NaN"
      ]
     },
     "execution_count": 40,
     "metadata": {},
     "output_type": "execute_result"
    }
   ],
   "source": [
    "# Retrieve NEO with name `Lemmon`\n",
    "neos_4cols[neos_4cols['name'] == 'Lemmon']"
   ]
  },
  {
   "cell_type": "markdown",
   "metadata": {},
   "source": [
    "## Close Approach Dataset (`cad.json`)"
   ]
  },
  {
   "cell_type": "markdown",
   "metadata": {},
   "source": [
    "- `des` - primary designation of the asteroid or comet (e.g., 443, 2000 SG344)\n",
    "- `orbit_id` - orbit ID\n",
    "- `jd` - time of close-approach (JD Ephemeris Time)\n",
    "- `cd` - time of close-approach (formatted calendar date/time, in UTC)\n",
    "- `dist` - nominal approach distance (au)\n",
    "- `dist_min` - minimum (3-sigma) approach distance (au)\n",
    "- `dist_max` - maximum (3-sigma) approach distance (au)\n",
    "- `v_rel` - velocity relative to the approach body at close approach (km/s)\n",
    "- `v_inf` - velocity relative to a massless body (km/s)\n",
    "- `t_sigma_f` - 3-sigma uncertainty in the time of close-approach (formatted in days, hours, and minutes; days are not included if zero; example \"13:02\" is 13 hours 2 minutes; example \"2_09:08\" is 2 days 9 hours 8 minutes)\n",
    "- `h` - absolute magnitude H (mag)"
   ]
  },
  {
   "cell_type": "code",
   "execution_count": 16,
   "metadata": {},
   "outputs": [],
   "source": [
    "# Read the JSON file\n",
    "with open('data/cad.json', 'r') as file:\n",
    "    json_data = json.load(file)"
   ]
  },
  {
   "cell_type": "code",
   "execution_count": 18,
   "metadata": {},
   "outputs": [],
   "source": [
    "cad = pd.DataFrame(json_data['data'], columns=json_data['fields'])"
   ]
  },
  {
   "cell_type": "code",
   "execution_count": 20,
   "metadata": {},
   "outputs": [
    {
     "data": {
      "text/html": [
       "<div>\n",
       "<style scoped>\n",
       "    .dataframe tbody tr th:only-of-type {\n",
       "        vertical-align: middle;\n",
       "    }\n",
       "\n",
       "    .dataframe tbody tr th {\n",
       "        vertical-align: top;\n",
       "    }\n",
       "\n",
       "    .dataframe thead th {\n",
       "        text-align: right;\n",
       "    }\n",
       "</style>\n",
       "<table border=\"1\" class=\"dataframe\">\n",
       "  <thead>\n",
       "    <tr style=\"text-align: right;\">\n",
       "      <th></th>\n",
       "      <th>des</th>\n",
       "      <th>orbit_id</th>\n",
       "      <th>jd</th>\n",
       "      <th>cd</th>\n",
       "      <th>dist</th>\n",
       "      <th>dist_min</th>\n",
       "      <th>dist_max</th>\n",
       "      <th>v_rel</th>\n",
       "      <th>v_inf</th>\n",
       "      <th>t_sigma_f</th>\n",
       "      <th>h</th>\n",
       "    </tr>\n",
       "  </thead>\n",
       "  <tbody>\n",
       "    <tr>\n",
       "      <th>0</th>\n",
       "      <td>170903</td>\n",
       "      <td>105</td>\n",
       "      <td>2415020.507669610</td>\n",
       "      <td>1900-Jan-01 00:11</td>\n",
       "      <td>0.0921795123769547</td>\n",
       "      <td>0.0912006569517418</td>\n",
       "      <td>0.0931589328621254</td>\n",
       "      <td>16.7523040362574</td>\n",
       "      <td>16.7505784933163</td>\n",
       "      <td>01:00</td>\n",
       "      <td>18.1</td>\n",
       "    </tr>\n",
       "    <tr>\n",
       "      <th>1</th>\n",
       "      <td>2005 OE3</td>\n",
       "      <td>52</td>\n",
       "      <td>2415020.606013490</td>\n",
       "      <td>1900-Jan-01 02:33</td>\n",
       "      <td>0.414975519685102</td>\n",
       "      <td>0.414968315685577</td>\n",
       "      <td>0.414982724454678</td>\n",
       "      <td>17.918395877175</td>\n",
       "      <td>17.9180375373357</td>\n",
       "      <td>&lt; 00:01</td>\n",
       "      <td>20.3</td>\n",
       "    </tr>\n",
       "    <tr>\n",
       "      <th>2</th>\n",
       "      <td>2006 XO4</td>\n",
       "      <td>15</td>\n",
       "      <td>2415020.634068074</td>\n",
       "      <td>1900-Jan-01 03:13</td>\n",
       "      <td>0.114291499199114</td>\n",
       "      <td>0.114272705486348</td>\n",
       "      <td>0.114310301346124</td>\n",
       "      <td>7.39720266467069</td>\n",
       "      <td>7.3940503943318</td>\n",
       "      <td>00:23</td>\n",
       "      <td>23.4</td>\n",
       "    </tr>\n",
       "  </tbody>\n",
       "</table>\n",
       "</div>"
      ],
      "text/plain": [
       "        des orbit_id                 jd                 cd  \\\n",
       "0    170903      105  2415020.507669610  1900-Jan-01 00:11   \n",
       "1  2005 OE3       52  2415020.606013490  1900-Jan-01 02:33   \n",
       "2  2006 XO4       15  2415020.634068074  1900-Jan-01 03:13   \n",
       "\n",
       "                 dist            dist_min            dist_max  \\\n",
       "0  0.0921795123769547  0.0912006569517418  0.0931589328621254   \n",
       "1   0.414975519685102   0.414968315685577   0.414982724454678   \n",
       "2   0.114291499199114   0.114272705486348   0.114310301346124   \n",
       "\n",
       "              v_rel             v_inf t_sigma_f     h  \n",
       "0  16.7523040362574  16.7505784933163     01:00  18.1  \n",
       "1   17.918395877175  17.9180375373357   < 00:01  20.3  \n",
       "2  7.39720266467069   7.3940503943318     00:23  23.4  "
      ]
     },
     "execution_count": 20,
     "metadata": {},
     "output_type": "execute_result"
    }
   ],
   "source": [
    "cad.head(3)"
   ]
  },
  {
   "cell_type": "code",
   "execution_count": 22,
   "metadata": {},
   "outputs": [
    {
     "name": "stdout",
     "output_type": "stream",
     "text": [
      "<class 'pandas.core.frame.DataFrame'>\n",
      "RangeIndex: 406785 entries, 0 to 406784\n",
      "Data columns (total 11 columns):\n",
      " #   Column     Non-Null Count   Dtype \n",
      "---  ------     --------------   ----- \n",
      " 0   des        406785 non-null  object\n",
      " 1   orbit_id   406785 non-null  object\n",
      " 2   jd         406785 non-null  object\n",
      " 3   cd         406785 non-null  object\n",
      " 4   dist       406785 non-null  object\n",
      " 5   dist_min   406785 non-null  object\n",
      " 6   dist_max   406785 non-null  object\n",
      " 7   v_rel      406785 non-null  object\n",
      " 8   v_inf      406766 non-null  object\n",
      " 9   t_sigma_f  406785 non-null  object\n",
      " 10  h          406277 non-null  object\n",
      "dtypes: object(11)\n",
      "memory usage: 34.1+ MB\n"
     ]
    }
   ],
   "source": [
    "cad.info()"
   ]
  },
  {
   "cell_type": "markdown",
   "metadata": {},
   "source": [
    "### How many close approaches are in the `cad.json` data set?"
   ]
  },
  {
   "cell_type": "code",
   "execution_count": 21,
   "metadata": {},
   "outputs": [
    {
     "data": {
      "text/plain": [
       "(406785, 11)"
      ]
     },
     "execution_count": 21,
     "metadata": {},
     "output_type": "execute_result"
    }
   ],
   "source": [
    "cad.shape"
   ]
  },
  {
   "cell_type": "markdown",
   "metadata": {},
   "source": [
    "### On `January 1st, 2000`, how close did the NEO whose primary designation is `\"2015 CL\"` pass by Earth?"
   ]
  },
  {
   "cell_type": "code",
   "execution_count": 23,
   "metadata": {},
   "outputs": [],
   "source": [
    "# Convert 'cd' column to datetime\n",
    "cad['cd'] = pd.to_datetime(cad['cd'])\n",
    "\n",
    "# Filter entries with January 1st, 2000 and 'des' equal to \"2015 CL\"\n",
    "filtered_cad = cad[(cad['cd'].dt.date == pd.to_datetime('2000-01-01').date()) & (cad['des'] == '2015 CL')]"
   ]
  },
  {
   "cell_type": "code",
   "execution_count": 24,
   "metadata": {},
   "outputs": [
    {
     "data": {
      "text/html": [
       "<div>\n",
       "<style scoped>\n",
       "    .dataframe tbody tr th:only-of-type {\n",
       "        vertical-align: middle;\n",
       "    }\n",
       "\n",
       "    .dataframe tbody tr th {\n",
       "        vertical-align: top;\n",
       "    }\n",
       "\n",
       "    .dataframe thead th {\n",
       "        text-align: right;\n",
       "    }\n",
       "</style>\n",
       "<table border=\"1\" class=\"dataframe\">\n",
       "  <thead>\n",
       "    <tr style=\"text-align: right;\">\n",
       "      <th></th>\n",
       "      <th>des</th>\n",
       "      <th>orbit_id</th>\n",
       "      <th>jd</th>\n",
       "      <th>cd</th>\n",
       "      <th>dist</th>\n",
       "      <th>dist_min</th>\n",
       "      <th>dist_max</th>\n",
       "      <th>v_rel</th>\n",
       "      <th>v_inf</th>\n",
       "      <th>t_sigma_f</th>\n",
       "      <th>h</th>\n",
       "    </tr>\n",
       "  </thead>\n",
       "  <tbody>\n",
       "    <tr>\n",
       "      <th>180844</th>\n",
       "      <td>2015 CL</td>\n",
       "      <td>7</td>\n",
       "      <td>2451544.575085225</td>\n",
       "      <td>2000-01-01 01:48:00</td>\n",
       "      <td>0.144929602021186</td>\n",
       "      <td>0.144894711605919</td>\n",
       "      <td>0.144964493657327</td>\n",
       "      <td>12.0338907050642</td>\n",
       "      <td>12.0323628689746</td>\n",
       "      <td>00:19</td>\n",
       "      <td>25.3</td>\n",
       "    </tr>\n",
       "  </tbody>\n",
       "</table>\n",
       "</div>"
      ],
      "text/plain": [
       "            des orbit_id                 jd                  cd  \\\n",
       "180844  2015 CL        7  2451544.575085225 2000-01-01 01:48:00   \n",
       "\n",
       "                     dist           dist_min           dist_max  \\\n",
       "180844  0.144929602021186  0.144894711605919  0.144964493657327   \n",
       "\n",
       "                   v_rel             v_inf t_sigma_f     h  \n",
       "180844  12.0338907050642  12.0323628689746     00:19  25.3  "
      ]
     },
     "execution_count": 24,
     "metadata": {},
     "output_type": "execute_result"
    }
   ],
   "source": [
    "filtered_cad"
   ]
  },
  {
   "cell_type": "code",
   "execution_count": 29,
   "metadata": {},
   "outputs": [
    {
     "data": {
      "text/plain": [
       "180844    0.145\n",
       "Name: dist, dtype: float64"
      ]
     },
     "execution_count": 29,
     "metadata": {},
     "output_type": "execute_result"
    }
   ],
   "source": [
    "# Round the 'dist' column to 3 decimal places\n",
    "filtered_cad['dist'].astype(float).round(3)"
   ]
  },
  {
   "cell_type": "markdown",
   "metadata": {},
   "source": [
    "### On `January 1st, 2000`, how fast did the NEO whose primary designation is `\"2002 PB\"` pass by Earth?"
   ]
  },
  {
   "cell_type": "code",
   "execution_count": 30,
   "metadata": {},
   "outputs": [],
   "source": [
    "filtered_cad = cad[(cad['cd'].dt.date == pd.to_datetime('2000-01-01').date()) & (cad['des'] == '2002 PB')]"
   ]
  },
  {
   "cell_type": "code",
   "execution_count": 31,
   "metadata": {},
   "outputs": [
    {
     "data": {
      "text/html": [
       "<div>\n",
       "<style scoped>\n",
       "    .dataframe tbody tr th:only-of-type {\n",
       "        vertical-align: middle;\n",
       "    }\n",
       "\n",
       "    .dataframe tbody tr th {\n",
       "        vertical-align: top;\n",
       "    }\n",
       "\n",
       "    .dataframe thead th {\n",
       "        text-align: right;\n",
       "    }\n",
       "</style>\n",
       "<table border=\"1\" class=\"dataframe\">\n",
       "  <thead>\n",
       "    <tr style=\"text-align: right;\">\n",
       "      <th></th>\n",
       "      <th>des</th>\n",
       "      <th>orbit_id</th>\n",
       "      <th>jd</th>\n",
       "      <th>cd</th>\n",
       "      <th>dist</th>\n",
       "      <th>dist_min</th>\n",
       "      <th>dist_max</th>\n",
       "      <th>v_rel</th>\n",
       "      <th>v_inf</th>\n",
       "      <th>t_sigma_f</th>\n",
       "      <th>h</th>\n",
       "    </tr>\n",
       "  </thead>\n",
       "  <tbody>\n",
       "    <tr>\n",
       "      <th>180845</th>\n",
       "      <td>2002 PB</td>\n",
       "      <td>22</td>\n",
       "      <td>2451544.656861311</td>\n",
       "      <td>2000-01-01 03:46:00</td>\n",
       "      <td>0.499221505520251</td>\n",
       "      <td>0.499198890779505</td>\n",
       "      <td>0.499244120869353</td>\n",
       "      <td>29.3862908945476</td>\n",
       "      <td>29.3861092695424</td>\n",
       "      <td>&lt; 00:01</td>\n",
       "      <td>20.5</td>\n",
       "    </tr>\n",
       "  </tbody>\n",
       "</table>\n",
       "</div>"
      ],
      "text/plain": [
       "            des orbit_id                 jd                  cd  \\\n",
       "180845  2002 PB       22  2451544.656861311 2000-01-01 03:46:00   \n",
       "\n",
       "                     dist           dist_min           dist_max  \\\n",
       "180845  0.499221505520251  0.499198890779505  0.499244120869353   \n",
       "\n",
       "                   v_rel             v_inf t_sigma_f     h  \n",
       "180845  29.3862908945476  29.3861092695424   < 00:01  20.5  "
      ]
     },
     "execution_count": 31,
     "metadata": {},
     "output_type": "execute_result"
    }
   ],
   "source": [
    "filtered_cad"
   ]
  },
  {
   "cell_type": "code",
   "execution_count": 32,
   "metadata": {},
   "outputs": [
    {
     "data": {
      "text/plain": [
       "180845    29.39\n",
       "Name: v_rel, dtype: float64"
      ]
     },
     "execution_count": 32,
     "metadata": {},
     "output_type": "execute_result"
    }
   ],
   "source": [
    "filtered_cad['v_rel'].astype(float).round(2)"
   ]
  },
  {
   "cell_type": "markdown",
   "metadata": {},
   "source": [
    "This concludes our initial analysis of these datasets."
   ]
  },
  {
   "cell_type": "markdown",
   "metadata": {},
   "source": [
    "## Project Interface"
   ]
  },
  {
   "cell_type": "code",
   "execution_count": 5,
   "metadata": {},
   "outputs": [
    {
     "name": "stderr",
     "output_type": "stream",
     "text": [
      "/var/folders/5r/36v862y17991gp14kn_1mn_40000gn/T/ipykernel_3279/4201901270.py:1: DtypeWarning: Columns (4) have mixed types. Specify dtype option on import or set low_memory=False.\n",
      "  neos = pd.read_csv('data/neos.csv', usecols=['pdes', 'name', 'diameter', 'pha'])\n"
     ]
    }
   ],
   "source": [
    "neos = pd.read_csv('data/neos.csv', usecols=['pdes', 'name', 'diameter', 'pha'])\n",
    "\n",
    "with open('data/cad.json', 'r') as file:\n",
    "    json_data = json.load(file)\n",
    "\n",
    "cad = pd.DataFrame(json_data['data'], columns=json_data['fields'])"
   ]
  },
  {
   "cell_type": "code",
   "execution_count": 8,
   "metadata": {},
   "outputs": [
    {
     "data": {
      "text/plain": [
       "((23967, 4),\n",
       " (406785, 11),\n",
       " Index(['pdes', 'name', 'pha', 'diameter'], dtype='object'),\n",
       " Index(['des', 'orbit_id', 'jd', 'cd', 'dist', 'dist_min', 'dist_max', 'v_rel',\n",
       "        'v_inf', 't_sigma_f', 'h'],\n",
       "       dtype='object'))"
      ]
     },
     "execution_count": 8,
     "metadata": {},
     "output_type": "execute_result"
    }
   ],
   "source": [
    "neos.shape, cad.shape, neos.columns, cad.columns"
   ]
  },
  {
   "cell_type": "code",
   "execution_count": 7,
   "metadata": {},
   "outputs": [
    {
     "data": {
      "text/html": [
       "<div>\n",
       "<style scoped>\n",
       "    .dataframe tbody tr th:only-of-type {\n",
       "        vertical-align: middle;\n",
       "    }\n",
       "\n",
       "    .dataframe tbody tr th {\n",
       "        vertical-align: top;\n",
       "    }\n",
       "\n",
       "    .dataframe thead th {\n",
       "        text-align: right;\n",
       "    }\n",
       "</style>\n",
       "<table border=\"1\" class=\"dataframe\">\n",
       "  <thead>\n",
       "    <tr style=\"text-align: right;\">\n",
       "      <th></th>\n",
       "      <th>pdes</th>\n",
       "      <th>name</th>\n",
       "      <th>pha</th>\n",
       "      <th>diameter</th>\n",
       "    </tr>\n",
       "  </thead>\n",
       "  <tbody>\n",
       "    <tr>\n",
       "      <th>0</th>\n",
       "      <td>433</td>\n",
       "      <td>Eros</td>\n",
       "      <td>N</td>\n",
       "      <td>16.84</td>\n",
       "    </tr>\n",
       "    <tr>\n",
       "      <th>1</th>\n",
       "      <td>719</td>\n",
       "      <td>Albert</td>\n",
       "      <td>N</td>\n",
       "      <td>NaN</td>\n",
       "    </tr>\n",
       "    <tr>\n",
       "      <th>2</th>\n",
       "      <td>887</td>\n",
       "      <td>Alinda</td>\n",
       "      <td>N</td>\n",
       "      <td>4.20</td>\n",
       "    </tr>\n",
       "  </tbody>\n",
       "</table>\n",
       "</div>"
      ],
      "text/plain": [
       "  pdes    name pha  diameter\n",
       "0  433    Eros   N     16.84\n",
       "1  719  Albert   N       NaN\n",
       "2  887  Alinda   N      4.20"
      ]
     },
     "execution_count": 7,
     "metadata": {},
     "output_type": "execute_result"
    }
   ],
   "source": [
    "neos.head(3)"
   ]
  },
  {
   "cell_type": "code",
   "execution_count": 11,
   "metadata": {},
   "outputs": [
    {
     "data": {
      "text/html": [
       "<div>\n",
       "<style scoped>\n",
       "    .dataframe tbody tr th:only-of-type {\n",
       "        vertical-align: middle;\n",
       "    }\n",
       "\n",
       "    .dataframe tbody tr th {\n",
       "        vertical-align: top;\n",
       "    }\n",
       "\n",
       "    .dataframe thead th {\n",
       "        text-align: right;\n",
       "    }\n",
       "</style>\n",
       "<table border=\"1\" class=\"dataframe\">\n",
       "  <thead>\n",
       "    <tr style=\"text-align: right;\">\n",
       "      <th></th>\n",
       "      <th>pdes</th>\n",
       "      <th>name</th>\n",
       "      <th>pha</th>\n",
       "      <th>diameter</th>\n",
       "    </tr>\n",
       "  </thead>\n",
       "  <tbody>\n",
       "    <tr>\n",
       "      <th>3</th>\n",
       "      <td>1036</td>\n",
       "      <td>Ganymed</td>\n",
       "      <td>N</td>\n",
       "      <td>37.675</td>\n",
       "    </tr>\n",
       "  </tbody>\n",
       "</table>\n",
       "</div>"
      ],
      "text/plain": [
       "   pdes     name pha  diameter\n",
       "3  1036  Ganymed   N    37.675"
      ]
     },
     "execution_count": 11,
     "metadata": {},
     "output_type": "execute_result"
    }
   ],
   "source": [
    "# Filter NEOs with pdes '1036'\n",
    "neos[neos['pdes'] == '1036']"
   ]
  },
  {
   "cell_type": "code",
   "execution_count": 12,
   "metadata": {},
   "outputs": [
    {
     "data": {
      "text/html": [
       "<div>\n",
       "<style scoped>\n",
       "    .dataframe tbody tr th:only-of-type {\n",
       "        vertical-align: middle;\n",
       "    }\n",
       "\n",
       "    .dataframe tbody tr th {\n",
       "        vertical-align: top;\n",
       "    }\n",
       "\n",
       "    .dataframe thead th {\n",
       "        text-align: right;\n",
       "    }\n",
       "</style>\n",
       "<table border=\"1\" class=\"dataframe\">\n",
       "  <thead>\n",
       "    <tr style=\"text-align: right;\">\n",
       "      <th></th>\n",
       "      <th>des</th>\n",
       "      <th>orbit_id</th>\n",
       "      <th>jd</th>\n",
       "      <th>cd</th>\n",
       "      <th>dist</th>\n",
       "      <th>dist_min</th>\n",
       "      <th>dist_max</th>\n",
       "      <th>v_rel</th>\n",
       "      <th>v_inf</th>\n",
       "      <th>t_sigma_f</th>\n",
       "      <th>h</th>\n",
       "    </tr>\n",
       "  </thead>\n",
       "  <tbody>\n",
       "    <tr>\n",
       "      <th>18906</th>\n",
       "      <td>1036</td>\n",
       "      <td>794</td>\n",
       "      <td>2419325.302603639</td>\n",
       "      <td>1911-Oct-15 19:16</td>\n",
       "      <td>0.381362839855777</td>\n",
       "      <td>0.381361938561094</td>\n",
       "      <td>0.381363741154362</td>\n",
       "      <td>17.0936978226911</td>\n",
       "      <td>17.0932890864433</td>\n",
       "      <td>&lt; 00:01</td>\n",
       "      <td>9.4</td>\n",
       "    </tr>\n",
       "    <tr>\n",
       "      <th>40018</th>\n",
       "      <td>1036</td>\n",
       "      <td>794</td>\n",
       "      <td>2424075.535567951</td>\n",
       "      <td>1924-Oct-17 00:51</td>\n",
       "      <td>0.496274614603618</td>\n",
       "      <td>0.49627343293476</td>\n",
       "      <td>0.496275796274113</td>\n",
       "      <td>19.3628654227641</td>\n",
       "      <td>19.3625881394229</td>\n",
       "      <td>&lt; 00:01</td>\n",
       "      <td>9.4</td>\n",
       "    </tr>\n",
       "    <tr>\n",
       "      <th>178142</th>\n",
       "      <td>1036</td>\n",
       "      <td>794</td>\n",
       "      <td>2451100.716467352</td>\n",
       "      <td>1998-Oct-14 05:12</td>\n",
       "      <td>0.464262946654528</td>\n",
       "      <td>0.464262678312156</td>\n",
       "      <td>0.464263214997086</td>\n",
       "      <td>13.6399792167938</td>\n",
       "      <td>13.6395584501313</td>\n",
       "      <td>&lt; 00:01</td>\n",
       "      <td>9.4</td>\n",
       "    </tr>\n",
       "    <tr>\n",
       "      <th>213764</th>\n",
       "      <td>1036</td>\n",
       "      <td>794</td>\n",
       "      <td>2455847.502920525</td>\n",
       "      <td>2011-Oct-13 00:04</td>\n",
       "      <td>0.359104318674552</td>\n",
       "      <td>0.359104097988656</td>\n",
       "      <td>0.359104539360511</td>\n",
       "      <td>14.304703704289</td>\n",
       "      <td>14.3041849989285</td>\n",
       "      <td>&lt; 00:01</td>\n",
       "      <td>9.4</td>\n",
       "    </tr>\n",
       "    <tr>\n",
       "      <th>262397</th>\n",
       "      <td>1036</td>\n",
       "      <td>794</td>\n",
       "      <td>2460596.580526249</td>\n",
       "      <td>2024-Oct-13 01:56</td>\n",
       "      <td>0.37409718734356</td>\n",
       "      <td>0.374096916974811</td>\n",
       "      <td>0.374097457712372</td>\n",
       "      <td>16.3343740524295</td>\n",
       "      <td>16.3339380075269</td>\n",
       "      <td>&lt; 00:01</td>\n",
       "      <td>9.4</td>\n",
       "    </tr>\n",
       "    <tr>\n",
       "      <th>290751</th>\n",
       "      <td>1036</td>\n",
       "      <td>794</td>\n",
       "      <td>2465347.271297827</td>\n",
       "      <td>2037-Oct-15 18:31</td>\n",
       "      <td>0.466187644979184</td>\n",
       "      <td>0.466187109086797</td>\n",
       "      <td>0.466188180871889</td>\n",
       "      <td>18.6810529423632</td>\n",
       "      <td>18.6807469900069</td>\n",
       "      <td>&lt; 00:01</td>\n",
       "      <td>9.4</td>\n",
       "    </tr>\n",
       "  </tbody>\n",
       "</table>\n",
       "</div>"
      ],
      "text/plain": [
       "         des orbit_id                 jd                 cd  \\\n",
       "18906   1036      794  2419325.302603639  1911-Oct-15 19:16   \n",
       "40018   1036      794  2424075.535567951  1924-Oct-17 00:51   \n",
       "178142  1036      794  2451100.716467352  1998-Oct-14 05:12   \n",
       "213764  1036      794  2455847.502920525  2011-Oct-13 00:04   \n",
       "262397  1036      794  2460596.580526249  2024-Oct-13 01:56   \n",
       "290751  1036      794  2465347.271297827  2037-Oct-15 18:31   \n",
       "\n",
       "                     dist           dist_min           dist_max  \\\n",
       "18906   0.381362839855777  0.381361938561094  0.381363741154362   \n",
       "40018   0.496274614603618   0.49627343293476  0.496275796274113   \n",
       "178142  0.464262946654528  0.464262678312156  0.464263214997086   \n",
       "213764  0.359104318674552  0.359104097988656  0.359104539360511   \n",
       "262397   0.37409718734356  0.374096916974811  0.374097457712372   \n",
       "290751  0.466187644979184  0.466187109086797  0.466188180871889   \n",
       "\n",
       "                   v_rel             v_inf t_sigma_f    h  \n",
       "18906   17.0936978226911  17.0932890864433   < 00:01  9.4  \n",
       "40018   19.3628654227641  19.3625881394229   < 00:01  9.4  \n",
       "178142  13.6399792167938  13.6395584501313   < 00:01  9.4  \n",
       "213764   14.304703704289  14.3041849989285   < 00:01  9.4  \n",
       "262397  16.3343740524295  16.3339380075269   < 00:01  9.4  \n",
       "290751  18.6810529423632  18.6807469900069   < 00:01  9.4  "
      ]
     },
     "execution_count": 12,
     "metadata": {},
     "output_type": "execute_result"
    }
   ],
   "source": [
    "# Find its approaches in the 'cad' DataFrame\n",
    "cad[cad['des'] == '1036']"
   ]
  }
 ],
 "metadata": {
  "kernelspec": {
   "display_name": "venv",
   "language": "python",
   "name": "python3"
  },
  "language_info": {
   "codemirror_mode": {
    "name": "ipython",
    "version": 3
   },
   "file_extension": ".py",
   "mimetype": "text/x-python",
   "name": "python",
   "nbconvert_exporter": "python",
   "pygments_lexer": "ipython3",
   "version": "3.12.4"
  }
 },
 "nbformat": 4,
 "nbformat_minor": 2
}
