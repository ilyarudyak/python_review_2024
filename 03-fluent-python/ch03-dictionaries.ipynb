{
 "cells": [
  {
   "cell_type": "code",
   "execution_count": null,
   "id": "1aeead18-c375-4131-894e-72924991975c",
   "metadata": {},
   "outputs": [],
   "source": []
  },
  {
   "cell_type": "code",
   "execution_count": null,
   "id": "65eaa012-c252-49c3-b88a-c33e4dc98173",
   "metadata": {},
   "outputs": [],
   "source": []
  },
  {
   "cell_type": "code",
   "execution_count": null,
   "id": "f1a6067a-c36a-4f36-bcd7-3c4cc25fea0a",
   "metadata": {},
   "outputs": [],
   "source": []
  },
  {
   "cell_type": "markdown",
   "id": "ba1b7609-5815-46da-ae58-f01a376a2941",
   "metadata": {},
   "source": [
    "## Modern `dict` Syntax"
   ]
  },
  {
   "cell_type": "markdown",
   "id": "8b8af549-c968-4550-8271-c6d5f9eba755",
   "metadata": {},
   "source": [
    "### `dict` Comprehensions"
   ]
  },
  {
   "cell_type": "code",
   "execution_count": 1,
   "id": "e9959035-299a-4521-8777-32e5b71f4a3c",
   "metadata": {},
   "outputs": [],
   "source": [
    "dial_codes = [                                                  # <1>\n",
    "    (880, 'Bangladesh'),\n",
    "    (55,  'Brazil'),\n",
    "    (86,  'China'),\n",
    "    (91,  'India'),\n",
    "    (62,  'Indonesia'),\n",
    "    (81,  'Japan'),\n",
    "    (234, 'Nigeria'),\n",
    "    (92,  'Pakistan'),\n",
    "    (7,   'Russia'),\n",
    "    (1,   'United States'),\n",
    "]"
   ]
  },
  {
   "cell_type": "code",
   "execution_count": 2,
   "id": "aa88349d-c3f7-4b58-befe-06b134fa9905",
   "metadata": {},
   "outputs": [],
   "source": [
    "# Let's create a dict using comprehensions\n",
    "country_dial = {country: code for code, country in dial_codes}"
   ]
  },
  {
   "cell_type": "code",
   "execution_count": 3,
   "id": "dc960445-d585-4e33-b095-c2ddeeb7c6d7",
   "metadata": {},
   "outputs": [
    {
     "data": {
      "text/plain": [
       "{'Bangladesh': 880,\n",
       " 'Brazil': 55,\n",
       " 'China': 86,\n",
       " 'India': 91,\n",
       " 'Indonesia': 62,\n",
       " 'Japan': 81,\n",
       " 'Nigeria': 234,\n",
       " 'Pakistan': 92,\n",
       " 'Russia': 7,\n",
       " 'United States': 1}"
      ]
     },
     "execution_count": 3,
     "metadata": {},
     "output_type": "execute_result"
    }
   ],
   "source": [
    "country_dial"
   ]
  },
  {
   "cell_type": "code",
   "execution_count": 4,
   "id": "53ad09ea-0b40-4101-809e-3c55f2816c98",
   "metadata": {},
   "outputs": [
    {
     "data": {
      "text/plain": [
       "{1: 'UNITED STATES', 7: 'RUSSIA', 55: 'BRAZIL', 62: 'INDONESIA'}"
      ]
     },
     "execution_count": 4,
     "metadata": {},
     "output_type": "execute_result"
    }
   ],
   "source": [
    "# Let's reverse the dictionary, turn countries into upper case, sort by code and limit code < 70\n",
    "{code: country.upper() for country, code in sorted(country_dial.items(), key=lambda x: int(x[1])) if code < 70}"
   ]
  },
  {
   "cell_type": "code",
   "execution_count": 5,
   "id": "8551c61f-5f11-4c10-a7b9-96d0bd1805ed",
   "metadata": {},
   "outputs": [
    {
     "data": {
      "text/plain": [
       "{55: 'BRAZIL', 62: 'INDONESIA', 7: 'RUSSIA', 1: 'UNITED STATES'}"
      ]
     },
     "execution_count": 5,
     "metadata": {},
     "output_type": "execute_result"
    }
   ],
   "source": [
    "# Sort by a country name\n",
    "{code: country.upper() for country, code in sorted(country_dial.items(), key=lambda x: x[0]) if code < 70}"
   ]
  },
  {
   "cell_type": "markdown",
   "id": "0f9d90fa-91d7-48be-bb78-30d76ab89207",
   "metadata": {},
   "source": [
    "### Unpacking Mappings"
   ]
  },
  {
   "cell_type": "code",
   "execution_count": 6,
   "id": "84bbfe6f-15fc-4457-b6de-b900d064fdc1",
   "metadata": {},
   "outputs": [],
   "source": [
    "def f(*args): print(args)"
   ]
  },
  {
   "cell_type": "code",
   "execution_count": 7,
   "id": "1d354bd3-4c6c-451f-8d8f-983bef57b6f8",
   "metadata": {},
   "outputs": [
    {
     "name": "stdout",
     "output_type": "stream",
     "text": [
      "(1, 2, 3, 4)\n"
     ]
    }
   ],
   "source": [
    "f(1, 2, 3, 4)"
   ]
  },
  {
   "cell_type": "code",
   "execution_count": 8,
   "id": "64a57b9d-9b00-4f17-a08b-cab83c2f2428",
   "metadata": {},
   "outputs": [],
   "source": [
    "def g(**kwargs): print(kwargs)"
   ]
  },
  {
   "cell_type": "code",
   "execution_count": 9,
   "id": "52cf1f2f-ba98-4a31-aeab-7e3c1c8e0452",
   "metadata": {},
   "outputs": [
    {
     "name": "stdout",
     "output_type": "stream",
     "text": [
      "{'x': 1, 'y': 2}\n"
     ]
    }
   ],
   "source": [
    "g(**{'x': 1, 'y': 2})"
   ]
  },
  {
   "cell_type": "code",
   "execution_count": 10,
   "id": "9932760c-99ab-4994-86f2-a6fa7426c6e2",
   "metadata": {},
   "outputs": [
    {
     "name": "stdout",
     "output_type": "stream",
     "text": [
      "{'x': 1, 'y': 2}\n"
     ]
    }
   ],
   "source": [
    "g(x=1, y=2)"
   ]
  },
  {
   "cell_type": "code",
   "execution_count": 11,
   "id": "3fee1944-3ee2-4086-aade-e593c6fc623f",
   "metadata": {},
   "outputs": [
    {
     "name": "stdout",
     "output_type": "stream",
     "text": [
      "{'x': 1, 'y': 2, 'z': 3}\n"
     ]
    }
   ],
   "source": [
    "g(**{'x': 1}, y=2, **{'z': 3})"
   ]
  },
  {
   "cell_type": "code",
   "execution_count": null,
   "id": "5e381aa5-b09a-4cad-a384-4ab2ac75ce79",
   "metadata": {},
   "outputs": [],
   "source": []
  },
  {
   "cell_type": "code",
   "execution_count": null,
   "id": "d2de772a-fb3f-49a8-9109-6fe460321193",
   "metadata": {},
   "outputs": [],
   "source": []
  }
 ],
 "metadata": {
  "kernelspec": {
   "display_name": "Python 3 (ipykernel)",
   "language": "python",
   "name": "python3"
  },
  "language_info": {
   "codemirror_mode": {
    "name": "ipython",
    "version": 3
   },
   "file_extension": ".py",
   "mimetype": "text/x-python",
   "name": "python",
   "nbconvert_exporter": "python",
   "pygments_lexer": "ipython3",
   "version": "3.12.4"
  }
 },
 "nbformat": 4,
 "nbformat_minor": 5
}
